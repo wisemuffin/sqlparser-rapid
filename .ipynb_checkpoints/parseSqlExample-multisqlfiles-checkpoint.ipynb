{
 "cells": [
  {
   "cell_type": "markdown",
   "metadata": {},
   "source": [
    "# using sqlparse to create meta data\n",
    "limitations\n",
    "- when using spaces in tables names with reserved keyworkds, e.g. case in \"tableau enc case view\"\n",
    "\n",
    "Have solved this by changing sq_metadata"
   ]
  },
  {
   "cell_type": "code",
   "execution_count": 440,
   "metadata": {},
   "outputs": [
    {
     "name": "stdout",
     "output_type": "stream",
     "text": [
      "# conda environments:\n",
      "#\n",
      "base                     /home/davidgriffiths/miniconda3\n",
      "sqlparse              *  /home/davidgriffiths/miniconda3/envs/sqlparse\n",
      "\n"
     ]
    }
   ],
   "source": [
    "!conda info --envs"
   ]
  },
  {
   "cell_type": "code",
   "execution_count": 441,
   "metadata": {},
   "outputs": [],
   "source": [
    "import sql_metadata"
   ]
  },
  {
   "cell_type": "code",
   "execution_count": 442,
   "metadata": {},
   "outputs": [],
   "source": [
    "import re\n",
    "from typing import List, Tuple, Optional, Dict\n",
    "import sqlparse\n",
    "\n",
    "from sqlparse.sql import TokenList\n",
    "from sqlparse.tokens import Name, Whitespace, Wildcard, Number, Punctuation, DDL"
   ]
  },
  {
   "cell_type": "markdown",
   "metadata": {},
   "source": [
    "# re built get_query_tokens\n",
    "need to account for multiple queries in a file"
   ]
  },
  {
   "cell_type": "code",
   "execution_count": 443,
   "metadata": {},
   "outputs": [],
   "source": [
    "def get_query_tokens(query: str) -> List[sqlparse.sql.Token]:\n",
    "    \"\"\"\n",
    "    daves changes: sqlparse.parse(query) returns a tuple if multiple queries \";\" need to handle this\n",
    "    :type query str\n",
    "    :rtype: list[{queryNoWithinFile str,  tokens: list[sqlparse.sql.Token]}\n",
    "    \"\"\"\n",
    "    query = sql_metadata.preprocess_query(query)\n",
    "    parsed = sqlparse.parse(query)\n",
    "\n",
    "    # handle empty queries (#12)\n",
    "    if not parsed:\n",
    "        return []\n",
    "\n",
    "    queries_list_and_tokens =[]\n",
    "    n=0\n",
    "    for qry in parsed:\n",
    "        tokens = TokenList(qry.tokens).flatten()\n",
    "        # print([(token.value, token.ttype) for token in tokens])\n",
    "\n",
    "        dic = {\"queryNoWithinFile\":n,\"tokens\":[token for token in tokens if token.ttype is not Whitespace]}\n",
    "        queries_list_and_tokens.append(dic)\n",
    "        n = n+1\n",
    "    return queries_list_and_tokens"
   ]
  },
  {
   "cell_type": "markdown",
   "metadata": {},
   "source": [
    "# re built get_query_tables\n",
    "i remvoed the quote removal"
   ]
  },
  {
   "cell_type": "code",
   "execution_count": 444,
   "metadata": {},
   "outputs": [],
   "source": [
    "def get_query_tables(query: str) -> List[str]:\n",
    "    \"\"\"\n",
    "    :type query str\n",
    "    :rtype: list[str]\n",
    "    \"\"\"\n",
    "    \n",
    "\n",
    "    table_syntax_keywords = [\n",
    "        # SELECT queries\n",
    "        'FROM', 'WHERE', 'JOIN', 'INNER JOIN', 'FULL JOIN', 'FULL OUTER JOIN',\n",
    "        'LEFT OUTER JOIN', 'RIGHT OUTER JOIN',\n",
    "        'LEFT JOIN', 'RIGHT JOIN', 'ON',\n",
    "        # INSERT queries\n",
    "        'INTO', 'VALUES',\n",
    "        # UPDATE queries\n",
    "        'UPDATE', 'SET',\n",
    "        # Hive queries\n",
    "        'TABLE',  # INSERT TABLE\n",
    "        # CREATE queries\n",
    "        'CREATE'\n",
    "    ]\n",
    "    \n",
    "#     print(sql_metadata.get_query_tokens(query))\n",
    "#     query = query.replace('\"', '')\n",
    "    query = sqlparse.format(query, strip_comments=True).strip()\n",
    "#     print(query)\n",
    "    queries_list_and_tokens = get_query_tokens(query)\n",
    "    \n",
    "    queries_list_and_tokens_parsed =[]\n",
    "    \n",
    "    for query_and_tokens in queries_list_and_tokens:\n",
    "        parent_table_list = []\n",
    "        parent_table_counter = 0 # increments to 2 to get schema and table\n",
    "        tables = []\n",
    "        last_keyword = None\n",
    "        last_ddl =None\n",
    "        \n",
    "        for index, token in enumerate(query_and_tokens['tokens']):\n",
    "#             print([token, token.ttype, last_keyword,last_ddl, token.value.upper(),parent_table_counter])\n",
    "            if token.is_keyword and token.value.upper() in table_syntax_keywords:\n",
    "                # keep the name of the last keyword, the next one can be a table name\n",
    "                last_keyword = token.value.upper()\n",
    "#                 print('keyword', last_keyword)\n",
    "            elif str(token.ttype) == 'Token.Keyword.DDL' and 'CREATE' in token.value.upper():\n",
    "                # keep the name of the last create, the next one can be annother table to create\n",
    "                last_ddl = 'CREATE'\n",
    "#                 print('keyword.lld', last_ddl)\n",
    "            elif str(token.ttype) == 'Token.Keyword.DDL' and 'DROP' in token.value.upper():\n",
    "                # keep the name of the last create, the next one can be annother table to create\n",
    "                last_ddl = 'DROP'\n",
    "#                 print('keyword.lld', last_ddl)\n",
    "            elif str(token) == '(':\n",
    "                # reset the last_keyword for INSERT `foo` VALUES(id, bar) ...\n",
    "                last_keyword = None\n",
    "            elif token.is_keyword and str(token) in ['FORCE', 'ORDER', 'GROUP BY']:\n",
    "                # reset the last_keyword for queries like:\n",
    "                # \"SELECT x FORCE INDEX\"\n",
    "                # \"SELECT x ORDER BY\"\n",
    "                # \"SELECT x FROM y GROUP BY x\"\n",
    "                last_keyword = None\n",
    "            elif token.is_keyword and str(token) == 'SELECT' and last_keyword in ['INTO', 'TABLE']:\n",
    "                # reset the last_keyword for \"INSERT INTO SELECT\" and \"INSERT TABLE SELECT\" queries\n",
    "                last_keyword = None\n",
    "            elif (token.ttype is Name or str(token.ttype) == 'Token.Literal.String.Symbol') and last_ddl in ['CREATE','DROP']:\n",
    "#                 print(\"found a CREATE or DROP\")\n",
    "                parent_table_list.append(str(token))\n",
    "                parent_table_counter = parent_table_counter + 1\n",
    "                if parent_table_counter > 1:\n",
    "                    last_ddl = None\n",
    "                    parent_table_counter = 0\n",
    "#                 parent_table = sql_metadata._update_table_names(tables, query_and_tokens['tokens'], index, last_keyword)\n",
    "            elif token.ttype is Name or token.ttype or token.is_keyword:\n",
    "                tables = sql_metadata._update_table_names(tables, query_and_tokens['tokens'], index, last_keyword)\n",
    "        unique_tables = sql_metadata.unique(tables)\n",
    "        dic = {\n",
    "            \"queryNoWithinFile\": query_and_tokens['queryNoWithinFile'],\n",
    "            \"tables\": unique_tables,\n",
    "            \"parent_table\": '.'.join(parent_table_list)\n",
    "        }\n",
    "        queries_list_and_tokens_parsed.append(dic)\n",
    "\n",
    "    return queries_list_and_tokens_parsed"
   ]
  },
  {
   "cell_type": "markdown",
   "metadata": {},
   "source": [
    "# working with multiple files"
   ]
  },
  {
   "cell_type": "code",
   "execution_count": 445,
   "metadata": {},
   "outputs": [],
   "source": [
    "import os\n",
    "from os import path\n",
    "from pathlib import Path"
   ]
  },
  {
   "cell_type": "markdown",
   "metadata": {},
   "source": [
    "# get all sql files"
   ]
  },
  {
   "cell_type": "code",
   "execution_count": 446,
   "metadata": {},
   "outputs": [],
   "source": [
    "files = os.listdir()"
   ]
  },
  {
   "cell_type": "code",
   "execution_count": 447,
   "metadata": {},
   "outputs": [],
   "source": [
    "files_filtered = list(filter(lambda x: re.search(r\"^.*\\.(sql)$\", x), files))"
   ]
  },
  {
   "cell_type": "markdown",
   "metadata": {},
   "source": [
    "# for each file read and parse out tables"
   ]
  },
  {
   "cell_type": "code",
   "execution_count": 448,
   "metadata": {},
   "outputs": [
    {
     "name": "stdout",
     "output_type": "stream",
     "text": [
      "[{'queryNoWithinFile': 0, 'tables': ['\"enc_dde\".\"tableau enc case field links view\"', '\"enc_dde\".\"tableau enc case view\"', '\"enc_dde\".\"tableau enc case snapshot view\"', '\"nbn_dde_23\".\"tableau location view\"'], 'parent_table': ''}]\n"
     ]
    }
   ],
   "source": [
    "with open('untitled.sql', 'r') as f:\n",
    "    query = f.read()\n",
    "    tables = get_query_tables(query)\n",
    "    print(tables)"
   ]
  },
  {
   "cell_type": "code",
   "execution_count": 449,
   "metadata": {},
   "outputs": [
    {
     "data": {
      "text/plain": [
       "[{'name': 'untitled.sql',\n",
       "  'depnd_tables': [{'queryNoWithinFile': 0,\n",
       "    'tables': ['\"enc_dde\".\"tableau enc case field links view\"',\n",
       "     '\"enc_dde\".\"tableau enc case view\"',\n",
       "     '\"enc_dde\".\"tableau enc case snapshot view\"',\n",
       "     '\"nbn_dde_23\".\"tableau location view\"'],\n",
       "    'parent_table': ''}]},\n",
       " {'name': 'untitled-Copy1.sql',\n",
       "  'depnd_tables': [{'queryNoWithinFile': 0,\n",
       "    'tables': ['\"enc_dde\".\"tableau enc case field dave view\"',\n",
       "     '\"enc_dde\".\"tableau dave view\"',\n",
       "     '\"enc_dde\".\"tableau dave\"',\n",
       "     '\"nbn_dde_23\".\"tableau dave loc view\"'],\n",
       "    'parent_table': ''}]}]"
      ]
     },
     "execution_count": 449,
     "metadata": {},
     "output_type": "execute_result"
    }
   ],
   "source": [
    "list_of_sql_views = []\n",
    "\n",
    "for file in files_filtered:\n",
    "    with open(file, 'r') as f:\n",
    "        query = f.read()\n",
    "        tables = get_query_tables(query)\n",
    "        \n",
    "        # create a dict\n",
    "        dic = {}\n",
    "        dic['name'] = file\n",
    "        dic['depnd_tables'] = tables\n",
    "        list_of_sql_views.append(dic)\n",
    "\n",
    "list_of_sql_views  "
   ]
  },
  {
   "cell_type": "markdown",
   "metadata": {},
   "source": [
    "# get all sql view depedncies"
   ]
  },
  {
   "cell_type": "markdown",
   "metadata": {},
   "source": [
    "### get all files in RAPID"
   ]
  },
  {
   "cell_type": "code",
   "execution_count": 450,
   "metadata": {},
   "outputs": [],
   "source": [
    "rapid_dirs = ['tableau_dde/transform/views'] # ['nbn_dde_23/tableau_views','tableau_dde/transform/views']"
   ]
  },
  {
   "cell_type": "code",
   "execution_count": 451,
   "metadata": {},
   "outputs": [
    {
     "data": {
      "text/plain": [
       "[{'fileName': 'tableau_fld_a11s_minified_xs_v.sql',\n",
       "  'path': '/home/davidgriffiths/csaa-aws-data-capability/tableau_dde/transform/views/tableau_fld_a11s_minified_xs_v.sql'},\n",
       " {'fileName': 'tableau_fld_a11s_minified_v.sql',\n",
       "  'path': '/home/davidgriffiths/csaa-aws-data-capability/tableau_dde/transform/views/tableau_fld_a11s_minified_v.sql'},\n",
       " {'fileName': 'tableau_csa_a26a_minified_repeat_tr_v.sql',\n",
       "  'path': '/home/davidgriffiths/csaa-aws-data-capability/tableau_dde/transform/views/tableau_csa_a26a_minified_repeat_tr_v.sql'}]"
      ]
     },
     "execution_count": 451,
     "metadata": {},
     "output_type": "execute_result"
    }
   ],
   "source": [
    "rapid_files = []\n",
    "for rapid_dir in rapid_dirs:\n",
    "    for dirpath, dirname, filenames in os.walk(os.path.join('/home/davidgriffiths/csaa-aws-data-capability',rapid_dir)):\n",
    "    #     print('Current path:', dirpath)\n",
    "    #     print('Directories:', dirname)\n",
    "    #     print('Files:', filenames)\n",
    "        for file in filenames:\n",
    "            file_dict = {\n",
    "                \"fileName\": file,\n",
    "                \"path\": os.path.join(dirpath,file),\n",
    "            }\n",
    "            rapid_files.append(file_dict)\n",
    "rapid_files[0:3]"
   ]
  },
  {
   "cell_type": "markdown",
   "metadata": {},
   "source": [
    "### keep only .sql files"
   ]
  },
  {
   "cell_type": "code",
   "execution_count": 452,
   "metadata": {},
   "outputs": [
    {
     "data": {
      "text/plain": [
       "[{'fileName': 'tableau_fld_a11s_minified_xs_v.sql',\n",
       "  'path': '/home/davidgriffiths/csaa-aws-data-capability/tableau_dde/transform/views/tableau_fld_a11s_minified_xs_v.sql'},\n",
       " {'fileName': 'tableau_fld_a11s_minified_v.sql',\n",
       "  'path': '/home/davidgriffiths/csaa-aws-data-capability/tableau_dde/transform/views/tableau_fld_a11s_minified_v.sql'},\n",
       " {'fileName': 'tableau_csa_a26a_minified_repeat_tr_v.sql',\n",
       "  'path': '/home/davidgriffiths/csaa-aws-data-capability/tableau_dde/transform/views/tableau_csa_a26a_minified_repeat_tr_v.sql'},\n",
       " {'fileName': 'tableau_neto_a11s_minified_service_rollback_v.sql',\n",
       "  'path': '/home/davidgriffiths/csaa-aws-data-capability/tableau_dde/transform/views/tableau_neto_a11s_minified_service_rollback_v.sql'},\n",
       " {'fileName': 'tableau_fld_a10_minified_otd_v.sql',\n",
       "  'path': '/home/davidgriffiths/csaa-aws-data-capability/tableau_dde/transform/views/tableau_fld_a10_minified_otd_v.sql'}]"
      ]
     },
     "execution_count": 452,
     "metadata": {},
     "output_type": "execute_result"
    }
   ],
   "source": [
    "rapid_files_filtered = list(filter(lambda x: re.search(r\"^.*\\.(sql)$\", x['fileName']), rapid_files))\n",
    "rapid_files_filtered[0:5]"
   ]
  },
  {
   "cell_type": "markdown",
   "metadata": {},
   "source": [
    "## loop through files"
   ]
  },
  {
   "cell_type": "code",
   "execution_count": 462,
   "metadata": {},
   "outputs": [
    {
     "data": {
      "text/plain": [
       "[{'fileName': 'tableau_fld_a11s_minified_xs_v.sql',\n",
       "  'name': 'tableau_fld_a11s_minified_xs_v',\n",
       "  'path': '/home/davidgriffiths/csaa-aws-data-capability/tableau_dde/transform/views/tableau_fld_a11s_minified_xs_v.sql',\n",
       "  'depnd_tables': ['tableau_dde.\"tableau_fld_a11s_minified_t\"'],\n",
       "  'all_parent': ['tableau_dde.tableau_fld_a11s_minified_xs_v']},\n",
       " {'fileName': 'tableau_fld_a11s_minified_v.sql',\n",
       "  'name': 'tableau_fld_a11s_minified_v',\n",
       "  'path': '/home/davidgriffiths/csaa-aws-data-capability/tableau_dde/transform/views/tableau_fld_a11s_minified_v.sql',\n",
       "  'depnd_tables': ['\"field_dde\".\"tableau field daily snapshot view\"',\n",
       "   '\"field_dde\".\"tableau field order incidents only links view\"',\n",
       "   '\"cc_dde\".\"tableau location view\"',\n",
       "   '\"cc_dde\".\"tableau cc orders view\"',\n",
       "   '\"cc_dde\".\"tableau product instance view\"',\n",
       "   '\"cc_dde\".\"tableau cc order additional attributes view\"',\n",
       "   '\"field_dde\".\"tableau field work order view\"',\n",
       "   '\"nbn_dde_23\".\"tableau incidents view\"',\n",
       "   '\"nbn_dde_23\".\"tableau incident additional attributes view\"',\n",
       "   '\"cc_dde\".\"tableau cc wo resolver group view\"',\n",
       "   'tt20',\n",
       "   'FLDA11SM_PRE'],\n",
       "  'all_parent': ['tableau_dde.\"tableau_fld_a11s_minified_v\"']},\n",
       " {'fileName': 'tableau_csa_a26a_minified_repeat_tr_v.sql',\n",
       "  'name': 'tableau_csa_a26a_minified_repeat_tr_v',\n",
       "  'path': '/home/davidgriffiths/csaa-aws-data-capability/tableau_dde/transform/views/tableau_csa_a26a_minified_repeat_tr_v.sql',\n",
       "  'depnd_tables': ['\"nbn_dde_23\".\"tableau repeat incidents view\"',\n",
       "   '\"nbn_dde_23\".\"tableau location view\"',\n",
       "   '\"nbn_dde_23\".\"tableau incidents view\"',\n",
       "   '\"nbn_dde_23\".\"tableau incident location links view\"',\n",
       "   '\"nbn_dde_23\".\"tableau prior product instance view\"',\n",
       "   '\"nbn_dde_23\".\"tableau prior incidents view\"',\n",
       "   '\"nbn_dde_23\".\"tableau prior incident additional attributes view\"',\n",
       "   '\"nbn_dde_23\".\"tableau product instance view\"',\n",
       "   '\"nbn_dde_23\".\"tableau incident additional attributes view\"',\n",
       "   '\"bia_sa_stg\".\"genesys_agent_team_mapping_v\"',\n",
       "   'tt10',\n",
       "   'tt20',\n",
       "   'tt35',\n",
       "   'tt50',\n",
       "   'tt40',\n",
       "   'tt60',\n",
       "   'tt70',\n",
       "   'tt80',\n",
       "   'tt10.*',\n",
       "   'tt80.repeat_sequence_number',\n",
       "   'tt80.location_seq_valid',\n",
       "   'tt80.last_incident_in_Set',\n",
       "   'tt80.repeat_Set'],\n",
       "  'all_parent': ['tableau_dde.tableau_csa_a26a_minified_repeat_tr_v']},\n",
       " {'fileName': 'tableau_neto_a11s_minified_service_rollback_v.sql',\n",
       "  'name': 'tableau_neto_a11s_minified_service_rollback_v',\n",
       "  'path': '/home/davidgriffiths/csaa-aws-data-capability/tableau_dde/transform/views/tableau_neto_a11s_minified_service_rollback_v.sql',\n",
       "  'depnd_tables': ['\"nbn_dde_23\".\"d_location_incident_snapshot_t\"',\n",
       "   '\"nbn_dde_23\".\"tableau location type 2 view\"',\n",
       "   '\"cc_dde\".\"tableau cc order daily snapshot for location view\"',\n",
       "   '\"cc_dde\".\"tableau cc orders view\"',\n",
       "   '\"cc_dde\".\"tableau cc loc order only links view\"',\n",
       "   '\"cc_dde\".\"tableau cc work order view\"',\n",
       "   '\"neto_dde\".\"tableau service class incident view\"',\n",
       "   '\"nbn_dde_23\".\"tableau service class changes view\"',\n",
       "   '\"nbn_dde_23\".\"tableau pni snapshot audit report view\"'],\n",
       "  'all_parent': ['tableau_dde.tableau_neto_a11s_minified_service_rollback_v']},\n",
       " {'fileName': 'tableau_fld_a10_minified_otd_v.sql',\n",
       "  'name': 'tableau_fld_a10_minified_otd_v',\n",
       "  'path': '/home/davidgriffiths/csaa-aws-data-capability/tableau_dde/transform/views/tableau_fld_a10_minified_otd_v.sql',\n",
       "  'depnd_tables': ['\"field_dde\".\"tableau field links view\"',\n",
       "   '\"field_dde\".\"tableau field work order view\"',\n",
       "   '\"nbn_dde_23\".\"tableau location view\"',\n",
       "   '\"nbn_dde_23\".\"tableau product instance view\"',\n",
       "   '\"nbn_dde_23\".\"tableau incidents view\"',\n",
       "   '\"nbn_dde_23\".\"tableau incident additional attributes view\"',\n",
       "   '\"cc_dde\".\"tableau cc orders view\"',\n",
       "   '\"cc_dde\".\"tableau cc order additional attributes view\"',\n",
       "   '\"nbn_dde_23\".\"TD Tableau Aged Incident View\"',\n",
       "   '\"field_dde\".\"tableau field appointment view\"'],\n",
       "  'all_parent': ['tableau_dde.tableau_fld_a10_minified_otd_v']}]"
      ]
     },
     "execution_count": 462,
     "metadata": {},
     "output_type": "execute_result"
    }
   ],
   "source": [
    "list_of_rapid_sql_views = []\n",
    "\n",
    "for file in rapid_files_filtered:\n",
    "    with open(file['path'], 'r') as f:\n",
    "        query = f.read()\n",
    "        queries_and_tables = get_query_tables(query)\n",
    "#         print(tables)\n",
    "\n",
    "        all_tables = []\n",
    "        all_parent = []\n",
    "        \n",
    "    \n",
    "        for qry in queries_and_tables:\n",
    "            for table in qry['tables']:\n",
    "                all_tables.append(table)\n",
    "                \n",
    "            all_parent.append(qry[\"parent_table\"])\n",
    "        \n",
    "        # create a dict\n",
    "        dic = {\n",
    "            'fileName': file['fileName'],\n",
    "            'name': os.path.splitext(file['fileName'])[0],\n",
    "            'path': file['path'],\n",
    "            'depnd_tables': all_tables,\n",
    "            # TODO parent table to split out, currently each time ';' we are just grouping tables\n",
    "            'all_parent': all_parent\n",
    "#             'parent_table': queries_and_tables[0]['parent_table'][0]\n",
    "            \n",
    "        }\n",
    "        list_of_rapid_sql_views.append(dic)\n",
    "\n",
    "list_of_rapid_sql_views[0:5]"
   ]
  },
  {
   "cell_type": "markdown",
   "metadata": {},
   "source": [
    "# write out as JSON"
   ]
  },
  {
   "cell_type": "code",
   "execution_count": 454,
   "metadata": {},
   "outputs": [],
   "source": [
    "import json"
   ]
  },
  {
   "cell_type": "code",
   "execution_count": 455,
   "metadata": {},
   "outputs": [],
   "source": [
    "# # loads json from string\n",
    "# datajsonstr=json.loads('{\"str\":\"str\"}')\n",
    "# datajsonstr"
   ]
  },
  {
   "cell_type": "code",
   "execution_count": 456,
   "metadata": {},
   "outputs": [],
   "source": [
    "# stringify = json.dumps(list_of_rapid_sql_views, indent=2)\n",
    "# stringify"
   ]
  },
  {
   "cell_type": "code",
   "execution_count": 457,
   "metadata": {},
   "outputs": [],
   "source": [
    "# with open('jsonfile.json') as f:\n",
    "#     data = json.load(f)"
   ]
  },
  {
   "cell_type": "code",
   "execution_count": 458,
   "metadata": {},
   "outputs": [],
   "source": [
    "with open('list_of_rapid_sql_views.json','w') as f:\n",
    "    json.dump(list_of_rapid_sql_views, f)"
   ]
  },
  {
   "cell_type": "markdown",
   "metadata": {},
   "source": [
    "# test out funny files"
   ]
  },
  {
   "cell_type": "code",
   "execution_count": 459,
   "metadata": {},
   "outputs": [],
   "source": [
    "filenamedave = '/home/davidgriffiths/csaa-aws-data-capability/nbn_dde_23/tableau_views/Tableau Incident WO Links View.sql'"
   ]
  },
  {
   "cell_type": "code",
   "execution_count": 460,
   "metadata": {},
   "outputs": [
    {
     "name": "stdout",
     "output_type": "stream",
     "text": [
      "[{'queryNoWithinFile': 0, 'tables': [], 'parent_table': 'nbn_dde_23.\"Tableau Incident WO Links View\"'}, {'queryNoWithinFile': 1, 'tables': ['nbn_dde_23.CSA_INCIDENT_LINKS_WO_T'], 'parent_table': 'nbn_dde_23.\"Tableau Incident WO Links View\"'}]\n"
     ]
    }
   ],
   "source": [
    "with open(filenamedave, 'r') as f:\n",
    "        query = f.read()\n",
    "#         print(query)\n",
    "        tables = get_query_tables(query)\n",
    "        print(tables)"
   ]
  },
  {
   "cell_type": "markdown",
   "metadata": {},
   "source": [
    "# problem sqlparse.parse doesnt do multiple queries"
   ]
  },
  {
   "cell_type": "code",
   "execution_count": 461,
   "metadata": {},
   "outputs": [
    {
     "name": "stdout",
     "output_type": "stream",
     "text": [
      "[{'queryNoWithinFile': 0, 'tokens': [<DDL 'drop' at 0x7F7FDD500768>, <Keyword 'view' at 0x7F7FDD500BE8>, <Keyword 'if' at 0x7F7FDD500588>, <Keyword 'exists' at 0x7F7FDD5001C8>, <Name 'nbn_dd...' at 0x7F7FDD500108>, <Punctuation '.' at 0x7F7FDD500AC8>, <Symbol '\"Table...' at 0x7F7FDD500A68>, <Punctuation ';' at 0x7F7FDD500A08>]}, {'queryNoWithinFile': 1, 'tokens': [<DDL 'CREATE...' at 0x7F7FDDBC6048>, <Keyword 'VIEW' at 0x7F7FDDBC6108>, <Name 'nbn_dd...' at 0x7F7FDDBC61C8>, <Punctuation '.' at 0x7F7FDDBC6228>, <Symbol '\"Table...' at 0x7F7FDDBC6288>, <Keyword 'AS' at 0x7F7FDDBC6348>, <DML 'SELECT' at 0x7F7FDDBC6408>, <Name 'INC_WO...' at 0x7F7FDDBC64C8>, <Punctuation ',' at 0x7F7FDDBC6828>, <Name 'INCIDE...' at 0x7F7FDDBC68E8>, <Punctuation ',' at 0x7F7FDD500048>, <Name 'APPOIN...' at 0x7F7FDD500E88>, <Punctuation ',' at 0x7F7FDD42D528>, <Name 'WORK_R...' at 0x7F7FDD42D768>, <Punctuation ',' at 0x7F7FDC114AC8>, <Name 'WORK_O...' at 0x7F7FDC114768>, <Punctuation ',' at 0x7F7FDC114DC8>, <Name 'PRI_ID...' at 0x7F7FDC1146A8>, <Punctuation ',' at 0x7F7FDC114B28>, <Name 'PRI_KE...' at 0x7F7FDC114EE8>, <Punctuation ',' at 0x7F7FDDBC69A8>, <Name 'DQ_COM...' at 0x7F7FDDBC6A68>, <Keyword 'as' at 0x7F7FDDBC6B28>, <Symbol '\"Data ...' at 0x7F7FDDBC6BE8>, <Punctuation ',' at 0x7F7FDDBC6F48>, <Name 'LOCATI...' at 0x7F7FDC11C048>, <Punctuation ',' at 0x7F7FDC11C948>, <Name 'APPOIN...' at 0x7F7FDC11CCA8>, <Punctuation ',' at 0x7F7FDC11CF48>, <Name 'EXC_1_...' at 0x7F7FDC11CA08>, <Keyword 'as' at 0x7F7FDC11CAC8>, <Symbol '\"Exclu...' at 0x7F7FDC11CBE8>, <Punctuation ',' at 0x7F7FDC11C2E8>, <Name 'EXC_2_...' at 0x7F7FDC11C3A8>, <Keyword 'as' at 0x7F7FDC11CB28>, <Symbol '\"Exclu...' at 0x7F7FDC11C4C8>, <Punctuation ',' at 0x7F7FDD509C48>, <Name 'EXC_3_...' at 0x7F7FDD509108>, <Keyword 'as' at 0x7F7FDD509A08>, <Symbol '\"Exclu...' at 0x7F7FDD509FA8>, <Punctuation ',' at 0x7F7FDD509048>, <Name 'EXC_4_...' at 0x7F7FDD5092E8>, <Keyword 'as' at 0x7F7FDD509B88>, <Symbol '\"Exclu...' at 0x7F7FDD509D68>, <Punctuation ',' at 0x7F7FDD5099A8>, <Name 'EXC_5_...' at 0x7F7FDD509828>, <Keyword 'as' at 0x7F7FDD4E6168>, <Symbol '\"Exclu...' at 0x7F7FDD4E6BE8>, <Punctuation ',' at 0x7F7FDD4E6468>, <Name 'EXC_6_...' at 0x7F7FDD4E6408>, <Keyword 'as' at 0x7F7FDD4E6A08>, <Symbol '\"Exclu...' at 0x7F7FDD4E6948>, <Punctuation ',' at 0x7F7FDD4E6828>, <Name 'EXC_7_...' at 0x7F7FDD4E62E8>, <Keyword 'as' at 0x7F7FDD4E6048>, <Symbol '\"Exclu...' at 0x7F7FDD4E6CA8>, <Punctuation ',' at 0x7F7FDD4E60A8>, <Name 'EXC_8_...' at 0x7F7FDD4D0C48>, <Keyword 'as' at 0x7F7FDD4D0AC8>, <Symbol '\"Exclu...' at 0x7F7FDD4D0E88>, <Punctuation ',' at 0x7F7FDD4D0708>, <Name 'EXC_9_...' at 0x7F7FDD4D0648>, <Keyword 'as' at 0x7F7FDD4D0528>, <Symbol '\"Exclu...' at 0x7F7FDD4D0768>, <Punctuation ',' at 0x7F7FDD4D0888>, <Name 'EXC_10...' at 0x7F7FDD4D07C8>, <Keyword 'as' at 0x7F7FDD4D0348>, <Symbol '\"Exclu...' at 0x7F7FDD4D00A8>, <Punctuation ',' at 0x7F7FDD4D0CA8>, <Name 'Exc_11...' at 0x7F7FDD4E74C8>, <Keyword 'as' at 0x7F7FDD4E7168>, <Symbol '\"Exclu...' at 0x7F7FDD4E7CA8>, <Punctuation ',' at 0x7F7FDD4E7888>, <Name 'EXC_12...' at 0x7F7FDD4E7BE8>, <Keyword 'as' at 0x7F7FDD4E7FA8>, <Symbol '\"Exclu...' at 0x7F7FDD4E7DC8>, <Punctuation ',' at 0x7F7FDD4E7108>, <Name 'Exc_13...' at 0x7F7FDD4E75E8>, <Keyword 'as' at 0x7F7FDD4E70A8>, <Symbol '\"Exclu...' at 0x7F7FDD4E7828>, <Single '--Deep...' at 0x7F7FDD4E7F48>]}]\n"
     ]
    }
   ],
   "source": [
    "with open(filenamedave, 'r') as f:\n",
    "        query = f.read()\n",
    "#         print(query)\n",
    "#         tables = get_query_tables(query)\n",
    "#         print(tables)\n",
    "\n",
    "        # is parsing within sql_metadata.get_query_tokens working\n",
    "#         res = sqlparse.parse(query)\n",
    "#         print(res[1]) ##  this second query isnt getting picked up\n",
    "        \n",
    "        print(get_query_tokens(query))\n",
    "        \n",
    "        "
   ]
  },
  {
   "cell_type": "code",
   "execution_count": null,
   "metadata": {},
   "outputs": [],
   "source": []
  }
 ],
 "metadata": {
  "kernelspec": {
   "display_name": "Python 3",
   "language": "python",
   "name": "python3"
  },
  "language_info": {
   "codemirror_mode": {
    "name": "ipython",
    "version": 3
   },
   "file_extension": ".py",
   "mimetype": "text/x-python",
   "name": "python",
   "nbconvert_exporter": "python",
   "pygments_lexer": "ipython3",
   "version": "3.6.10"
  }
 },
 "nbformat": 4,
 "nbformat_minor": 4
}
