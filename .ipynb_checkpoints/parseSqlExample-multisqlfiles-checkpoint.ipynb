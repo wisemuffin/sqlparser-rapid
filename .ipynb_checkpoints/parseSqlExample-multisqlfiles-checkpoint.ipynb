{
 "cells": [
  {
   "cell_type": "markdown",
   "metadata": {},
   "source": [
    "# using sqlparse to create meta data\n",
    "\n",
    "### instructions\n",
    "- git pull latest\n",
    "\n",
    "### limitations\n",
    "- [solevd] when using spaces in tables names with reserved keyworkds, e.g. case in \"tableau enc case view\"\n",
    "Have solved this by changing sq_metadata\n",
    "- COPY TRUNCATE INSERTED not supported yet example (will only pick up CREATE and DROP): /csaa-aws-data-capability/nbn_dde_23/load/batches/d_location-rs_full_load.sql\n",
    "\n",
    "### how does this work?\n",
    "- sql files is made up of one to many sql statements\n",
    "- each sql statments is made up of tokens\n",
    "- tokens seperate out keyworkds, DML, DDL, names and puncutation ect.\n",
    "\n",
    "### output\n",
    "- parent child relationships of every single sql statement in every sql file (can be multiple)\n",
    "- example:"
   ]
  },
  {
   "cell_type": "code",
   "execution_count": 576,
   "metadata": {},
   "outputs": [
    {
     "data": {
      "text/plain": [
       "[{'fileName': 'Tableau MTM Glide Path Target View.sql',\n",
       "  'name': 'Tableau MTM Glide Path Target View',\n",
       "  'path': '/home/davidgriffiths/csaa-aws-data-capability/nbn_dde_23/tableau_views/Tableau MTM Glide Path Target View.sql',\n",
       "  'depnd_tables': [],\n",
       "  'parent': 'nbn_dde_23.\"Tableau MTM Glide Path Target View\"',\n",
       "  'ddl_type': 'DROP'}]"
      ]
     },
     "execution_count": 576,
     "metadata": {},
     "output_type": "execute_result"
    }
   ],
   "source": [
    "# example output \n",
    "[{'fileName': 'Tableau MTM Glide Path Target View.sql',\n",
    "  'name': 'Tableau MTM Glide Path Target View',\n",
    "  'path': '/home/davidgriffiths/csaa-aws-data-capability/nbn_dde_23/tableau_views/Tableau MTM Glide Path Target View.sql',\n",
    "  'depnd_tables': [],\n",
    "  'parent': 'nbn_dde_23.\"Tableau MTM Glide Path Target View\"',\n",
    "  'ddl_type': 'DROP'}]"
   ]
  },
  {
   "cell_type": "markdown",
   "metadata": {},
   "source": [
    "# setup"
   ]
  },
  {
   "cell_type": "code",
   "execution_count": 577,
   "metadata": {},
   "outputs": [
    {
     "name": "stdout",
     "output_type": "stream",
     "text": [
      "# conda environments:\n",
      "#\n",
      "base                     /home/davidgriffiths/miniconda3\n",
      "sqlparse              *  /home/davidgriffiths/miniconda3/envs/sqlparse\n",
      "\n"
     ]
    }
   ],
   "source": [
    "!conda info --envs"
   ]
  },
  {
   "cell_type": "code",
   "execution_count": 578,
   "metadata": {},
   "outputs": [],
   "source": [
    "import sql_metadata"
   ]
  },
  {
   "cell_type": "code",
   "execution_count": 579,
   "metadata": {},
   "outputs": [],
   "source": [
    "import re\n",
    "from typing import List, Tuple, Optional, Dict\n",
    "import sqlparse\n",
    "\n",
    "from sqlparse.sql import TokenList\n",
    "from sqlparse.tokens import Name, Whitespace, Wildcard, Number, Punctuation, DDL "
   ]
  },
  {
   "cell_type": "markdown",
   "metadata": {},
   "source": [
    "# re built get_query_tokens\n",
    "need to account for multiple queries in a file"
   ]
  },
  {
   "cell_type": "code",
   "execution_count": 580,
   "metadata": {},
   "outputs": [],
   "source": [
    "def get_query_tokens(query: str) -> List[sqlparse.sql.Token]:\n",
    "    \"\"\"\n",
    "    daves changes: sqlparse.parse(query) returns a tuple if multiple queries \";\" need to handle this\n",
    "    :type query str\n",
    "    :rtype: list[{queryNoWithinFile str,  tokens: list[sqlparse.sql.Token]}\n",
    "    \"\"\"\n",
    "    query = sql_metadata.preprocess_query(query)\n",
    "    parsed = sqlparse.parse(query)\n",
    "\n",
    "    # handle empty queries (#12)\n",
    "    if not parsed:\n",
    "        return []\n",
    "\n",
    "    queries_list_and_tokens =[]\n",
    "    n=0\n",
    "    for qry in parsed:\n",
    "        tokens = TokenList(qry.tokens).flatten()\n",
    "        # print([(token.value, token.ttype) for token in tokens])\n",
    "\n",
    "        dic = {\"queryNoWithinFile\":n,\"tokens\":[token for token in tokens if token.ttype is not Whitespace]}\n",
    "        queries_list_and_tokens.append(dic)\n",
    "        n = n+1\n",
    "    return queries_list_and_tokens"
   ]
  },
  {
   "cell_type": "markdown",
   "metadata": {},
   "source": [
    "# re built get_query_tables\n",
    "i remvoed the quote removal"
   ]
  },
  {
   "cell_type": "code",
   "execution_count": 581,
   "metadata": {},
   "outputs": [],
   "source": [
    "def get_query_tables(query: str, dev=False) -> List[str]:\n",
    "    \"\"\"\n",
    "    :type query str\n",
    "    :rtype: list[str]\n",
    "    \"\"\"\n",
    "    \n",
    "\n",
    "    table_syntax_keywords = [\n",
    "        # SELECT queries\n",
    "        'FROM', 'WHERE', 'JOIN', 'INNER JOIN', 'FULL JOIN', 'FULL OUTER JOIN',\n",
    "        'LEFT OUTER JOIN', 'RIGHT OUTER JOIN',\n",
    "        'LEFT JOIN', 'RIGHT JOIN', 'ON',\n",
    "        # INSERT queries\n",
    "        'INTO', 'VALUES',\n",
    "        # UPDATE queries\n",
    "        'UPDATE', 'SET',\n",
    "        # Hive queries\n",
    "        'TABLE',  # INSERT TABLE\n",
    "        \n",
    "    ]\n",
    "    \n",
    "#     print(sql_metadata.get_query_tokens(query))\n",
    "#     query = query.replace('\"', '')\n",
    "    query = sqlparse.format(query, strip_comments=True).strip()\n",
    "#     print(query)\n",
    "    queries_list_and_tokens = get_query_tokens(query)\n",
    "    \n",
    "    queries_list_and_tokens_parsed =[]\n",
    "    \n",
    "    for query_and_tokens in queries_list_and_tokens:\n",
    "        parent_table_list = []\n",
    "        parent_table_counter = 0 # increments to 2 to get schema and table\n",
    "        tables = []\n",
    "        last_keyword = None\n",
    "        last_ddl =None\n",
    "        keep_last_ddl = None\n",
    "        \n",
    "        for index, token in enumerate(query_and_tokens['tokens']):\n",
    "            if dev==True: print([token, token.ttype, last_keyword,last_ddl, token.value.upper(),parent_table_counter, last_ddl])\n",
    "            if token.is_keyword and token.value.upper() in table_syntax_keywords:\n",
    "                # keep the name of the last keyword, the next one can be a table name\n",
    "                last_keyword = token.value.upper()\n",
    "#                 print('keyword', last_keyword)\n",
    "            elif str(token.ttype) == 'Token.Keyword.DDL':\n",
    "                # keep the name of the last create, the next one can be annother table to create\n",
    "                last_ddl = token.value.upper()\n",
    "                keep_last_ddl= token.value.upper()\n",
    "#                 print('keyword.lld', token.value.upper())\n",
    "            elif str(token) == '(':\n",
    "                # reset the last_keyword for INSERT `foo` VALUES(id, bar) ...\n",
    "                last_keyword = None\n",
    "            elif token.is_keyword and str(token) in ['FORCE', 'ORDER', 'GROUP BY']:\n",
    "                # reset the last_keyword for queries like:\n",
    "                # \"SELECT x FORCE INDEX\"\n",
    "                # \"SELECT x ORDER BY\"\n",
    "                # \"SELECT x FROM y GROUP BY x\"\n",
    "                last_keyword = None\n",
    "            elif token.is_keyword and str(token) == 'SELECT' and last_keyword in ['INTO', 'TABLE']:\n",
    "                # reset the last_keyword for \"INSERT INTO SELECT\" and \"INSERT TABLE SELECT\" queries\n",
    "                last_keyword = None\n",
    "            elif (token.ttype is Name or str(token.ttype) == 'Token.Literal.String.Symbol') and last_ddl in ['CREATE','DROP']:\n",
    "#                 print(\"found a CREATE or DROP\")\n",
    "                parent_table_list.append(str(token))\n",
    "                parent_table_counter = parent_table_counter + 1\n",
    "                if parent_table_counter > 1:\n",
    "                    last_ddl = None\n",
    "                    parent_table_counter = 0\n",
    "#                 parent_table = sql_metadata._update_table_names(tables, query_and_tokens['tokens'], index, last_keyword)\n",
    "            elif token.ttype is Name or token.ttype or token.is_keyword:\n",
    "                tables = sql_metadata._update_table_names(tables, query_and_tokens['tokens'], index, last_keyword)\n",
    "        unique_tables = sql_metadata.unique(tables)\n",
    "        dic = {\n",
    "            \"queryNoWithinFile\": query_and_tokens['queryNoWithinFile'],\n",
    "            \"tables\": unique_tables,\n",
    "            \"parent_table\": '.'.join(parent_table_list),\n",
    "            \"ddl_type\": keep_last_ddl\n",
    "        }\n",
    "        queries_list_and_tokens_parsed.append(dic)\n",
    "\n",
    "    return queries_list_and_tokens_parsed"
   ]
  },
  {
   "cell_type": "markdown",
   "metadata": {},
   "source": [
    "# working with multiple files"
   ]
  },
  {
   "cell_type": "code",
   "execution_count": 582,
   "metadata": {},
   "outputs": [],
   "source": [
    "import os\n",
    "from os import path\n",
    "from pathlib import Path"
   ]
  },
  {
   "cell_type": "markdown",
   "metadata": {},
   "source": [
    "# get all sql files"
   ]
  },
  {
   "cell_type": "code",
   "execution_count": 583,
   "metadata": {},
   "outputs": [],
   "source": [
    "files = os.listdir()"
   ]
  },
  {
   "cell_type": "code",
   "execution_count": 584,
   "metadata": {},
   "outputs": [],
   "source": [
    "files_filtered = list(filter(lambda x: re.search(r\"^.*\\.(sql)$\", x), files))"
   ]
  },
  {
   "cell_type": "markdown",
   "metadata": {},
   "source": [
    "# get all sql view depedncies"
   ]
  },
  {
   "cell_type": "markdown",
   "metadata": {},
   "source": [
    "### get all files in RAPID"
   ]
  },
  {
   "cell_type": "code",
   "execution_count": 585,
   "metadata": {},
   "outputs": [],
   "source": [
    "rapid_dirs = ['nbn_dde_23/load/batches'] # ['nbn_dde_23/tableau_views'] # ['tableau_dde/transform/views'] # ['nbn_dde_23/tableau_views','tableau_dde/transform/views']"
   ]
  },
  {
   "cell_type": "code",
   "execution_count": 586,
   "metadata": {},
   "outputs": [
    {
     "data": {
      "text/plain": [
       "[{'fileName': 'd_location-rs_full_load.sql',\n",
       "  'path': '/home/davidgriffiths/csaa-aws-data-capability/nbn_dde_23/load/batches/d_location-rs_full_load.sql'},\n",
       " {'fileName': 'ful_nhur_v-rs_delta_load.sql',\n",
       "  'path': '/home/davidgriffiths/csaa-aws-data-capability/nbn_dde_23/load/batches/ful_nhur_v-rs_delta_load.sql'},\n",
       " {'fileName': 'td_initial_aged_incident_snapshot-rs_full_load.sql',\n",
       "  'path': '/home/davidgriffiths/csaa-aws-data-capability/nbn_dde_23/load/batches/td_initial_aged_incident_snapshot-rs_full_load.sql'}]"
      ]
     },
     "execution_count": 586,
     "metadata": {},
     "output_type": "execute_result"
    }
   ],
   "source": [
    "rapid_files = []\n",
    "for rapid_dir in rapid_dirs:\n",
    "    for dirpath, dirname, filenames in os.walk(os.path.join('/home/davidgriffiths/csaa-aws-data-capability',rapid_dir)):\n",
    "    #     print('Current path:', dirpath)\n",
    "    #     print('Directories:', dirname)\n",
    "    #     print('Files:', filenames)\n",
    "        for file in filenames:\n",
    "            file_dict = {\n",
    "                \"fileName\": file,\n",
    "                \"path\": os.path.join(dirpath,file),\n",
    "            }\n",
    "            rapid_files.append(file_dict)\n",
    "rapid_files[0:3]"
   ]
  },
  {
   "cell_type": "markdown",
   "metadata": {},
   "source": [
    "### keep only .sql files"
   ]
  },
  {
   "cell_type": "code",
   "execution_count": 587,
   "metadata": {},
   "outputs": [
    {
     "data": {
      "text/plain": [
       "[{'fileName': 'd_location-rs_full_load.sql',\n",
       "  'path': '/home/davidgriffiths/csaa-aws-data-capability/nbn_dde_23/load/batches/d_location-rs_full_load.sql'},\n",
       " {'fileName': 'ful_nhur_v-rs_delta_load.sql',\n",
       "  'path': '/home/davidgriffiths/csaa-aws-data-capability/nbn_dde_23/load/batches/ful_nhur_v-rs_delta_load.sql'},\n",
       " {'fileName': 'td_initial_aged_incident_snapshot-rs_full_load.sql',\n",
       "  'path': '/home/davidgriffiths/csaa-aws-data-capability/nbn_dde_23/load/batches/td_initial_aged_incident_snapshot-rs_full_load.sql'},\n",
       " {'fileName': 'cc_hwm_max_nbnquotacapview_v-rs_delta_load.sql',\n",
       "  'path': '/home/davidgriffiths/csaa-aws-data-capability/nbn_dde_23/load/batches/cc_hwm_max_nbnquotacapview_v-rs_delta_load.sql'},\n",
       " {'fileName': 'a_ful_order_item_v-rs_delta_load.sql',\n",
       "  'path': '/home/davidgriffiths/csaa-aws-data-capability/nbn_dde_23/load/batches/a_ful_order_item_v-rs_delta_load.sql'}]"
      ]
     },
     "execution_count": 587,
     "metadata": {},
     "output_type": "execute_result"
    }
   ],
   "source": [
    "rapid_files_filtered = list(filter(lambda x: re.search(r\"^.*\\.(sql)$\", x['fileName']), rapid_files))\n",
    "rapid_files_filtered[0:5]"
   ]
  },
  {
   "cell_type": "markdown",
   "metadata": {},
   "source": [
    "## loop through files"
   ]
  },
  {
   "cell_type": "code",
   "execution_count": 588,
   "metadata": {},
   "outputs": [
    {
     "data": {
      "text/plain": [
       "[{'fileName': 'd_location-rs_full_load.sql',\n",
       "  'name': 'd_location-rs_full_load',\n",
       "  'path': '/csaa-aws-data-capability/nbn_dde_23/load/batches/d_location-rs_full_load.sql',\n",
       "  'depnd_tables': ['nbn_dde_23.IMPT_D_LOCATION_T'],\n",
       "  'parent': '',\n",
       "  'ddl_type': None},\n",
       " {'fileName': 'd_location-rs_full_load.sql',\n",
       "  'name': 'd_location-rs_full_load',\n",
       "  'path': '/csaa-aws-data-capability/nbn_dde_23/load/batches/d_location-rs_full_load.sql',\n",
       "  'depnd_tables': [\"'s3://csaa-redshift-ingest-pr/historical/d_location.manifest'\"],\n",
       "  'parent': '',\n",
       "  'ddl_type': None},\n",
       " {'fileName': 'd_location-rs_full_load.sql',\n",
       "  'name': 'd_location-rs_full_load',\n",
       "  'path': '/csaa-aws-data-capability/nbn_dde_23/load/batches/d_location-rs_full_load.sql',\n",
       "  'depnd_tables': ['nbn_dde_23.IMPT_D_LOCATION_T'],\n",
       "  'parent': '',\n",
       "  'ddl_type': None},\n",
       " {'fileName': 'd_location-rs_full_load.sql',\n",
       "  'name': 'd_location-rs_full_load',\n",
       "  'path': '/csaa-aws-data-capability/nbn_dde_23/load/batches/d_location-rs_full_load.sql',\n",
       "  'depnd_tables': ['if'],\n",
       "  'parent': 'nbn_dde_23.temp_IMPT_D_LOCATION_T',\n",
       "  'ddl_type': 'DROP'},\n",
       " {'fileName': 'd_location-rs_full_load.sql',\n",
       "  'name': 'd_location-rs_full_load',\n",
       "  'path': '/csaa-aws-data-capability/nbn_dde_23/load/batches/d_location-rs_full_load.sql',\n",
       "  'depnd_tables': [],\n",
       "  'parent': 'nbn_dde_23.temp_IMPT_D_LOCATION_T',\n",
       "  'ddl_type': 'CREATE'}]"
      ]
     },
     "execution_count": 588,
     "metadata": {},
     "output_type": "execute_result"
    }
   ],
   "source": [
    "list_of_rapid_sql_views = []\n",
    "\n",
    "for file in rapid_files_filtered:\n",
    "    with open(file['path'], 'r') as f:\n",
    "        query = f.read()\n",
    "        queries_and_tables = get_query_tables(query,False)\n",
    "    \n",
    "        for qry in queries_and_tables:\n",
    "            \n",
    "            dic = {\n",
    "                'fileName': file['fileName'],\n",
    "                'name': os.path.splitext(file['fileName'])[0],\n",
    "                'path': file['path'].replace(\"/home/davidgriffiths\", \"\"),\n",
    "                'depnd_tables': qry['tables'],\n",
    "                'parent': qry[\"parent_table\"],\n",
    "                'ddl_type': qry['ddl_type']\n",
    "            }\n",
    "\n",
    "            list_of_rapid_sql_views.append(dic) \n",
    "        \n",
    "\n",
    "list_of_rapid_sql_views[0:5]"
   ]
  },
  {
   "cell_type": "markdown",
   "metadata": {},
   "source": [
    "# write out as JSON"
   ]
  },
  {
   "cell_type": "code",
   "execution_count": 589,
   "metadata": {},
   "outputs": [],
   "source": [
    "import json"
   ]
  },
  {
   "cell_type": "code",
   "execution_count": 590,
   "metadata": {},
   "outputs": [],
   "source": [
    "# # loads json from string\n",
    "# datajsonstr=json.loads('{\"str\":\"str\"}')\n",
    "# datajsonstr"
   ]
  },
  {
   "cell_type": "code",
   "execution_count": 591,
   "metadata": {},
   "outputs": [],
   "source": [
    "# stringify = json.dumps(list_of_rapid_sql_views, indent=2)\n",
    "# stringify"
   ]
  },
  {
   "cell_type": "code",
   "execution_count": 592,
   "metadata": {},
   "outputs": [],
   "source": [
    "# with open('jsonfile.json') as f:\n",
    "#     data = json.load(f)"
   ]
  },
  {
   "cell_type": "code",
   "execution_count": 593,
   "metadata": {},
   "outputs": [],
   "source": [
    "with open('list_of_rapid_sql_views.json','w') as f:\n",
    "    json.dump(list_of_rapid_sql_views, f)"
   ]
  },
  {
   "cell_type": "markdown",
   "metadata": {},
   "source": [
    "# test out funny files"
   ]
  },
  {
   "cell_type": "code",
   "execution_count": 594,
   "metadata": {},
   "outputs": [],
   "source": [
    "filenamedave = '/home/davidgriffiths/csaa-aws-data-capability/nbn_dde_23/tableau_views/Tableau Incident WO Links View.sql'"
   ]
  },
  {
   "cell_type": "code",
   "execution_count": 595,
   "metadata": {},
   "outputs": [
    {
     "name": "stdout",
     "output_type": "stream",
     "text": [
      "[{'queryNoWithinFile': 0, 'tables': [], 'parent_table': 'nbn_dde_23.\"Tableau Incident WO Links View\"', 'ddl_type': 'DROP'}, {'queryNoWithinFile': 1, 'tables': ['nbn_dde_23.CSA_INCIDENT_LINKS_WO_T'], 'parent_table': '', 'ddl_type': 'CREATE  OR REPLACE'}]\n"
     ]
    }
   ],
   "source": [
    "with open(filenamedave, 'r') as f:\n",
    "        query = f.read()\n",
    "#         print(query)\n",
    "        tables = get_query_tables(query)\n",
    "        print(tables)"
   ]
  },
  {
   "cell_type": "markdown",
   "metadata": {},
   "source": [
    "# problem sqlparse.parse doesnt do multiple queries"
   ]
  },
  {
   "cell_type": "code",
   "execution_count": 596,
   "metadata": {},
   "outputs": [
    {
     "name": "stdout",
     "output_type": "stream",
     "text": [
      "[{'queryNoWithinFile': 0, 'tokens': [<DDL 'drop' at 0x7F7FDDAFCF48>, <Keyword 'view' at 0x7F7FDDAF2108>, <Keyword 'if' at 0x7F7FDDAF21C8>, <Keyword 'exists' at 0x7F7FDDAF2288>, <Name 'nbn_dd...' at 0x7F7FDDAF2348>, <Punctuation '.' at 0x7F7FDDAF23A8>, <Symbol '\"Table...' at 0x7F7FDDAF2408>, <Punctuation ';' at 0x7F7FDDAF2468>]}, {'queryNoWithinFile': 1, 'tokens': [<DDL 'CREATE...' at 0x7F7FDDAF2588>, <Keyword 'VIEW' at 0x7F7FDDAF2648>, <Name 'nbn_dd...' at 0x7F7FDDAF2708>, <Punctuation '.' at 0x7F7FDDAF2768>, <Symbol '\"Table...' at 0x7F7FDDAF27C8>, <Keyword 'AS' at 0x7F7FDDAF2888>, <DML 'SELECT' at 0x7F7FDDAF2948>, <Name 'INC_WO...' at 0x7F7FDDAF2A08>, <Punctuation ',' at 0x7F7FDDAF2D68>, <Name 'INCIDE...' at 0x7F7FDDAF2E28>, <Punctuation ',' at 0x7F7FDDAF41C8>, <Name 'APPOIN...' at 0x7F7FDDAF4288>, <Punctuation ',' at 0x7F7FDDAF45E8>, <Name 'WORK_R...' at 0x7F7FDDAF46A8>, <Punctuation ',' at 0x7F7FDDAF4A08>, <Name 'WORK_O...' at 0x7F7FDDAF4AC8>, <Punctuation ',' at 0x7F7FDDAF4E28>, <Name 'PRI_ID...' at 0x7F7FDDAF4EE8>, <Punctuation ',' at 0x7F7FDDAD4B28>, <Name 'PRI_KE...' at 0x7F7FDDAD4C48>, <Punctuation ',' at 0x7F7FDDAD4768>, <Name 'DQ_COM...' at 0x7F7FDDAD4D08>, <Keyword 'as' at 0x7F7FDDAD4588>, <Symbol '\"Data ...' at 0x7F7FDDAD4228>, <Punctuation ',' at 0x7F7FDC236048>, <Name 'LOCATI...' at 0x7F7FDC236BE8>, <Punctuation ',' at 0x7F7FDC236E88>, <Name 'APPOIN...' at 0x7F7FDD4E6C48>, <Punctuation ',' at 0x7F7FDD4E6D68>, <Name 'EXC_1_...' at 0x7F7FDD4E6E28>, <Keyword 'as' at 0x7F7FDD4E66A8>, <Symbol '\"Exclu...' at 0x7F7FDD4E6B28>, <Punctuation ',' at 0x7F7FDD4E6D08>, <Name 'EXC_2_...' at 0x7F7FDD4E6A08>, <Keyword 'as' at 0x7F7FDD4E62E8>, <Symbol '\"Exclu...' at 0x7F7FDD4E6F48>, <Punctuation ',' at 0x7F7FDDBCC4C8>, <Name 'EXC_3_...' at 0x7F7FDDBCCF48>, <Keyword 'as' at 0x7F7FDDBCC168>, <Symbol '\"Exclu...' at 0x7F7FDDBCC408>, <Punctuation ',' at 0x7F7FDDBCC0A8>, <Name 'EXC_4_...' at 0x7F7FDDBCC948>, <Keyword 'as' at 0x7F7FDDBCCB88>, <Symbol '\"Exclu...' at 0x7F7FDDBCCB28>, <Punctuation ',' at 0x7F7FEC05D1C8>, <Name 'EXC_5_...' at 0x7F7FEC05D888>, <Keyword 'as' at 0x7F7FDDAFC0A8>, <Symbol '\"Exclu...' at 0x7F7FDDAFC168>, <Punctuation ',' at 0x7F7FDDAFCB28>, <Name 'EXC_6_...' at 0x7F7FDDAFC408>, <Keyword 'as' at 0x7F7FDDAFC4C8>, <Symbol '\"Exclu...' at 0x7F7FDDAFC588>, <Punctuation ',' at 0x7F7FDDAFC6A8>, <Name 'EXC_7_...' at 0x7F7FDDAFC768>, <Keyword 'as' at 0x7F7FDDAFC828>, <Symbol '\"Exclu...' at 0x7F7FDDAFC8E8>, <Punctuation ',' at 0x7F7FCFCD58E8>, <Name 'EXC_8_...' at 0x7F7FDC060A08>, <Keyword 'as' at 0x7F7FDC060408>, <Symbol '\"Exclu...' at 0x7F7FDC320228>, <Punctuation ',' at 0x7F7FDDAD4D68>, <Name 'EXC_9_...' at 0x7F7FDDAD4E28>, <Keyword 'as' at 0x7F7FDDAD4EE8>, <Symbol '\"Exclu...' at 0x7F7FDDAD4288>, <Punctuation ',' at 0x7F7FDC228048>, <Name 'EXC_10...' at 0x7F7FDC228108>, <Keyword 'as' at 0x7F7FDC2281C8>, <Symbol '\"Exclu...' at 0x7F7FDC228288>, <Punctuation ',' at 0x7F7FDC2284C8>, <Name 'Exc_11...' at 0x7F7FDC228588>, <Keyword 'as' at 0x7F7FDC228648>, <Symbol '\"Exclu...' at 0x7F7FDC228708>, <Punctuation ',' at 0x7F7FDC228948>, <Name 'EXC_12...' at 0x7F7FDC228A08>, <Keyword 'as' at 0x7F7FDC228AC8>, <Symbol '\"Exclu...' at 0x7F7FDC228B88>, <Punctuation ',' at 0x7F7FDC228DC8>, <Name 'Exc_13...' at 0x7F7FDC228E88>, <Keyword 'as' at 0x7F7FDC228F48>, <Symbol '\"Exclu...' at 0x7F7FDC244048>, <Single '--Deep...' at 0x7F7FDC2442E8>]}]\n"
     ]
    }
   ],
   "source": [
    "with open(filenamedave, 'r') as f:\n",
    "        query = f.read()\n",
    "#         print(query)\n",
    "#         tables = get_query_tables(query)\n",
    "#         print(tables)\n",
    "\n",
    "        # is parsing within sql_metadata.get_query_tokens working\n",
    "#         res = sqlparse.parse(query)\n",
    "#         print(res[1]) ##  this second query isnt getting picked up\n",
    "        \n",
    "        print(get_query_tokens(query))\n",
    "        \n",
    "        "
   ]
  },
  {
   "cell_type": "code",
   "execution_count": null,
   "metadata": {},
   "outputs": [],
   "source": []
  }
 ],
 "metadata": {
  "kernelspec": {
   "display_name": "Python 3",
   "language": "python",
   "name": "python3"
  },
  "language_info": {
   "codemirror_mode": {
    "name": "ipython",
    "version": 3
   },
   "file_extension": ".py",
   "mimetype": "text/x-python",
   "name": "python",
   "nbconvert_exporter": "python",
   "pygments_lexer": "ipython3",
   "version": "3.6.10"
  }
 },
 "nbformat": 4,
 "nbformat_minor": 4
}
