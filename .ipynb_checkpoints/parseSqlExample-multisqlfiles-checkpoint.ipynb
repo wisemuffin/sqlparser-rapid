{
 "cells": [
  {
   "cell_type": "markdown",
   "metadata": {},
   "source": [
    "# using sqlparse to create meta data\n",
    "limitations\n",
    "- when using spaces in tables names with reserved keyworkds, e.g. case in \"tableau enc case view\"\n",
    "\n",
    "Have solved this by changing sq_metadata"
   ]
  },
  {
   "cell_type": "code",
   "execution_count": 243,
   "metadata": {},
   "outputs": [
    {
     "name": "stdout",
     "output_type": "stream",
     "text": [
      "# conda environments:\n",
      "#\n",
      "base                     /home/davidgriffiths/miniconda3\n",
      "sqlparse              *  /home/davidgriffiths/miniconda3/envs/sqlparse\n",
      "\n"
     ]
    }
   ],
   "source": [
    "!conda info --envs"
   ]
  },
  {
   "cell_type": "code",
   "execution_count": 244,
   "metadata": {},
   "outputs": [],
   "source": [
    "import sql_metadata"
   ]
  },
  {
   "cell_type": "code",
   "execution_count": 245,
   "metadata": {},
   "outputs": [],
   "source": [
    "import re\n",
    "from typing import List, Tuple, Optional, Dict\n",
    "import sqlparse\n",
    "\n",
    "from sqlparse.sql import TokenList\n",
    "from sqlparse.tokens import Name, Whitespace, Wildcard, Number, Punctuation"
   ]
  },
  {
   "cell_type": "markdown",
   "metadata": {},
   "source": [
    "# re built get_query_tokens\n",
    "need to account for multiple queries in a file"
   ]
  },
  {
   "cell_type": "code",
   "execution_count": 246,
   "metadata": {},
   "outputs": [],
   "source": [
    "def get_query_tokens(query: str) -> List[sqlparse.sql.Token]:\n",
    "    \"\"\"\n",
    "    daves changes: sqlparse.parse(query) returns a tuple if multiple queries \";\" need to handle this\n",
    "    :type query str\n",
    "    :rtype: list[{queryNoWithinFile str,  tokens: list[sqlparse.sql.Token]}\n",
    "    \"\"\"\n",
    "    query = sql_metadata.preprocess_query(query)\n",
    "    parsed = sqlparse.parse(query)\n",
    "\n",
    "    # handle empty queries (#12)\n",
    "    if not parsed:\n",
    "        return []\n",
    "\n",
    "    queries_list_and_tokens =[]\n",
    "    n=0\n",
    "    for qry in parsed:\n",
    "        tokens = TokenList(qry.tokens).flatten()\n",
    "        # print([(token.value, token.ttype) for token in tokens])\n",
    "\n",
    "        dic = {\"queryNoWithinFile\":n,\"tokens\":[token for token in tokens if token.ttype is not Whitespace]}\n",
    "        queries_list_and_tokens.append(dic)\n",
    "        n = n+1\n",
    "    return queries_list_and_tokens"
   ]
  },
  {
   "cell_type": "markdown",
   "metadata": {},
   "source": [
    "# re built get_query_tables\n",
    "i remvoed the quote removal"
   ]
  },
  {
   "cell_type": "code",
   "execution_count": 247,
   "metadata": {},
   "outputs": [],
   "source": [
    "def get_query_tables(query: str) -> List[str]:\n",
    "    \"\"\"\n",
    "    :type query str\n",
    "    :rtype: list[str]\n",
    "    \"\"\"\n",
    "    tables = []\n",
    "    last_keyword = None\n",
    "\n",
    "    table_syntax_keywords = [\n",
    "        # SELECT queries\n",
    "        'FROM', 'WHERE', 'JOIN', 'INNER JOIN', 'FULL JOIN', 'FULL OUTER JOIN',\n",
    "        'LEFT OUTER JOIN', 'RIGHT OUTER JOIN',\n",
    "        'LEFT JOIN', 'RIGHT JOIN', 'ON',\n",
    "        # INSERT queries\n",
    "        'INTO', 'VALUES',\n",
    "        # UPDATE queries\n",
    "        'UPDATE', 'SET',\n",
    "        # Hive queries\n",
    "        'TABLE',  # INSERT TABLE\n",
    "    ]\n",
    "\n",
    "#     print(sql_metadata.get_query_tokens(query))\n",
    "#     query = query.replace('\"', '')\n",
    "    query = sqlparse.format(query, strip_comments=True).strip()\n",
    "#     print(query)\n",
    "    queries_list_and_tokens = get_query_tokens(query)\n",
    "    \n",
    "    queries_list_and_tokens_parsed =[]\n",
    "    \n",
    "    for query_and_tokens in queries_list_and_tokens:\n",
    "        for index, token in enumerate(query_and_tokens['tokens']):\n",
    "    #         print([token, token.ttype, last_keyword])\n",
    "            if token.is_keyword and token.value.upper() in table_syntax_keywords:\n",
    "                # keep the name of the last keyword, the next one can be a table name\n",
    "                last_keyword = token.value.upper()\n",
    "                # print('keyword', last_keyword)\n",
    "            elif str(token) == '(':\n",
    "                # reset the last_keyword for INSERT `foo` VALUES(id, bar) ...\n",
    "                last_keyword = None\n",
    "            elif token.is_keyword and str(token) in ['FORCE', 'ORDER', 'GROUP BY']:\n",
    "                # reset the last_keyword for queries like:\n",
    "                # \"SELECT x FORCE INDEX\"\n",
    "                # \"SELECT x ORDER BY\"\n",
    "                # \"SELECT x FROM y GROUP BY x\"\n",
    "                last_keyword = None\n",
    "            elif token.is_keyword and str(token) == 'SELECT' and last_keyword in ['INTO', 'TABLE']:\n",
    "                # reset the last_keyword for \"INSERT INTO SELECT\" and \"INSERT TABLE SELECT\" queries\n",
    "                last_keyword = None\n",
    "            elif token.ttype is Name or token.ttype or token.is_keyword:\n",
    "                tables = sql_metadata._update_table_names(tables, query_and_tokens['tokens'], index, last_keyword)\n",
    "        unique_tables = sql_metadata.unique(tables)\n",
    "        dic = {\n",
    "            \"queryNoWithinFile\": query_and_tokens['queryNoWithinFile'],\n",
    "            \"tables\": unique_tables\n",
    "        }\n",
    "        queries_list_and_tokens_parsed.append(dic)\n",
    "\n",
    "    return queries_list_and_tokens_parsed"
   ]
  },
  {
   "cell_type": "markdown",
   "metadata": {},
   "source": [
    "# working with multiple files"
   ]
  },
  {
   "cell_type": "code",
   "execution_count": 248,
   "metadata": {},
   "outputs": [],
   "source": [
    "import os\n",
    "from os import path\n",
    "from pathlib import Path"
   ]
  },
  {
   "cell_type": "markdown",
   "metadata": {},
   "source": [
    "# get all sql files"
   ]
  },
  {
   "cell_type": "code",
   "execution_count": 249,
   "metadata": {},
   "outputs": [],
   "source": [
    "files = os.listdir()"
   ]
  },
  {
   "cell_type": "code",
   "execution_count": 250,
   "metadata": {},
   "outputs": [],
   "source": [
    "files_filtered = list(filter(lambda x: re.search(r\"^.*\\.(sql)$\", x), files))"
   ]
  },
  {
   "cell_type": "markdown",
   "metadata": {},
   "source": [
    "# for each file read and parse out tables"
   ]
  },
  {
   "cell_type": "code",
   "execution_count": 251,
   "metadata": {},
   "outputs": [
    {
     "name": "stdout",
     "output_type": "stream",
     "text": [
      "[{'queryNoWithinFile': 0, 'tables': ['\"enc_dde\".\"tableau enc case field links view\"', '\"enc_dde\".\"tableau enc case view\"', '\"enc_dde\".\"tableau enc case snapshot view\"', '\"nbn_dde_23\".\"tableau location view\"']}]\n"
     ]
    }
   ],
   "source": [
    "with open('untitled.sql', 'r') as f:\n",
    "    query = f.read()\n",
    "    tables = get_query_tables(query)\n",
    "    print(tables)"
   ]
  },
  {
   "cell_type": "code",
   "execution_count": 252,
   "metadata": {},
   "outputs": [
    {
     "data": {
      "text/plain": [
       "[{'name': 'untitled.sql',\n",
       "  'depnd_tables': [{'queryNoWithinFile': 0,\n",
       "    'tables': ['\"enc_dde\".\"tableau enc case field links view\"',\n",
       "     '\"enc_dde\".\"tableau enc case view\"',\n",
       "     '\"enc_dde\".\"tableau enc case snapshot view\"',\n",
       "     '\"nbn_dde_23\".\"tableau location view\"']}]},\n",
       " {'name': 'untitled-Copy1.sql',\n",
       "  'depnd_tables': [{'queryNoWithinFile': 0,\n",
       "    'tables': ['\"enc_dde\".\"tableau enc case field dave view\"',\n",
       "     '\"enc_dde\".\"tableau dave view\"',\n",
       "     '\"enc_dde\".\"tableau dave\"',\n",
       "     '\"nbn_dde_23\".\"tableau dave loc view\"']}]}]"
      ]
     },
     "execution_count": 252,
     "metadata": {},
     "output_type": "execute_result"
    }
   ],
   "source": [
    "list_of_sql_views = []\n",
    "\n",
    "for file in files_filtered:\n",
    "    with open(file, 'r') as f:\n",
    "        query = f.read()\n",
    "        tables = get_query_tables(query)\n",
    "        \n",
    "        # create a dict\n",
    "        dic = {}\n",
    "        dic['name'] = file\n",
    "        dic['depnd_tables'] = tables\n",
    "        list_of_sql_views.append(dic)\n",
    "\n",
    "list_of_sql_views  "
   ]
  },
  {
   "cell_type": "markdown",
   "metadata": {},
   "source": [
    "# get all sql view depedncies"
   ]
  },
  {
   "cell_type": "markdown",
   "metadata": {},
   "source": [
    "### get all files in RAPID"
   ]
  },
  {
   "cell_type": "code",
   "execution_count": 253,
   "metadata": {},
   "outputs": [],
   "source": [
    "rapid_dirs = ['nbn_dde_23/tableau_views','tableau_dde/transform/views']"
   ]
  },
  {
   "cell_type": "code",
   "execution_count": 254,
   "metadata": {},
   "outputs": [
    {
     "data": {
      "text/plain": [
       "[{'fileName': 'Tableau MTM Glide Path Target View.sql',\n",
       "  'path': '/home/davidgriffiths/csaa-aws-data-capability/nbn_dde_23/tableau_views/Tableau MTM Glide Path Target View.sql'},\n",
       " {'fileName': 'Tableau Incident Mdf Detailed View.sql',\n",
       "  'path': '/home/davidgriffiths/csaa-aws-data-capability/nbn_dde_23/tableau_views/Tableau Incident Mdf Detailed View.sql'},\n",
       " {'fileName': 'Tableau Incident Work Requests View.sql',\n",
       "  'path': '/home/davidgriffiths/csaa-aws-data-capability/nbn_dde_23/tableau_views/Tableau Incident Work Requests View.sql'}]"
      ]
     },
     "execution_count": 254,
     "metadata": {},
     "output_type": "execute_result"
    }
   ],
   "source": [
    "rapid_files = []\n",
    "for rapid_dir in rapid_dirs:\n",
    "    for dirpath, dirname, filenames in os.walk(os.path.join('/home/davidgriffiths/csaa-aws-data-capability',rapid_dir)):\n",
    "    #     print('Current path:', dirpath)\n",
    "    #     print('Directories:', dirname)\n",
    "    #     print('Files:', filenames)\n",
    "        for file in filenames:\n",
    "            file_dict = {\n",
    "                \"fileName\": file,\n",
    "                \"path\": os.path.join(dirpath,file),\n",
    "            }\n",
    "            rapid_files.append(file_dict)\n",
    "rapid_files[0:3]"
   ]
  },
  {
   "cell_type": "markdown",
   "metadata": {},
   "source": [
    "### keep only .sql files"
   ]
  },
  {
   "cell_type": "code",
   "execution_count": 255,
   "metadata": {},
   "outputs": [
    {
     "data": {
      "text/plain": [
       "[{'fileName': 'Tableau MTM Glide Path Target View.sql',\n",
       "  'path': '/home/davidgriffiths/csaa-aws-data-capability/nbn_dde_23/tableau_views/Tableau MTM Glide Path Target View.sql'},\n",
       " {'fileName': 'Tableau Incident Mdf Detailed View.sql',\n",
       "  'path': '/home/davidgriffiths/csaa-aws-data-capability/nbn_dde_23/tableau_views/Tableau Incident Mdf Detailed View.sql'},\n",
       " {'fileName': 'Tableau Incident Work Requests View.sql',\n",
       "  'path': '/home/davidgriffiths/csaa-aws-data-capability/nbn_dde_23/tableau_views/Tableau Incident Work Requests View.sql'},\n",
       " {'fileName': 'Tableau Genesys VWFM Agent Adherence View.sql',\n",
       "  'path': '/home/davidgriffiths/csaa-aws-data-capability/nbn_dde_23/tableau_views/Tableau Genesys VWFM Agent Adherence View.sql'},\n",
       " {'fileName': 'Tableau Pni Snapshot Audit Report View.sql',\n",
       "  'path': '/home/davidgriffiths/csaa-aws-data-capability/nbn_dde_23/tableau_views/Tableau Pni Snapshot Audit Report View.sql'}]"
      ]
     },
     "execution_count": 255,
     "metadata": {},
     "output_type": "execute_result"
    }
   ],
   "source": [
    "rapid_files_filtered = list(filter(lambda x: re.search(r\"^.*\\.(sql)$\", x['fileName']), rapid_files))\n",
    "rapid_files_filtered[0:5]"
   ]
  },
  {
   "cell_type": "markdown",
   "metadata": {},
   "source": [
    "## loop through files"
   ]
  },
  {
   "cell_type": "code",
   "execution_count": 256,
   "metadata": {},
   "outputs": [
    {
     "data": {
      "text/plain": [
       "[{'fileName': 'Tableau MTM Glide Path Target View.sql',\n",
       "  'name': 'Tableau MTM Glide Path Target View',\n",
       "  'path': '/home/davidgriffiths/csaa-aws-data-capability/nbn_dde_23/tableau_views/Tableau MTM Glide Path Target View.sql',\n",
       "  'depnd_tables': ['nbn_dde_23.csa_mtm_glide_path_target_extract_t']},\n",
       " {'fileName': 'Tableau Incident Mdf Detailed View.sql',\n",
       "  'name': 'Tableau Incident Mdf Detailed View',\n",
       "  'path': '/home/davidgriffiths/csaa-aws-data-capability/nbn_dde_23/tableau_views/Tableau Incident Mdf Detailed View.sql',\n",
       "  'depnd_tables': ['nbn_dde_23.csa_mdf_tagging_detailed_DESCRIPTION_t']},\n",
       " {'fileName': 'Tableau Incident Work Requests View.sql',\n",
       "  'name': 'Tableau Incident Work Requests View',\n",
       "  'path': '/home/davidgriffiths/csaa-aws-data-capability/nbn_dde_23/tableau_views/Tableau Incident Work Requests View.sql',\n",
       "  'depnd_tables': ['nbn_dde_23.CSA_INCIDENT_WRQ_T']},\n",
       " {'fileName': 'Tableau Genesys VWFM Agent Adherence View.sql',\n",
       "  'name': 'Tableau Genesys VWFM Agent Adherence View',\n",
       "  'path': '/home/davidgriffiths/csaa-aws-data-capability/nbn_dde_23/tableau_views/Tableau Genesys VWFM Agent Adherence View.sql',\n",
       "  'depnd_tables': ['nbn_dde_23.csa_genesys_vwfm_agentadherencedata_v_t',\n",
       "   'nbn_dde_23.csa_genesys_vwfm_agentadherencedata_v_t',\n",
       "   'nbn_dde_23.\"Tableau Genesys VWFM Agent Adherence Data View\"']},\n",
       " {'fileName': 'Tableau Pni Snapshot Audit Report View.sql',\n",
       "  'name': 'Tableau Pni Snapshot Audit Report View',\n",
       "  'path': '/home/davidgriffiths/csaa-aws-data-capability/nbn_dde_23/tableau_views/Tableau Pni Snapshot Audit Report View.sql',\n",
       "  'depnd_tables': ['NBN_DDE_23.pni_sc_audit_report_t']}]"
      ]
     },
     "execution_count": 256,
     "metadata": {},
     "output_type": "execute_result"
    }
   ],
   "source": [
    "list_of_rapid_sql_views = []\n",
    "\n",
    "for file in rapid_files_filtered:\n",
    "    with open(file['path'], 'r') as f:\n",
    "        query = f.read()\n",
    "        queries_and_tables = get_query_tables(query)\n",
    "#         print(tables)\n",
    "\n",
    "        all_tables = []\n",
    "    \n",
    "        for qry in queries_and_tables:\n",
    "            for table in qry['tables']:\n",
    "                all_tables.append(table)\n",
    "        \n",
    "        # create a dict\n",
    "        dic = {\n",
    "            'fileName': file['fileName'],\n",
    "            'name': os.path.splitext(file['fileName'])[0],\n",
    "            'path': file['path'],\n",
    "            'depnd_tables': all_tables\n",
    "            \n",
    "        }\n",
    "        list_of_rapid_sql_views.append(dic)\n",
    "\n",
    "list_of_rapid_sql_views[0:5]"
   ]
  },
  {
   "cell_type": "markdown",
   "metadata": {},
   "source": [
    "# write out as JSON"
   ]
  },
  {
   "cell_type": "code",
   "execution_count": 257,
   "metadata": {},
   "outputs": [],
   "source": [
    "import json"
   ]
  },
  {
   "cell_type": "code",
   "execution_count": 258,
   "metadata": {},
   "outputs": [],
   "source": [
    "# # loads json from string\n",
    "# datajsonstr=json.loads('{\"str\":\"str\"}')\n",
    "# datajsonstr"
   ]
  },
  {
   "cell_type": "code",
   "execution_count": 259,
   "metadata": {},
   "outputs": [],
   "source": [
    "# stringify = json.dumps(list_of_rapid_sql_views, indent=2)\n",
    "# stringify"
   ]
  },
  {
   "cell_type": "code",
   "execution_count": 260,
   "metadata": {},
   "outputs": [],
   "source": [
    "# with open('jsonfile.json') as f:\n",
    "#     data = json.load(f)"
   ]
  },
  {
   "cell_type": "code",
   "execution_count": 261,
   "metadata": {},
   "outputs": [],
   "source": [
    "with open('list_of_rapid_sql_views.json','w') as f:\n",
    "    json.dump(list_of_rapid_sql_views, f)"
   ]
  },
  {
   "cell_type": "markdown",
   "metadata": {},
   "source": [
    "# test out funny files"
   ]
  },
  {
   "cell_type": "code",
   "execution_count": 262,
   "metadata": {},
   "outputs": [],
   "source": [
    "filenamedave = '/home/davidgriffiths/csaa-aws-data-capability/nbn_dde_23/tableau_views/Tableau Incident WO Links View.sql'"
   ]
  },
  {
   "cell_type": "code",
   "execution_count": 263,
   "metadata": {},
   "outputs": [
    {
     "name": "stdout",
     "output_type": "stream",
     "text": [
      "[{'queryNoWithinFile': 0, 'tables': []}, {'queryNoWithinFile': 1, 'tables': ['nbn_dde_23.CSA_INCIDENT_LINKS_WO_T']}]\n"
     ]
    }
   ],
   "source": [
    "with open(filenamedave, 'r') as f:\n",
    "        query = f.read()\n",
    "#         print(query)\n",
    "        tables = get_query_tables(query)\n",
    "        print(tables)"
   ]
  },
  {
   "cell_type": "markdown",
   "metadata": {},
   "source": [
    "# problem sqlparse.parse doesnt do multiple queries"
   ]
  },
  {
   "cell_type": "code",
   "execution_count": 264,
   "metadata": {},
   "outputs": [
    {
     "name": "stdout",
     "output_type": "stream",
     "text": [
      "[{'queryNoWithinFile': 0, 'tokens': [<DDL 'drop' at 0x7F7FDD2E8A08>, <Keyword 'view' at 0x7F7FDD2E8BE8>, <Keyword 'if' at 0x7F7FDD2E8468>, <Keyword 'exists' at 0x7F7FDD2E8528>, <Name 'nbn_dd...' at 0x7F7FDD2E88E8>, <Punctuation '.' at 0x7F7FDD2E8B88>, <Symbol '\"Table...' at 0x7F7FDD2E81C8>, <Punctuation ';' at 0x7F7FDD2E8708>]}, {'queryNoWithinFile': 1, 'tokens': [<DDL 'CREATE...' at 0x7F7FDD2D76A8>, <Keyword 'VIEW' at 0x7F7FDD2D7B88>, <Name 'nbn_dd...' at 0x7F7FDD2D7168>, <Punctuation '.' at 0x7F7FDD2D71C8>, <Symbol '\"Table...' at 0x7F7FDD2D7228>, <Keyword 'AS' at 0x7F7FDD2D73A8>, <DML 'SELECT' at 0x7F7FDD2D7468>, <Name 'INC_WO...' at 0x7F7FDD2D7528>, <Punctuation ',' at 0x7F7FDD2D55E8>, <Name 'INCIDE...' at 0x7F7FDD2D56A8>, <Punctuation ',' at 0x7F7FDD2D5A08>, <Name 'APPOIN...' at 0x7F7FDD2D53A8>, <Punctuation ',' at 0x7F7FDC1A5408>, <Name 'WORK_R...' at 0x7F7FDC1A5CA8>, <Punctuation ',' at 0x7F7FDC1A5648>, <Name 'WORK_O...' at 0x7F7FDC1A5FA8>, <Punctuation ',' at 0x7F7FDC1A5588>, <Name 'PRI_ID...' at 0x7F7FDC1A5B28>, <Punctuation ',' at 0x7F7FDC1A5348>, <Name 'PRI_KE...' at 0x7F7FDC1A52E8>, <Punctuation ',' at 0x7F7FDDA69A08>, <Name 'DQ_COM...' at 0x7F7FDDA69228>, <Keyword 'as' at 0x7F7FDDA69108>, <Symbol '\"Data ...' at 0x7F7FDDA691C8>, <Punctuation ',' at 0x7F7FDDA69B28>, <Name 'LOCATI...' at 0x7F7FDDA69768>, <Punctuation ',' at 0x7F7FDDA694C8>, <Name 'APPOIN...' at 0x7F7FDC1A9A68>, <Punctuation ',' at 0x7F7FDC1A92E8>, <Name 'EXC_1_...' at 0x7F7FDC1A9DC8>, <Keyword 'as' at 0x7F7FDC1A97C8>, <Symbol '\"Exclu...' at 0x7F7FDC1A9E88>, <Punctuation ',' at 0x7F7FDC1A9648>, <Name 'EXC_2_...' at 0x7F7FDC1A9168>, <Keyword 'as' at 0x7F7FDC1A9A08>, <Symbol '\"Exclu...' at 0x7F7FDC1A9468>, <Punctuation ',' at 0x7F7FDDA53588>, <Name 'EXC_3_...' at 0x7F7FDDA53528>, <Keyword 'as' at 0x7F7FDDA53468>, <Symbol '\"Exclu...' at 0x7F7FDDA53AC8>, <Punctuation ',' at 0x7F7FDDA53288>, <Name 'EXC_4_...' at 0x7F7FDDA539A8>, <Keyword 'as' at 0x7F7FDDA532E8>, <Symbol '\"Exclu...' at 0x7F7FDDA53D08>, <Punctuation ',' at 0x7F7FDDA53648>, <Name 'EXC_5_...' at 0x7F7FDDA53228>, <Keyword 'as' at 0x7F7FDDA53C48>, <Symbol '\"Exclu...' at 0x7F7FDDA53828>, <Punctuation ',' at 0x7F7FDDA055E8>, <Name 'EXC_6_...' at 0x7F7FDDA054C8>, <Keyword 'as' at 0x7F7FDDA05D68>, <Symbol '\"Exclu...' at 0x7F7FDDA05108>, <Punctuation ',' at 0x7F7FDDA05EE8>, <Name 'EXC_7_...' at 0x7F7FDDA05AC8>, <Keyword 'as' at 0x7F7FDDA05948>, <Symbol '\"Exclu...' at 0x7F7FDDA05588>, <Punctuation ',' at 0x7F7FDDA05FA8>, <Name 'EXC_8_...' at 0x7F7FDDA05648>, <Keyword 'as' at 0x7F7FDDA05228>, <Symbol '\"Exclu...' at 0x7F7FDD7B9CA8>, <Punctuation ',' at 0x7F7FDD7B9588>, <Name 'EXC_9_...' at 0x7F7FDD7B99A8>, <Keyword 'as' at 0x7F7FDD7B9708>, <Symbol '\"Exclu...' at 0x7F7FDD7B90A8>, <Punctuation ',' at 0x7F7FDD7B9F48>, <Name 'EXC_10...' at 0x7F7FDD7B98E8>, <Keyword 'as' at 0x7F7FDD7B9C48>, <Symbol '\"Exclu...' at 0x7F7FDD7B9B28>, <Punctuation ',' at 0x7F7FDD7B9468>, <Name 'Exc_11...' at 0x7F7FDD7B9BE8>, <Keyword 'as' at 0x7F7FDD691F48>, <Symbol '\"Exclu...' at 0x7F7FDD691648>, <Punctuation ',' at 0x7F7FDD691D68>, <Name 'EXC_12...' at 0x7F7FDD6913A8>, <Keyword 'as' at 0x7F7FDD691CA8>, <Symbol '\"Exclu...' at 0x7F7FDD691048>, <Punctuation ',' at 0x7F7FDD691408>, <Name 'Exc_13...' at 0x7F7FDD6910A8>, <Keyword 'as' at 0x7F7FDD691E88>, <Symbol '\"Exclu...' at 0x7F7FDD691888>, <Single '--Deep...' at 0x7F7FDD691588>]}]\n"
     ]
    }
   ],
   "source": [
    "with open(filenamedave, 'r') as f:\n",
    "        query = f.read()\n",
    "#         print(query)\n",
    "#         tables = get_query_tables(query)\n",
    "#         print(tables)\n",
    "\n",
    "        # is parsing within sql_metadata.get_query_tokens working\n",
    "#         res = sqlparse.parse(query)\n",
    "#         print(res[1]) ##  this second query isnt getting picked up\n",
    "        \n",
    "        print(get_query_tokens(query))\n",
    "        \n",
    "        "
   ]
  },
  {
   "cell_type": "code",
   "execution_count": null,
   "metadata": {},
   "outputs": [],
   "source": []
  }
 ],
 "metadata": {
  "kernelspec": {
   "display_name": "Python 3",
   "language": "python",
   "name": "python3"
  },
  "language_info": {
   "codemirror_mode": {
    "name": "ipython",
    "version": 3
   },
   "file_extension": ".py",
   "mimetype": "text/x-python",
   "name": "python",
   "nbconvert_exporter": "python",
   "pygments_lexer": "ipython3",
   "version": "3.6.10"
  }
 },
 "nbformat": 4,
 "nbformat_minor": 4
}
