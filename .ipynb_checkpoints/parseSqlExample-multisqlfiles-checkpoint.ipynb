{
 "cells": [
  {
   "cell_type": "markdown",
   "metadata": {},
   "source": [
    "# using sqlparse to create meta data\n",
    "limitations\n",
    "- when using spaces in tables names with reserved keyworkds, e.g. case in \"tableau enc case view\"\n",
    "\n",
    "Have solved this by changing sq_metadata"
   ]
  },
  {
   "cell_type": "code",
   "execution_count": 41,
   "metadata": {},
   "outputs": [
    {
     "name": "stdout",
     "output_type": "stream",
     "text": [
      "# conda environments:\n",
      "#\n",
      "base                     /home/davidgriffiths/miniconda3\n",
      "sqlparse              *  /home/davidgriffiths/miniconda3/envs/sqlparse\n",
      "\n"
     ]
    }
   ],
   "source": [
    "!conda info --envs"
   ]
  },
  {
   "cell_type": "code",
   "execution_count": 42,
   "metadata": {},
   "outputs": [],
   "source": [
    "import sql_metadata"
   ]
  },
  {
   "cell_type": "code",
   "execution_count": 43,
   "metadata": {},
   "outputs": [],
   "source": [
    "import re\n",
    "from typing import List, Tuple, Optional, Dict\n",
    "import sqlparse\n",
    "\n",
    "from sqlparse.sql import TokenList\n",
    "from sqlparse.tokens import Name, Whitespace, Wildcard, Number, Punctuation"
   ]
  },
  {
   "cell_type": "markdown",
   "metadata": {},
   "source": [
    "# re built get_query_tables\n",
    "i remvoed the quote removal"
   ]
  },
  {
   "cell_type": "code",
   "execution_count": 81,
   "metadata": {},
   "outputs": [],
   "source": [
    "def get_query_tables(query: str) -> List[str]:\n",
    "    \"\"\"\n",
    "    :type query str\n",
    "    :rtype: list[str]\n",
    "    \"\"\"\n",
    "    tables = []\n",
    "    last_keyword = None\n",
    "\n",
    "    table_syntax_keywords = [\n",
    "        # SELECT queries\n",
    "        'FROM', 'WHERE', 'JOIN', 'INNER JOIN', 'FULL JOIN', 'FULL OUTER JOIN',\n",
    "        'LEFT OUTER JOIN', 'RIGHT OUTER JOIN',\n",
    "        'LEFT JOIN', 'RIGHT JOIN', 'ON',\n",
    "        # INSERT queries\n",
    "        'INTO', 'VALUES',\n",
    "        # UPDATE queries\n",
    "        'UPDATE', 'SET',\n",
    "        # Hive queries\n",
    "        'TABLE',  # INSERT TABLE\n",
    "    ]\n",
    "\n",
    "    # print(query, get_query_tokens(query))\n",
    "#     query = query.replace('\"', '')\n",
    "    query = sqlparse.format(query, strip_comments=True).strip()\n",
    "    tokens = sql_metadata.get_query_tokens(query)\n",
    "\n",
    "    for index, token in enumerate(tokens):\n",
    "#         print([token, token.ttype, last_keyword])\n",
    "        if token.is_keyword and token.value.upper() in table_syntax_keywords:\n",
    "            # keep the name of the last keyword, the next one can be a table name\n",
    "            last_keyword = token.value.upper()\n",
    "            # print('keyword', last_keyword)\n",
    "        elif str(token) == '(':\n",
    "            # reset the last_keyword for INSERT `foo` VALUES(id, bar) ...\n",
    "            last_keyword = None\n",
    "        elif token.is_keyword and str(token) in ['FORCE', 'ORDER', 'GROUP BY']:\n",
    "            # reset the last_keyword for queries like:\n",
    "            # \"SELECT x FORCE INDEX\"\n",
    "            # \"SELECT x ORDER BY\"\n",
    "            # \"SELECT x FROM y GROUP BY x\"\n",
    "            last_keyword = None\n",
    "        elif token.is_keyword and str(token) == 'SELECT' and last_keyword in ['INTO', 'TABLE']:\n",
    "            # reset the last_keyword for \"INSERT INTO SELECT\" and \"INSERT TABLE SELECT\" queries\n",
    "            last_keyword = None\n",
    "        elif token.ttype is Name or token.ttype or token.is_keyword:\n",
    "            tables = sql_metadata._update_table_names(tables, tokens, index, last_keyword)\n",
    "\n",
    "    return sql_metadata.unique(tables)"
   ]
  },
  {
   "cell_type": "markdown",
   "metadata": {},
   "source": [
    "# working with multiple files"
   ]
  },
  {
   "cell_type": "code",
   "execution_count": 45,
   "metadata": {},
   "outputs": [],
   "source": [
    "import os\n",
    "from os import path\n",
    "from pathlib import Path"
   ]
  },
  {
   "cell_type": "markdown",
   "metadata": {},
   "source": [
    "# get all sql files"
   ]
  },
  {
   "cell_type": "code",
   "execution_count": 46,
   "metadata": {},
   "outputs": [],
   "source": [
    "files = os.listdir()"
   ]
  },
  {
   "cell_type": "code",
   "execution_count": 47,
   "metadata": {},
   "outputs": [],
   "source": [
    "files_filtered = list(filter(lambda x: re.search(r\"^.*\\.(sql)$\", x), files))"
   ]
  },
  {
   "cell_type": "markdown",
   "metadata": {},
   "source": [
    "# for each file read and parse out tables"
   ]
  },
  {
   "cell_type": "code",
   "execution_count": 48,
   "metadata": {},
   "outputs": [
    {
     "name": "stdout",
     "output_type": "stream",
     "text": [
      "['\"enc_dde\".\"tableau enc case field links view\"', '\"enc_dde\".\"tableau enc case view\"', '\"enc_dde\".\"tableau enc case snapshot view\"', '\"nbn_dde_23\".\"tableau location view\"']\n"
     ]
    }
   ],
   "source": [
    "with open('untitled.sql', 'r') as f:\n",
    "    query = f.read()\n",
    "    tables = get_query_tables(query)\n",
    "    print(tables)"
   ]
  },
  {
   "cell_type": "code",
   "execution_count": 49,
   "metadata": {},
   "outputs": [
    {
     "data": {
      "text/plain": [
       "[{'name': 'untitled.sql',\n",
       "  'depnd_tables': ['\"enc_dde\".\"tableau enc case field links view\"',\n",
       "   '\"enc_dde\".\"tableau enc case view\"',\n",
       "   '\"enc_dde\".\"tableau enc case snapshot view\"',\n",
       "   '\"nbn_dde_23\".\"tableau location view\"']},\n",
       " {'name': 'untitled-Copy1.sql',\n",
       "  'depnd_tables': ['\"enc_dde\".\"tableau enc case field dave view\"',\n",
       "   '\"enc_dde\".\"tableau dave view\"',\n",
       "   '\"enc_dde\".\"tableau dave\"',\n",
       "   '\"nbn_dde_23\".\"tableau dave loc view\"']}]"
      ]
     },
     "execution_count": 49,
     "metadata": {},
     "output_type": "execute_result"
    }
   ],
   "source": [
    "list_of_sql_views = []\n",
    "\n",
    "for file in files_filtered:\n",
    "    with open(file, 'r') as f:\n",
    "        query = f.read()\n",
    "        tables = get_query_tables(query)\n",
    "        \n",
    "        # create a dict\n",
    "        dic = {}\n",
    "        dic['name'] = file\n",
    "        dic['depnd_tables'] = tables\n",
    "        list_of_sql_views.append(dic)\n",
    "\n",
    "list_of_sql_views  "
   ]
  },
  {
   "cell_type": "markdown",
   "metadata": {},
   "source": [
    "# get all sql view depedncies"
   ]
  },
  {
   "cell_type": "markdown",
   "metadata": {},
   "source": [
    "### get all files in RAPID"
   ]
  },
  {
   "cell_type": "code",
   "execution_count": 58,
   "metadata": {},
   "outputs": [
    {
     "data": {
      "text/plain": [
       "[{'fileName': 'tableau_fld_a11s_minified_xs_v.sql',\n",
       "  'path': '/home/davidgriffiths/csaa-aws-data-capability/tableau_dde/transform/views/tableau_fld_a11s_minified_xs_v.sql'},\n",
       " {'fileName': 'tableau_fld_a11s_minified_v.sql',\n",
       "  'path': '/home/davidgriffiths/csaa-aws-data-capability/tableau_dde/transform/views/tableau_fld_a11s_minified_v.sql'},\n",
       " {'fileName': 'tableau_csa_a26a_minified_repeat_tr_v.sql',\n",
       "  'path': '/home/davidgriffiths/csaa-aws-data-capability/tableau_dde/transform/views/tableau_csa_a26a_minified_repeat_tr_v.sql'}]"
      ]
     },
     "execution_count": 58,
     "metadata": {},
     "output_type": "execute_result"
    }
   ],
   "source": [
    "rapid_files = []\n",
    "for dirpath, dirname, filenames in os.walk('/home/davidgriffiths/csaa-aws-data-capability/tableau_dde/transform/views'):\n",
    "#     print('Current path:', dirpath)\n",
    "#     print('Directories:', dirname)\n",
    "#     print('Files:', filenames)\n",
    "    for file in filenames:\n",
    "        file_dict = {\n",
    "            \"fileName\": file,\n",
    "            \"path\": os.path.join(dirpath,file),\n",
    "        }\n",
    "        rapid_files.append(file_dict)\n",
    "rapid_files[0:3]"
   ]
  },
  {
   "cell_type": "markdown",
   "metadata": {},
   "source": [
    "### keep only .sql files"
   ]
  },
  {
   "cell_type": "code",
   "execution_count": 59,
   "metadata": {},
   "outputs": [
    {
     "data": {
      "text/plain": [
       "[{'fileName': 'tableau_fld_a11s_minified_xs_v.sql',\n",
       "  'path': '/home/davidgriffiths/csaa-aws-data-capability/tableau_dde/transform/views/tableau_fld_a11s_minified_xs_v.sql'},\n",
       " {'fileName': 'tableau_fld_a11s_minified_v.sql',\n",
       "  'path': '/home/davidgriffiths/csaa-aws-data-capability/tableau_dde/transform/views/tableau_fld_a11s_minified_v.sql'},\n",
       " {'fileName': 'tableau_csa_a26a_minified_repeat_tr_v.sql',\n",
       "  'path': '/home/davidgriffiths/csaa-aws-data-capability/tableau_dde/transform/views/tableau_csa_a26a_minified_repeat_tr_v.sql'},\n",
       " {'fileName': 'tableau_neto_a11s_minified_service_rollback_v.sql',\n",
       "  'path': '/home/davidgriffiths/csaa-aws-data-capability/tableau_dde/transform/views/tableau_neto_a11s_minified_service_rollback_v.sql'},\n",
       " {'fileName': 'tableau_fld_a10_minified_otd_v.sql',\n",
       "  'path': '/home/davidgriffiths/csaa-aws-data-capability/tableau_dde/transform/views/tableau_fld_a10_minified_otd_v.sql'}]"
      ]
     },
     "execution_count": 59,
     "metadata": {},
     "output_type": "execute_result"
    }
   ],
   "source": [
    "rapid_files_filtered = list(filter(lambda x: re.search(r\"^.*\\.(sql)$\", x['fileName']), rapid_files))\n",
    "rapid_files_filtered[0:5]"
   ]
  },
  {
   "cell_type": "markdown",
   "metadata": {},
   "source": [
    "## loop through files"
   ]
  },
  {
   "cell_type": "code",
   "execution_count": 82,
   "metadata": {},
   "outputs": [
    {
     "data": {
      "text/plain": [
       "[{'fileName': 'tableau_fld_a11s_minified_xs_v.sql',\n",
       "  'path': '/home/davidgriffiths/csaa-aws-data-capability/tableau_dde/transform/views/tableau_fld_a11s_minified_xs_v.sql',\n",
       "  'depnd_tables': ['tableau_dde.\"tableau_fld_a11s_minified_t\"']},\n",
       " {'fileName': 'tableau_fld_a11s_minified_v.sql',\n",
       "  'path': '/home/davidgriffiths/csaa-aws-data-capability/tableau_dde/transform/views/tableau_fld_a11s_minified_v.sql',\n",
       "  'depnd_tables': ['\"field_dde\".\"tableau field daily snapshot view\"',\n",
       "   '\"field_dde\".\"tableau field order incidents only links view\"',\n",
       "   '\"cc_dde\".\"tableau location view\"',\n",
       "   '\"cc_dde\".\"tableau cc orders view\"',\n",
       "   '\"cc_dde\".\"tableau product instance view\"',\n",
       "   '\"cc_dde\".\"tableau cc order additional attributes view\"',\n",
       "   '\"field_dde\".\"tableau field work order view\"',\n",
       "   '\"nbn_dde_23\".\"tableau incidents view\"',\n",
       "   '\"nbn_dde_23\".\"tableau incident additional attributes view\"',\n",
       "   '\"cc_dde\".\"tableau cc wo resolver group view\"',\n",
       "   'tt20',\n",
       "   'FLDA11SM_PRE']}]"
      ]
     },
     "execution_count": 82,
     "metadata": {},
     "output_type": "execute_result"
    }
   ],
   "source": [
    "list_of_rapid_sql_views = []\n",
    "\n",
    "for file in rapid_files_filtered[0:2]:\n",
    "    with open(file['path'], 'r') as f:\n",
    "        query = f.read()\n",
    "        tables = get_query_tables(query)\n",
    "#         print(tables)\n",
    "        \n",
    "        # create a dict\n",
    "        dic = {\n",
    "            'fileName': file['fileName'],\n",
    "            'path': file['path'],\n",
    "            'depnd_tables': tables\n",
    "            \n",
    "        }\n",
    "        list_of_rapid_sql_views.append(dic)\n",
    "\n",
    "list_of_rapid_sql_views "
   ]
  },
  {
   "cell_type": "markdown",
   "metadata": {},
   "source": [
    "# write out as JSON"
   ]
  },
  {
   "cell_type": "code",
   "execution_count": 83,
   "metadata": {},
   "outputs": [],
   "source": [
    "import json"
   ]
  },
  {
   "cell_type": "code",
   "execution_count": 88,
   "metadata": {},
   "outputs": [],
   "source": [
    "# # loads json from string\n",
    "# datajsonstr=json.loads('{\"str\":\"str\"}')\n",
    "# datajsonstr"
   ]
  },
  {
   "cell_type": "code",
   "execution_count": 89,
   "metadata": {},
   "outputs": [],
   "source": [
    "# stringify = json.dumps(list_of_rapid_sql_views, indent=2)\n",
    "# stringify"
   ]
  },
  {
   "cell_type": "code",
   "execution_count": 90,
   "metadata": {},
   "outputs": [],
   "source": [
    "# with open('jsonfile.json') as f:\n",
    "#     data = json.load(f)"
   ]
  },
  {
   "cell_type": "code",
   "execution_count": 92,
   "metadata": {},
   "outputs": [],
   "source": [
    "with open('list_of_rapid_sql_views.json','w') as f:\n",
    "    json.dump(list_of_rapid_sql_views, f)"
   ]
  },
  {
   "cell_type": "code",
   "execution_count": 76,
   "metadata": {},
   "outputs": [],
   "source": [
    "filenamedave = '/home/davidgriffiths/csaa-aws-data-capability/tableau_dde/transform/views/test.sql'"
   ]
  },
  {
   "cell_type": "code",
   "execution_count": null,
   "metadata": {},
   "outputs": [],
   "source": []
  }
 ],
 "metadata": {
  "kernelspec": {
   "display_name": "Python 3",
   "language": "python",
   "name": "python3"
  },
  "language_info": {
   "codemirror_mode": {
    "name": "ipython",
    "version": 3
   },
   "file_extension": ".py",
   "mimetype": "text/x-python",
   "name": "python",
   "nbconvert_exporter": "python",
   "pygments_lexer": "ipython3",
   "version": "3.6.10"
  }
 },
 "nbformat": 4,
 "nbformat_minor": 4
}
