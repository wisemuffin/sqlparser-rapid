{
 "cells": [
  {
   "cell_type": "markdown",
   "metadata": {},
   "source": [
    "# using sqlparse to create meta data\n",
    "\n",
    "### instructions\n",
    "- git pull latest\n",
    "\n",
    "### limitations\n",
    "- when using spaces in tables names with reserved keyworkds, e.g. case in \"tableau enc case view\"\n",
    "\n",
    "Have solved this by changing sq_metadata\n",
    "\n",
    "### how does this work?\n",
    "- sql files is made up of one to many sql statements\n",
    "- each sql statments is made up of tokens\n",
    "- tokens seperate out keyworkds, DML, DDL, names and puncutation ect.\n",
    "\n",
    "### output\n",
    "- parent child relationships of every single sql statement in every sql file (can be multiple)\n",
    "- example:"
   ]
  },
  {
   "cell_type": "code",
   "execution_count": 496,
   "metadata": {},
   "outputs": [
    {
     "data": {
      "text/plain": [
       "[{'fileName': 'Tableau MTM Glide Path Target View.sql',\n",
       "  'name': 'Tableau MTM Glide Path Target View',\n",
       "  'path': '/home/davidgriffiths/csaa-aws-data-capability/nbn_dde_23/tableau_views/Tableau MTM Glide Path Target View.sql',\n",
       "  'depnd_tables': [],\n",
       "  'parent': 'nbn_dde_23.\"Tableau MTM Glide Path Target View\"',\n",
       "  'ddl_type': 'DROP'}]"
      ]
     },
     "execution_count": 496,
     "metadata": {},
     "output_type": "execute_result"
    }
   ],
   "source": [
    "# example output \n",
    "[{'fileName': 'Tableau MTM Glide Path Target View.sql',\n",
    "  'name': 'Tableau MTM Glide Path Target View',\n",
    "  'path': '/home/davidgriffiths/csaa-aws-data-capability/nbn_dde_23/tableau_views/Tableau MTM Glide Path Target View.sql',\n",
    "  'depnd_tables': [],\n",
    "  'parent': 'nbn_dde_23.\"Tableau MTM Glide Path Target View\"',\n",
    "  'ddl_type': 'DROP'}]"
   ]
  },
  {
   "cell_type": "markdown",
   "metadata": {},
   "source": [
    "# setup"
   ]
  },
  {
   "cell_type": "code",
   "execution_count": 463,
   "metadata": {},
   "outputs": [
    {
     "name": "stdout",
     "output_type": "stream",
     "text": [
      "# conda environments:\n",
      "#\n",
      "base                     /home/davidgriffiths/miniconda3\n",
      "sqlparse              *  /home/davidgriffiths/miniconda3/envs/sqlparse\n",
      "\n"
     ]
    }
   ],
   "source": [
    "!conda info --envs"
   ]
  },
  {
   "cell_type": "code",
   "execution_count": 464,
   "metadata": {},
   "outputs": [],
   "source": [
    "import sql_metadata"
   ]
  },
  {
   "cell_type": "code",
   "execution_count": 465,
   "metadata": {},
   "outputs": [],
   "source": [
    "import re\n",
    "from typing import List, Tuple, Optional, Dict\n",
    "import sqlparse\n",
    "\n",
    "from sqlparse.sql import TokenList\n",
    "from sqlparse.tokens import Name, Whitespace, Wildcard, Number, Punctuation, DDL "
   ]
  },
  {
   "cell_type": "markdown",
   "metadata": {},
   "source": [
    "# re built get_query_tokens\n",
    "need to account for multiple queries in a file"
   ]
  },
  {
   "cell_type": "code",
   "execution_count": 466,
   "metadata": {},
   "outputs": [],
   "source": [
    "def get_query_tokens(query: str) -> List[sqlparse.sql.Token]:\n",
    "    \"\"\"\n",
    "    daves changes: sqlparse.parse(query) returns a tuple if multiple queries \";\" need to handle this\n",
    "    :type query str\n",
    "    :rtype: list[{queryNoWithinFile str,  tokens: list[sqlparse.sql.Token]}\n",
    "    \"\"\"\n",
    "    query = sql_metadata.preprocess_query(query)\n",
    "    parsed = sqlparse.parse(query)\n",
    "\n",
    "    # handle empty queries (#12)\n",
    "    if not parsed:\n",
    "        return []\n",
    "\n",
    "    queries_list_and_tokens =[]\n",
    "    n=0\n",
    "    for qry in parsed:\n",
    "        tokens = TokenList(qry.tokens).flatten()\n",
    "        # print([(token.value, token.ttype) for token in tokens])\n",
    "\n",
    "        dic = {\"queryNoWithinFile\":n,\"tokens\":[token for token in tokens if token.ttype is not Whitespace]}\n",
    "        queries_list_and_tokens.append(dic)\n",
    "        n = n+1\n",
    "    return queries_list_and_tokens"
   ]
  },
  {
   "cell_type": "markdown",
   "metadata": {},
   "source": [
    "# re built get_query_tables\n",
    "i remvoed the quote removal"
   ]
  },
  {
   "cell_type": "code",
   "execution_count": 509,
   "metadata": {},
   "outputs": [],
   "source": [
    "def get_query_tables(query: str, dev=False) -> List[str]:\n",
    "    \"\"\"\n",
    "    :type query str\n",
    "    :rtype: list[str]\n",
    "    \"\"\"\n",
    "    \n",
    "\n",
    "    table_syntax_keywords = [\n",
    "        # SELECT queries\n",
    "        'FROM', 'WHERE', 'JOIN', 'INNER JOIN', 'FULL JOIN', 'FULL OUTER JOIN',\n",
    "        'LEFT OUTER JOIN', 'RIGHT OUTER JOIN',\n",
    "        'LEFT JOIN', 'RIGHT JOIN', 'ON',\n",
    "        # INSERT queries\n",
    "        'INTO', 'VALUES',\n",
    "        # UPDATE queries\n",
    "        'UPDATE', 'SET',\n",
    "        # Hive queries\n",
    "        'TABLE',  # INSERT TABLE\n",
    "        \n",
    "    ]\n",
    "    \n",
    "#     print(sql_metadata.get_query_tokens(query))\n",
    "#     query = query.replace('\"', '')\n",
    "    query = sqlparse.format(query, strip_comments=True).strip()\n",
    "#     print(query)\n",
    "    queries_list_and_tokens = get_query_tokens(query)\n",
    "    \n",
    "    queries_list_and_tokens_parsed =[]\n",
    "    \n",
    "    for query_and_tokens in queries_list_and_tokens:\n",
    "        parent_table_list = []\n",
    "        parent_table_counter = 0 # increments to 2 to get schema and table\n",
    "        tables = []\n",
    "        last_keyword = None\n",
    "        last_ddl =None\n",
    "        keep_last_ddl = None\n",
    "        \n",
    "        for index, token in enumerate(query_and_tokens['tokens']):\n",
    "            if dev==True: print([token, token.ttype, last_keyword,last_ddl, token.value.upper(),parent_table_counter, last_ddl])\n",
    "            if token.is_keyword and token.value.upper() in table_syntax_keywords:\n",
    "                # keep the name of the last keyword, the next one can be a table name\n",
    "                last_keyword = token.value.upper()\n",
    "#                 print('keyword', last_keyword)\n",
    "            elif str(token.ttype) == 'Token.Keyword.DDL':\n",
    "                # keep the name of the last create, the next one can be annother table to create\n",
    "                last_ddl = token.value.upper()\n",
    "                keep_last_ddl= token.value.upper()\n",
    "                print('keyword.lld', token.value.upper())\n",
    "#             elif str(token.ttype) == 'Token.Keyword.DDL' and 'CREATE' in token.value.upper():\n",
    "#                 # keep the name of the last create, the next one can be annother table to create\n",
    "#                 last_ddl = 'CREATE'\n",
    "#                 keep_last_ddl= 'CREATE'\n",
    "#                 print('keyword.lld', last_ddl)\n",
    "#             elif str(token.ttype) == 'Token.Keyword.DDL' and 'DROP' in token.value.upper():\n",
    "#                 # keep the name of the last create, the next one can be annother table to create\n",
    "#                 last_ddl = 'DROP'\n",
    "#                 keep_last_ddl= 'DROP'\n",
    "#                 print('keyword.lld', last_ddl)\n",
    "            elif str(token) == '(':\n",
    "                # reset the last_keyword for INSERT `foo` VALUES(id, bar) ...\n",
    "                last_keyword = None\n",
    "            elif token.is_keyword and str(token) in ['FORCE', 'ORDER', 'GROUP BY']:\n",
    "                # reset the last_keyword for queries like:\n",
    "                # \"SELECT x FORCE INDEX\"\n",
    "                # \"SELECT x ORDER BY\"\n",
    "                # \"SELECT x FROM y GROUP BY x\"\n",
    "                last_keyword = None\n",
    "            elif token.is_keyword and str(token) == 'SELECT' and last_keyword in ['INTO', 'TABLE']:\n",
    "                # reset the last_keyword for \"INSERT INTO SELECT\" and \"INSERT TABLE SELECT\" queries\n",
    "                last_keyword = None\n",
    "            elif (token.ttype is Name or str(token.ttype) == 'Token.Literal.String.Symbol') and last_ddl in ['CREATE','DROP']:\n",
    "#                 print(\"found a CREATE or DROP\")\n",
    "                parent_table_list.append(str(token))\n",
    "                parent_table_counter = parent_table_counter + 1\n",
    "                if parent_table_counter > 1:\n",
    "                    last_ddl = None\n",
    "                    parent_table_counter = 0\n",
    "#                 parent_table = sql_metadata._update_table_names(tables, query_and_tokens['tokens'], index, last_keyword)\n",
    "            elif token.ttype is Name or token.ttype or token.is_keyword:\n",
    "                tables = sql_metadata._update_table_names(tables, query_and_tokens['tokens'], index, last_keyword)\n",
    "        unique_tables = sql_metadata.unique(tables)\n",
    "        dic = {\n",
    "            \"queryNoWithinFile\": query_and_tokens['queryNoWithinFile'],\n",
    "            \"tables\": unique_tables,\n",
    "            \"parent_table\": '.'.join(parent_table_list),\n",
    "            \"ddl_type\": keep_last_ddl\n",
    "        }\n",
    "        queries_list_and_tokens_parsed.append(dic)\n",
    "\n",
    "    return queries_list_and_tokens_parsed"
   ]
  },
  {
   "cell_type": "markdown",
   "metadata": {},
   "source": [
    "# working with multiple files"
   ]
  },
  {
   "cell_type": "code",
   "execution_count": 468,
   "metadata": {},
   "outputs": [],
   "source": [
    "import os\n",
    "from os import path\n",
    "from pathlib import Path"
   ]
  },
  {
   "cell_type": "markdown",
   "metadata": {},
   "source": [
    "# get all sql files"
   ]
  },
  {
   "cell_type": "code",
   "execution_count": 469,
   "metadata": {},
   "outputs": [],
   "source": [
    "files = os.listdir()"
   ]
  },
  {
   "cell_type": "code",
   "execution_count": 470,
   "metadata": {},
   "outputs": [],
   "source": [
    "files_filtered = list(filter(lambda x: re.search(r\"^.*\\.(sql)$\", x), files))"
   ]
  },
  {
   "cell_type": "markdown",
   "metadata": {},
   "source": [
    "# get all sql view depedncies"
   ]
  },
  {
   "cell_type": "markdown",
   "metadata": {},
   "source": [
    "### get all files in RAPID"
   ]
  },
  {
   "cell_type": "code",
   "execution_count": 473,
   "metadata": {},
   "outputs": [],
   "source": [
    "rapid_dirs = ['nbn_dde_23/tableau_views'] # ['tableau_dde/transform/views'] # ['nbn_dde_23/tableau_views','tableau_dde/transform/views']"
   ]
  },
  {
   "cell_type": "code",
   "execution_count": 474,
   "metadata": {},
   "outputs": [
    {
     "data": {
      "text/plain": [
       "[{'fileName': 'Tableau MTM Glide Path Target View.sql',\n",
       "  'path': '/home/davidgriffiths/csaa-aws-data-capability/nbn_dde_23/tableau_views/Tableau MTM Glide Path Target View.sql'},\n",
       " {'fileName': 'Tableau Incident Mdf Detailed View.sql',\n",
       "  'path': '/home/davidgriffiths/csaa-aws-data-capability/nbn_dde_23/tableau_views/Tableau Incident Mdf Detailed View.sql'},\n",
       " {'fileName': 'Tableau Incident Work Requests View.sql',\n",
       "  'path': '/home/davidgriffiths/csaa-aws-data-capability/nbn_dde_23/tableau_views/Tableau Incident Work Requests View.sql'}]"
      ]
     },
     "execution_count": 474,
     "metadata": {},
     "output_type": "execute_result"
    }
   ],
   "source": [
    "rapid_files = []\n",
    "for rapid_dir in rapid_dirs:\n",
    "    for dirpath, dirname, filenames in os.walk(os.path.join('/home/davidgriffiths/csaa-aws-data-capability',rapid_dir)):\n",
    "    #     print('Current path:', dirpath)\n",
    "    #     print('Directories:', dirname)\n",
    "    #     print('Files:', filenames)\n",
    "        for file in filenames:\n",
    "            file_dict = {\n",
    "                \"fileName\": file,\n",
    "                \"path\": os.path.join(dirpath,file),\n",
    "            }\n",
    "            rapid_files.append(file_dict)\n",
    "rapid_files[0:3]"
   ]
  },
  {
   "cell_type": "markdown",
   "metadata": {},
   "source": [
    "### keep only .sql files"
   ]
  },
  {
   "cell_type": "code",
   "execution_count": 475,
   "metadata": {},
   "outputs": [
    {
     "data": {
      "text/plain": [
       "[{'fileName': 'Tableau MTM Glide Path Target View.sql',\n",
       "  'path': '/home/davidgriffiths/csaa-aws-data-capability/nbn_dde_23/tableau_views/Tableau MTM Glide Path Target View.sql'},\n",
       " {'fileName': 'Tableau Incident Mdf Detailed View.sql',\n",
       "  'path': '/home/davidgriffiths/csaa-aws-data-capability/nbn_dde_23/tableau_views/Tableau Incident Mdf Detailed View.sql'},\n",
       " {'fileName': 'Tableau Incident Work Requests View.sql',\n",
       "  'path': '/home/davidgriffiths/csaa-aws-data-capability/nbn_dde_23/tableau_views/Tableau Incident Work Requests View.sql'},\n",
       " {'fileName': 'Tableau Genesys VWFM Agent Adherence View.sql',\n",
       "  'path': '/home/davidgriffiths/csaa-aws-data-capability/nbn_dde_23/tableau_views/Tableau Genesys VWFM Agent Adherence View.sql'},\n",
       " {'fileName': 'Tableau Pni Snapshot Audit Report View.sql',\n",
       "  'path': '/home/davidgriffiths/csaa-aws-data-capability/nbn_dde_23/tableau_views/Tableau Pni Snapshot Audit Report View.sql'}]"
      ]
     },
     "execution_count": 475,
     "metadata": {},
     "output_type": "execute_result"
    }
   ],
   "source": [
    "rapid_files_filtered = list(filter(lambda x: re.search(r\"^.*\\.(sql)$\", x['fileName']), rapid_files))\n",
    "rapid_files_filtered[0:5]"
   ]
  },
  {
   "cell_type": "markdown",
   "metadata": {},
   "source": [
    "## loop through files"
   ]
  },
  {
   "cell_type": "code",
   "execution_count": 510,
   "metadata": {},
   "outputs": [
    {
     "name": "stdout",
     "output_type": "stream",
     "text": [
      "[<DDL 'drop' at 0x7F7FDD3F9A08>, Token.Keyword.DDL, None, None, 'DROP', 0, None]\n",
      "keyword.lld DROP\n",
      "[<Keyword 'view' at 0x7F7FDD3DF648>, Token.Keyword, None, 'DROP', 'VIEW', 0, 'DROP']\n",
      "[<Keyword 'if' at 0x7F7FDD3DF288>, Token.Keyword, None, 'DROP', 'IF', 0, 'DROP']\n",
      "[<Keyword 'exists' at 0x7F7FDD3DFCA8>, Token.Keyword, None, 'DROP', 'EXISTS', 0, 'DROP']\n",
      "[<Name 'nbn_dd...' at 0x7F7FDD3DFD68>, Token.Name, None, 'DROP', 'NBN_DDE_23', 0, 'DROP']\n",
      "[<Punctuation '.' at 0x7F7FDD3DF4C8>, Token.Punctuation, None, 'DROP', '.', 1, 'DROP']\n",
      "[<Symbol '\"Table...' at 0x7F7FDD3DF108>, Token.Literal.String.Symbol, None, 'DROP', '\"TABLEAU MTM GLIDE PATH TARGET VIEW\"', 1, 'DROP']\n",
      "[<Punctuation ';' at 0x7F7FDD3DF888>, Token.Punctuation, None, None, ';', 0, None]\n",
      "[<DDL 'Create' at 0x7F7FDD3DF408>, Token.Keyword.DDL, None, None, 'CREATE', 0, None]\n",
      "keyword.lld CREATE\n",
      "[<Keyword 'view' at 0x7F7FDD3DF7C8>, Token.Keyword, None, 'CREATE', 'VIEW', 0, 'CREATE']\n",
      "[<Name 'nbn_dd...' at 0x7F7FDD3DF588>, Token.Name, None, 'CREATE', 'NBN_DDE_23', 0, 'CREATE']\n",
      "[<Punctuation '.' at 0x7F7FDD3DFA08>, Token.Punctuation, None, 'CREATE', '.', 1, 'CREATE']\n",
      "[<Symbol '\"Table...' at 0x7F7FDD3DFA68>, Token.Literal.String.Symbol, None, 'CREATE', '\"TABLEAU MTM GLIDE PATH TARGET VIEW\"', 1, 'CREATE']\n",
      "[<Keyword 'as' at 0x7F7FDD3DF828>, Token.Keyword, None, None, 'AS', 0, None]\n",
      "[<DML 'SELECT' at 0x7F7FDD3F4888>, Token.Keyword.DML, None, None, 'SELECT', 0, None]\n",
      "[<Name 'date_g...' at 0x7F7FDD3F4D08>, Token.Name, None, None, 'DATE_GRANULARITY', 0, None]\n",
      "[<Keyword 'as' at 0x7F7FDD3F47C8>, Token.Keyword, None, None, 'AS', 0, None]\n",
      "[<Symbol '\"Date ...' at 0x7F7FDD3F4B28>, Token.Literal.String.Symbol, None, None, '\"DATE GRANULARITY\"', 0, None]\n",
      "[<Punctuation ',' at 0x7F7FDD3F4768>, Token.Punctuation, None, None, ',', 0, None]\n",
      "[<Symbol '\"Metri...' at 0x7F7FDD3F4A68>, Token.Literal.String.Symbol, None, None, '\"METRIC NAME\"', 0, None]\n",
      "[<Punctuation ',' at 0x7F7FDD3F43A8>, Token.Punctuation, None, None, ',', 0, None]\n",
      "[<Symbol '\"NBN T...' at 0x7F7FDD3F4708>, Token.Literal.String.Symbol, None, None, '\"NBN TECHNOLOGY\"', 0, None]\n",
      "[<Punctuation ',' at 0x7F7FDD3D3588>, Token.Punctuation, None, None, ',', 0, None]\n",
      "[<Symbol '\"Targe...' at 0x7F7FDDAD6048>, Token.Literal.String.Symbol, None, None, '\"TARGET DATE\"', 0, None]\n",
      "[<Punctuation ',' at 0x7F7FDDAD61C8>, Token.Punctuation, None, None, ',', 0, None]\n",
      "[<Symbol '\"Targe...' at 0x7F7FDDAD6A68>, Token.Literal.String.Symbol, None, None, '\"TARGET LOWER\"', 0, None]\n",
      "[<Punctuation ',' at 0x7F7FDDAD62E8>, Token.Punctuation, None, None, ',', 0, None]\n",
      "[<Symbol '\"Targe...' at 0x7F7FDDAD6E28>, Token.Literal.String.Symbol, None, None, '\"TARGET UPPER\"', 0, None]\n",
      "[<Keyword 'FROM' at 0x7F7FDDAF77C8>, Token.Keyword, None, None, 'FROM', 0, None]\n",
      "[<Name 'nbn_dd...' at 0x7F7FDDAF7EE8>, Token.Name, 'FROM', None, 'NBN_DDE_23', 0, None]\n",
      "[<Punctuation '.' at 0x7F7FDDAF7828>, Token.Punctuation, 'FROM', None, '.', 0, None]\n",
      "[<Name 'csa_mt...' at 0x7F7FDDAF7E28>, Token.Name, 'FROM', None, 'CSA_MTM_GLIDE_PATH_TARGET_EXTRACT_T', 0, None]\n",
      "[<CTE 'with' at 0x7F7FDD3F6048>, Token.Keyword.CTE, 'FROM', None, 'WITH', 0, None]\n",
      "[<Keyword 'no' at 0x7F7FDD3F6108>, Token.Keyword, 'FROM', None, 'NO', 0, None]\n",
      "[<Keyword 'schema' at 0x7F7FDD3F61C8>, Token.Keyword, 'FROM', None, 'SCHEMA', 0, None]\n",
      "[<Name 'binding' at 0x7F7FDD3F6288>, Token.Name, 'FROM', None, 'BINDING', 0, None]\n",
      "[<Punctuation ';' at 0x7F7FDD3F62E8>, Token.Punctuation, 'FROM', None, ';', 0, None]\n"
     ]
    },
    {
     "data": {
      "text/plain": [
       "[{'fileName': 'Tableau MTM Glide Path Target View.sql',\n",
       "  'name': 'Tableau MTM Glide Path Target View',\n",
       "  'path': '/home/davidgriffiths/csaa-aws-data-capability/nbn_dde_23/tableau_views/Tableau MTM Glide Path Target View.sql',\n",
       "  'depnd_tables': [],\n",
       "  'parent': 'nbn_dde_23.\"Tableau MTM Glide Path Target View\"',\n",
       "  'ddl_type': 'DROP'},\n",
       " {'fileName': 'Tableau MTM Glide Path Target View.sql',\n",
       "  'name': 'Tableau MTM Glide Path Target View',\n",
       "  'path': '/home/davidgriffiths/csaa-aws-data-capability/nbn_dde_23/tableau_views/Tableau MTM Glide Path Target View.sql',\n",
       "  'depnd_tables': ['nbn_dde_23.csa_mtm_glide_path_target_extract_t'],\n",
       "  'parent': 'nbn_dde_23.\"Tableau MTM Glide Path Target View\"',\n",
       "  'ddl_type': 'CREATE'}]"
      ]
     },
     "execution_count": 510,
     "metadata": {},
     "output_type": "execute_result"
    }
   ],
   "source": [
    "list_of_rapid_sql_views = []\n",
    "\n",
    "for file in rapid_files_filtered[0:1]:\n",
    "    with open(file['path'], 'r') as f:\n",
    "        query = f.read()\n",
    "        queries_and_tables = get_query_tables(query,True)\n",
    "    \n",
    "        for qry in queries_and_tables:\n",
    "            \n",
    "            dic = {\n",
    "                'fileName': file['fileName'],\n",
    "                'name': os.path.splitext(file['fileName'])[0],\n",
    "                'path': file['path'],\n",
    "                'depnd_tables': qry['tables'],\n",
    "                'parent': qry[\"parent_table\"],\n",
    "                'ddl_type': qry['ddl_type']\n",
    "            }\n",
    "\n",
    "            list_of_rapid_sql_views.append(dic) \n",
    "        \n",
    "\n",
    "list_of_rapid_sql_views"
   ]
  },
  {
   "cell_type": "markdown",
   "metadata": {},
   "source": [
    "# write out as JSON"
   ]
  },
  {
   "cell_type": "code",
   "execution_count": 477,
   "metadata": {},
   "outputs": [],
   "source": [
    "import json"
   ]
  },
  {
   "cell_type": "code",
   "execution_count": 478,
   "metadata": {},
   "outputs": [],
   "source": [
    "# # loads json from string\n",
    "# datajsonstr=json.loads('{\"str\":\"str\"}')\n",
    "# datajsonstr"
   ]
  },
  {
   "cell_type": "code",
   "execution_count": 479,
   "metadata": {},
   "outputs": [],
   "source": [
    "# stringify = json.dumps(list_of_rapid_sql_views, indent=2)\n",
    "# stringify"
   ]
  },
  {
   "cell_type": "code",
   "execution_count": 480,
   "metadata": {},
   "outputs": [],
   "source": [
    "# with open('jsonfile.json') as f:\n",
    "#     data = json.load(f)"
   ]
  },
  {
   "cell_type": "code",
   "execution_count": 481,
   "metadata": {},
   "outputs": [],
   "source": [
    "with open('list_of_rapid_sql_views.json','w') as f:\n",
    "    json.dump(list_of_rapid_sql_views, f)"
   ]
  },
  {
   "cell_type": "markdown",
   "metadata": {},
   "source": [
    "# test out funny files"
   ]
  },
  {
   "cell_type": "code",
   "execution_count": 482,
   "metadata": {},
   "outputs": [],
   "source": [
    "filenamedave = '/home/davidgriffiths/csaa-aws-data-capability/nbn_dde_23/tableau_views/Tableau Incident WO Links View.sql'"
   ]
  },
  {
   "cell_type": "code",
   "execution_count": 483,
   "metadata": {},
   "outputs": [
    {
     "name": "stdout",
     "output_type": "stream",
     "text": [
      "[{'queryNoWithinFile': 0, 'tables': [], 'parent_table': 'nbn_dde_23.\"Tableau Incident WO Links View\"', 'ddl_type': 'DROP'}, {'queryNoWithinFile': 1, 'tables': ['nbn_dde_23.CSA_INCIDENT_LINKS_WO_T'], 'parent_table': 'nbn_dde_23.\"Tableau Incident WO Links View\"', 'ddl_type': 'CREATE'}]\n"
     ]
    }
   ],
   "source": [
    "with open(filenamedave, 'r') as f:\n",
    "        query = f.read()\n",
    "#         print(query)\n",
    "        tables = get_query_tables(query)\n",
    "        print(tables)"
   ]
  },
  {
   "cell_type": "markdown",
   "metadata": {},
   "source": [
    "# problem sqlparse.parse doesnt do multiple queries"
   ]
  },
  {
   "cell_type": "code",
   "execution_count": 484,
   "metadata": {},
   "outputs": [
    {
     "name": "stdout",
     "output_type": "stream",
     "text": [
      "[{'queryNoWithinFile': 0, 'tokens': [<DDL 'drop' at 0x7F7FCFE13828>, <Keyword 'view' at 0x7F7FCFE139A8>, <Keyword 'if' at 0x7F7FCFE13A68>, <Keyword 'exists' at 0x7F7FCFE13B28>, <Name 'nbn_dd...' at 0x7F7FCFE13BE8>, <Punctuation '.' at 0x7F7FCFE13C48>, <Symbol '\"Table...' at 0x7F7FCFE13CA8>, <Punctuation ';' at 0x7F7FCFE13D08>]}, {'queryNoWithinFile': 1, 'tokens': [<DDL 'CREATE...' at 0x7F7FCFE13E28>, <Keyword 'VIEW' at 0x7F7FCFE13EE8>, <Name 'nbn_dd...' at 0x7F7FCFE13FA8>, <Punctuation '.' at 0x7F7FCFE05048>, <Symbol '\"Table...' at 0x7F7FCFE050A8>, <Keyword 'AS' at 0x7F7FCFE05168>, <DML 'SELECT' at 0x7F7FCFE05228>, <Name 'INC_WO...' at 0x7F7FCFE052E8>, <Punctuation ',' at 0x7F7FCFE05648>, <Name 'INCIDE...' at 0x7F7FCFE13588>, <Punctuation ',' at 0x7F7FCFE13288>, <Name 'APPOIN...' at 0x7F7FCFE130A8>, <Punctuation ',' at 0x7F7FCFE3A6A8>, <Name 'WORK_R...' at 0x7F7FCFE3AEE8>, <Punctuation ',' at 0x7F7FCFE3A948>, <Name 'WORK_O...' at 0x7F7FCFE3AB28>, <Punctuation ',' at 0x7F7FCFE3AC48>, <Name 'PRI_ID...' at 0x7F7FCFE3AD08>, <Punctuation ',' at 0x7F7FCFE05948>, <Name 'PRI_KE...' at 0x7F7FCFE05A08>, <Punctuation ',' at 0x7F7FCFE05D68>, <Name 'DQ_COM...' at 0x7F7FCFE05E28>, <Keyword 'as' at 0x7F7FCFE05EE8>, <Symbol '\"Data ...' at 0x7F7FCFE05FA8>, <Punctuation ',' at 0x7F7FCFE28348>, <Name 'LOCATI...' at 0x7F7FCFE28408>, <Punctuation ',' at 0x7F7FCFE28768>, <Name 'APPOIN...' at 0x7F7FCFE28828>, <Punctuation ',' at 0x7F7FCFE28B88>, <Name 'EXC_1_...' at 0x7F7FCFE28C48>, <Keyword 'as' at 0x7F7FCFE28D08>, <Symbol '\"Exclu...' at 0x7F7FCFE28DC8>, <Punctuation ',' at 0x7F7FCFE279A8>, <Name 'EXC_2_...' at 0x7F7FCFE27A68>, <Keyword 'as' at 0x7F7FCFE27B28>, <Symbol '\"Exclu...' at 0x7F7FCFE27BE8>, <Punctuation ',' at 0x7F7FCFE27FA8>, <Name 'EXC_3_...' at 0x7F7FCFE27828>, <Keyword 'as' at 0x7F7FCFE27528>, <Symbol '\"Exclu...' at 0x7F7FCFE273A8>, <Punctuation ',' at 0x7F7FCFE27228>, <Name 'EXC_4_...' at 0x7F7FCFE27168>, <Keyword 'as' at 0x7F7FCFE270A8>, <Symbol '\"Exclu...' at 0x7F7FCFE27288>, <Punctuation ',' at 0x7F7FCFE152E8>, <Name 'EXC_5_...' at 0x7F7FCFE153A8>, <Keyword 'as' at 0x7F7FCFE15468>, <Symbol '\"Exclu...' at 0x7F7FCFE15588>, <Punctuation ',' at 0x7F7FCFE15948>, <Name 'EXC_6_...' at 0x7F7FCFE15A08>, <Keyword 'as' at 0x7F7FCFE15AC8>, <Symbol '\"Exclu...' at 0x7F7FCFE15B88>, <Punctuation ',' at 0x7F7FCFE15F48>, <Name 'EXC_7_...' at 0x7F7FCFE15D08>, <Keyword 'as' at 0x7F7FCFE154C8>, <Symbol '\"Exclu...' at 0x7F7FCFE22048>, <Punctuation ',' at 0x7F7FCFE22408>, <Name 'EXC_8_...' at 0x7F7FCFE224C8>, <Keyword 'as' at 0x7F7FCFE22768>, <Symbol '\"Exclu...' at 0x7F7FCFE22828>, <Punctuation ',' at 0x7F7FCFE22BE8>, <Name 'EXC_9_...' at 0x7F7FCFE22CA8>, <Keyword 'as' at 0x7F7FCFE22D68>, <Symbol '\"Exclu...' at 0x7F7FCFE22E28>, <Punctuation ',' at 0x7F7FCFE226A8>, <Name 'EXC_10...' at 0x7F7FCFE22168>, <Keyword 'as' at 0x7F7FCFE025E8>, <Symbol '\"Exclu...' at 0x7F7FCFE026A8>, <Punctuation ',' at 0x7F7FCFE02F48>, <Name 'Exc_11...' at 0x7F7FCFE02E88>, <Keyword 'as' at 0x7F7FCFE02DC8>, <Symbol '\"Exclu...' at 0x7F7FCFE02D08>, <Punctuation ',' at 0x7F7FCFE02408>, <Name 'EXC_12...' at 0x7F7FCFE02348>, <Keyword 'as' at 0x7F7FCFE02288>, <Symbol '\"Exclu...' at 0x7F7FCFE021C8>, <Punctuation ',' at 0x7F7FCFE02B28>, <Name 'Exc_13...' at 0x7F7FCFE02A68>, <Keyword 'as' at 0x7F7FCFE028E8>, <Symbol '\"Exclu...' at 0x7F7FCFE029A8>, <Single '--Deep...' at 0x7F7FCFE3B288>]}]\n"
     ]
    }
   ],
   "source": [
    "with open(filenamedave, 'r') as f:\n",
    "        query = f.read()\n",
    "#         print(query)\n",
    "#         tables = get_query_tables(query)\n",
    "#         print(tables)\n",
    "\n",
    "        # is parsing within sql_metadata.get_query_tokens working\n",
    "#         res = sqlparse.parse(query)\n",
    "#         print(res[1]) ##  this second query isnt getting picked up\n",
    "        \n",
    "        print(get_query_tokens(query))\n",
    "        \n",
    "        "
   ]
  },
  {
   "cell_type": "code",
   "execution_count": null,
   "metadata": {},
   "outputs": [],
   "source": []
  }
 ],
 "metadata": {
  "kernelspec": {
   "display_name": "Python 3",
   "language": "python",
   "name": "python3"
  },
  "language_info": {
   "codemirror_mode": {
    "name": "ipython",
    "version": 3
   },
   "file_extension": ".py",
   "mimetype": "text/x-python",
   "name": "python",
   "nbconvert_exporter": "python",
   "pygments_lexer": "ipython3",
   "version": "3.6.10"
  }
 },
 "nbformat": 4,
 "nbformat_minor": 4
}
