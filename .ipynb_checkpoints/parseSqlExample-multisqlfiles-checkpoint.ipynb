{
 "cells": [
  {
   "cell_type": "markdown",
   "metadata": {},
   "source": [
    "# using sqlparse to create meta data\n",
    "\n",
    "### instructions\n",
    "- git pull latest\n",
    "\n",
    "### limitations\n",
    "- when using spaces in tables names with reserved keyworkds, e.g. case in \"tableau enc case view\"\n",
    "\n",
    "Have solved this by changing sq_metadata\n",
    "\n",
    "### how does this work?\n",
    "- sql files is made up of one to many sql statements\n",
    "- each sql statments is made up of tokens\n",
    "- tokens seperate out keyworkds, DML, DDL, names and puncutation ect.\n",
    "\n",
    "### output\n",
    "- parent child relationships of every single sql statement in every sql file (can be multiple)\n",
    "- example:"
   ]
  },
  {
   "cell_type": "code",
   "execution_count": 513,
   "metadata": {},
   "outputs": [
    {
     "data": {
      "text/plain": [
       "[{'fileName': 'Tableau MTM Glide Path Target View.sql',\n",
       "  'name': 'Tableau MTM Glide Path Target View',\n",
       "  'path': '/home/davidgriffiths/csaa-aws-data-capability/nbn_dde_23/tableau_views/Tableau MTM Glide Path Target View.sql',\n",
       "  'depnd_tables': [],\n",
       "  'parent': 'nbn_dde_23.\"Tableau MTM Glide Path Target View\"',\n",
       "  'ddl_type': 'DROP'}]"
      ]
     },
     "execution_count": 513,
     "metadata": {},
     "output_type": "execute_result"
    }
   ],
   "source": [
    "# example output \n",
    "[{'fileName': 'Tableau MTM Glide Path Target View.sql',\n",
    "  'name': 'Tableau MTM Glide Path Target View',\n",
    "  'path': '/home/davidgriffiths/csaa-aws-data-capability/nbn_dde_23/tableau_views/Tableau MTM Glide Path Target View.sql',\n",
    "  'depnd_tables': [],\n",
    "  'parent': 'nbn_dde_23.\"Tableau MTM Glide Path Target View\"',\n",
    "  'ddl_type': 'DROP'}]"
   ]
  },
  {
   "cell_type": "markdown",
   "metadata": {},
   "source": [
    "# setup"
   ]
  },
  {
   "cell_type": "code",
   "execution_count": 514,
   "metadata": {},
   "outputs": [
    {
     "name": "stdout",
     "output_type": "stream",
     "text": [
      "# conda environments:\n",
      "#\n",
      "base                     /home/davidgriffiths/miniconda3\n",
      "sqlparse              *  /home/davidgriffiths/miniconda3/envs/sqlparse\n",
      "\n"
     ]
    }
   ],
   "source": [
    "!conda info --envs"
   ]
  },
  {
   "cell_type": "code",
   "execution_count": 515,
   "metadata": {},
   "outputs": [],
   "source": [
    "import sql_metadata"
   ]
  },
  {
   "cell_type": "code",
   "execution_count": 516,
   "metadata": {},
   "outputs": [],
   "source": [
    "import re\n",
    "from typing import List, Tuple, Optional, Dict\n",
    "import sqlparse\n",
    "\n",
    "from sqlparse.sql import TokenList\n",
    "from sqlparse.tokens import Name, Whitespace, Wildcard, Number, Punctuation, DDL "
   ]
  },
  {
   "cell_type": "markdown",
   "metadata": {},
   "source": [
    "# re built get_query_tokens\n",
    "need to account for multiple queries in a file"
   ]
  },
  {
   "cell_type": "code",
   "execution_count": 517,
   "metadata": {},
   "outputs": [],
   "source": [
    "def get_query_tokens(query: str) -> List[sqlparse.sql.Token]:\n",
    "    \"\"\"\n",
    "    daves changes: sqlparse.parse(query) returns a tuple if multiple queries \";\" need to handle this\n",
    "    :type query str\n",
    "    :rtype: list[{queryNoWithinFile str,  tokens: list[sqlparse.sql.Token]}\n",
    "    \"\"\"\n",
    "    query = sql_metadata.preprocess_query(query)\n",
    "    parsed = sqlparse.parse(query)\n",
    "\n",
    "    # handle empty queries (#12)\n",
    "    if not parsed:\n",
    "        return []\n",
    "\n",
    "    queries_list_and_tokens =[]\n",
    "    n=0\n",
    "    for qry in parsed:\n",
    "        tokens = TokenList(qry.tokens).flatten()\n",
    "        # print([(token.value, token.ttype) for token in tokens])\n",
    "\n",
    "        dic = {\"queryNoWithinFile\":n,\"tokens\":[token for token in tokens if token.ttype is not Whitespace]}\n",
    "        queries_list_and_tokens.append(dic)\n",
    "        n = n+1\n",
    "    return queries_list_and_tokens"
   ]
  },
  {
   "cell_type": "markdown",
   "metadata": {},
   "source": [
    "# re built get_query_tables\n",
    "i remvoed the quote removal"
   ]
  },
  {
   "cell_type": "code",
   "execution_count": 518,
   "metadata": {},
   "outputs": [],
   "source": [
    "def get_query_tables(query: str, dev=False) -> List[str]:\n",
    "    \"\"\"\n",
    "    :type query str\n",
    "    :rtype: list[str]\n",
    "    \"\"\"\n",
    "    \n",
    "\n",
    "    table_syntax_keywords = [\n",
    "        # SELECT queries\n",
    "        'FROM', 'WHERE', 'JOIN', 'INNER JOIN', 'FULL JOIN', 'FULL OUTER JOIN',\n",
    "        'LEFT OUTER JOIN', 'RIGHT OUTER JOIN',\n",
    "        'LEFT JOIN', 'RIGHT JOIN', 'ON',\n",
    "        # INSERT queries\n",
    "        'INTO', 'VALUES',\n",
    "        # UPDATE queries\n",
    "        'UPDATE', 'SET',\n",
    "        # Hive queries\n",
    "        'TABLE',  # INSERT TABLE\n",
    "        \n",
    "    ]\n",
    "    \n",
    "#     print(sql_metadata.get_query_tokens(query))\n",
    "#     query = query.replace('\"', '')\n",
    "    query = sqlparse.format(query, strip_comments=True).strip()\n",
    "#     print(query)\n",
    "    queries_list_and_tokens = get_query_tokens(query)\n",
    "    \n",
    "    queries_list_and_tokens_parsed =[]\n",
    "    \n",
    "    for query_and_tokens in queries_list_and_tokens:\n",
    "        parent_table_list = []\n",
    "        parent_table_counter = 0 # increments to 2 to get schema and table\n",
    "        tables = []\n",
    "        last_keyword = None\n",
    "        last_ddl =None\n",
    "        keep_last_ddl = None\n",
    "        \n",
    "        for index, token in enumerate(query_and_tokens['tokens']):\n",
    "            if dev==True: print([token, token.ttype, last_keyword,last_ddl, token.value.upper(),parent_table_counter, last_ddl])\n",
    "            if token.is_keyword and token.value.upper() in table_syntax_keywords:\n",
    "                # keep the name of the last keyword, the next one can be a table name\n",
    "                last_keyword = token.value.upper()\n",
    "#                 print('keyword', last_keyword)\n",
    "            elif str(token.ttype) == 'Token.Keyword.DDL':\n",
    "                # keep the name of the last create, the next one can be annother table to create\n",
    "                last_ddl = token.value.upper()\n",
    "                keep_last_ddl= token.value.upper()\n",
    "#                 print('keyword.lld', token.value.upper())\n",
    "            elif str(token) == '(':\n",
    "                # reset the last_keyword for INSERT `foo` VALUES(id, bar) ...\n",
    "                last_keyword = None\n",
    "            elif token.is_keyword and str(token) in ['FORCE', 'ORDER', 'GROUP BY']:\n",
    "                # reset the last_keyword for queries like:\n",
    "                # \"SELECT x FORCE INDEX\"\n",
    "                # \"SELECT x ORDER BY\"\n",
    "                # \"SELECT x FROM y GROUP BY x\"\n",
    "                last_keyword = None\n",
    "            elif token.is_keyword and str(token) == 'SELECT' and last_keyword in ['INTO', 'TABLE']:\n",
    "                # reset the last_keyword for \"INSERT INTO SELECT\" and \"INSERT TABLE SELECT\" queries\n",
    "                last_keyword = None\n",
    "            elif (token.ttype is Name or str(token.ttype) == 'Token.Literal.String.Symbol') and last_ddl in ['CREATE','DROP']:\n",
    "#                 print(\"found a CREATE or DROP\")\n",
    "                parent_table_list.append(str(token))\n",
    "                parent_table_counter = parent_table_counter + 1\n",
    "                if parent_table_counter > 1:\n",
    "                    last_ddl = None\n",
    "                    parent_table_counter = 0\n",
    "#                 parent_table = sql_metadata._update_table_names(tables, query_and_tokens['tokens'], index, last_keyword)\n",
    "            elif token.ttype is Name or token.ttype or token.is_keyword:\n",
    "                tables = sql_metadata._update_table_names(tables, query_and_tokens['tokens'], index, last_keyword)\n",
    "        unique_tables = sql_metadata.unique(tables)\n",
    "        dic = {\n",
    "            \"queryNoWithinFile\": query_and_tokens['queryNoWithinFile'],\n",
    "            \"tables\": unique_tables,\n",
    "            \"parent_table\": '.'.join(parent_table_list),\n",
    "            \"ddl_type\": keep_last_ddl\n",
    "        }\n",
    "        queries_list_and_tokens_parsed.append(dic)\n",
    "\n",
    "    return queries_list_and_tokens_parsed"
   ]
  },
  {
   "cell_type": "markdown",
   "metadata": {},
   "source": [
    "# working with multiple files"
   ]
  },
  {
   "cell_type": "code",
   "execution_count": 519,
   "metadata": {},
   "outputs": [],
   "source": [
    "import os\n",
    "from os import path\n",
    "from pathlib import Path"
   ]
  },
  {
   "cell_type": "markdown",
   "metadata": {},
   "source": [
    "# get all sql files"
   ]
  },
  {
   "cell_type": "code",
   "execution_count": 520,
   "metadata": {},
   "outputs": [],
   "source": [
    "files = os.listdir()"
   ]
  },
  {
   "cell_type": "code",
   "execution_count": 521,
   "metadata": {},
   "outputs": [],
   "source": [
    "files_filtered = list(filter(lambda x: re.search(r\"^.*\\.(sql)$\", x), files))"
   ]
  },
  {
   "cell_type": "markdown",
   "metadata": {},
   "source": [
    "# get all sql view depedncies"
   ]
  },
  {
   "cell_type": "markdown",
   "metadata": {},
   "source": [
    "### get all files in RAPID"
   ]
  },
  {
   "cell_type": "code",
   "execution_count": 522,
   "metadata": {},
   "outputs": [],
   "source": [
    "rapid_dirs = ['nbn_dde_23/tableau_views'] # ['tableau_dde/transform/views'] # ['nbn_dde_23/tableau_views','tableau_dde/transform/views']"
   ]
  },
  {
   "cell_type": "code",
   "execution_count": 523,
   "metadata": {},
   "outputs": [
    {
     "data": {
      "text/plain": [
       "[{'fileName': 'Tableau MTM Glide Path Target View.sql',\n",
       "  'path': '/home/davidgriffiths/csaa-aws-data-capability/nbn_dde_23/tableau_views/Tableau MTM Glide Path Target View.sql'},\n",
       " {'fileName': 'Tableau Incident Mdf Detailed View.sql',\n",
       "  'path': '/home/davidgriffiths/csaa-aws-data-capability/nbn_dde_23/tableau_views/Tableau Incident Mdf Detailed View.sql'},\n",
       " {'fileName': 'Tableau Incident Work Requests View.sql',\n",
       "  'path': '/home/davidgriffiths/csaa-aws-data-capability/nbn_dde_23/tableau_views/Tableau Incident Work Requests View.sql'}]"
      ]
     },
     "execution_count": 523,
     "metadata": {},
     "output_type": "execute_result"
    }
   ],
   "source": [
    "rapid_files = []\n",
    "for rapid_dir in rapid_dirs:\n",
    "    for dirpath, dirname, filenames in os.walk(os.path.join('/home/davidgriffiths/csaa-aws-data-capability',rapid_dir)):\n",
    "    #     print('Current path:', dirpath)\n",
    "    #     print('Directories:', dirname)\n",
    "    #     print('Files:', filenames)\n",
    "        for file in filenames:\n",
    "            file_dict = {\n",
    "                \"fileName\": file,\n",
    "                \"path\": os.path.join(dirpath,file),\n",
    "            }\n",
    "            rapid_files.append(file_dict)\n",
    "rapid_files[0:3]"
   ]
  },
  {
   "cell_type": "markdown",
   "metadata": {},
   "source": [
    "### keep only .sql files"
   ]
  },
  {
   "cell_type": "code",
   "execution_count": 524,
   "metadata": {},
   "outputs": [
    {
     "data": {
      "text/plain": [
       "[{'fileName': 'Tableau MTM Glide Path Target View.sql',\n",
       "  'path': '/home/davidgriffiths/csaa-aws-data-capability/nbn_dde_23/tableau_views/Tableau MTM Glide Path Target View.sql'},\n",
       " {'fileName': 'Tableau Incident Mdf Detailed View.sql',\n",
       "  'path': '/home/davidgriffiths/csaa-aws-data-capability/nbn_dde_23/tableau_views/Tableau Incident Mdf Detailed View.sql'},\n",
       " {'fileName': 'Tableau Incident Work Requests View.sql',\n",
       "  'path': '/home/davidgriffiths/csaa-aws-data-capability/nbn_dde_23/tableau_views/Tableau Incident Work Requests View.sql'},\n",
       " {'fileName': 'Tableau Genesys VWFM Agent Adherence View.sql',\n",
       "  'path': '/home/davidgriffiths/csaa-aws-data-capability/nbn_dde_23/tableau_views/Tableau Genesys VWFM Agent Adherence View.sql'},\n",
       " {'fileName': 'Tableau Pni Snapshot Audit Report View.sql',\n",
       "  'path': '/home/davidgriffiths/csaa-aws-data-capability/nbn_dde_23/tableau_views/Tableau Pni Snapshot Audit Report View.sql'}]"
      ]
     },
     "execution_count": 524,
     "metadata": {},
     "output_type": "execute_result"
    }
   ],
   "source": [
    "rapid_files_filtered = list(filter(lambda x: re.search(r\"^.*\\.(sql)$\", x['fileName']), rapid_files))\n",
    "rapid_files_filtered[0:5]"
   ]
  },
  {
   "cell_type": "markdown",
   "metadata": {},
   "source": [
    "## loop through files"
   ]
  },
  {
   "cell_type": "code",
   "execution_count": 525,
   "metadata": {},
   "outputs": [
    {
     "data": {
      "text/plain": [
       "[{'fileName': 'Tableau MTM Glide Path Target View.sql',\n",
       "  'name': 'Tableau MTM Glide Path Target View',\n",
       "  'path': '/home/davidgriffiths/csaa-aws-data-capability/nbn_dde_23/tableau_views/Tableau MTM Glide Path Target View.sql',\n",
       "  'depnd_tables': [],\n",
       "  'parent': 'nbn_dde_23.\"Tableau MTM Glide Path Target View\"',\n",
       "  'ddl_type': 'DROP'},\n",
       " {'fileName': 'Tableau MTM Glide Path Target View.sql',\n",
       "  'name': 'Tableau MTM Glide Path Target View',\n",
       "  'path': '/home/davidgriffiths/csaa-aws-data-capability/nbn_dde_23/tableau_views/Tableau MTM Glide Path Target View.sql',\n",
       "  'depnd_tables': ['nbn_dde_23.csa_mtm_glide_path_target_extract_t'],\n",
       "  'parent': 'nbn_dde_23.\"Tableau MTM Glide Path Target View\"',\n",
       "  'ddl_type': 'CREATE'}]"
      ]
     },
     "execution_count": 525,
     "metadata": {},
     "output_type": "execute_result"
    }
   ],
   "source": [
    "list_of_rapid_sql_views = []\n",
    "\n",
    "for file in rapid_files_filtered[0:1]:\n",
    "    with open(file['path'], 'r') as f:\n",
    "        query = f.read()\n",
    "        queries_and_tables = get_query_tables(query,False)\n",
    "    \n",
    "        for qry in queries_and_tables:\n",
    "            \n",
    "            dic = {\n",
    "                'fileName': file['fileName'],\n",
    "                'name': os.path.splitext(file['fileName'])[0],\n",
    "                'path': file['path'],\n",
    "                'depnd_tables': qry['tables'],\n",
    "                'parent': qry[\"parent_table\"],\n",
    "                'ddl_type': qry['ddl_type']\n",
    "            }\n",
    "\n",
    "            list_of_rapid_sql_views.append(dic) \n",
    "        \n",
    "\n",
    "list_of_rapid_sql_views"
   ]
  },
  {
   "cell_type": "markdown",
   "metadata": {},
   "source": [
    "# write out as JSON"
   ]
  },
  {
   "cell_type": "code",
   "execution_count": 526,
   "metadata": {},
   "outputs": [],
   "source": [
    "import json"
   ]
  },
  {
   "cell_type": "code",
   "execution_count": 527,
   "metadata": {},
   "outputs": [],
   "source": [
    "# # loads json from string\n",
    "# datajsonstr=json.loads('{\"str\":\"str\"}')\n",
    "# datajsonstr"
   ]
  },
  {
   "cell_type": "code",
   "execution_count": 528,
   "metadata": {},
   "outputs": [],
   "source": [
    "# stringify = json.dumps(list_of_rapid_sql_views, indent=2)\n",
    "# stringify"
   ]
  },
  {
   "cell_type": "code",
   "execution_count": 529,
   "metadata": {},
   "outputs": [],
   "source": [
    "# with open('jsonfile.json') as f:\n",
    "#     data = json.load(f)"
   ]
  },
  {
   "cell_type": "code",
   "execution_count": 530,
   "metadata": {},
   "outputs": [],
   "source": [
    "with open('list_of_rapid_sql_views.json','w') as f:\n",
    "    json.dump(list_of_rapid_sql_views, f)"
   ]
  },
  {
   "cell_type": "markdown",
   "metadata": {},
   "source": [
    "# test out funny files"
   ]
  },
  {
   "cell_type": "code",
   "execution_count": 531,
   "metadata": {},
   "outputs": [],
   "source": [
    "filenamedave = '/home/davidgriffiths/csaa-aws-data-capability/nbn_dde_23/tableau_views/Tableau Incident WO Links View.sql'"
   ]
  },
  {
   "cell_type": "code",
   "execution_count": 532,
   "metadata": {},
   "outputs": [
    {
     "name": "stdout",
     "output_type": "stream",
     "text": [
      "[{'queryNoWithinFile': 0, 'tables': [], 'parent_table': 'nbn_dde_23.\"Tableau Incident WO Links View\"', 'ddl_type': 'DROP'}, {'queryNoWithinFile': 1, 'tables': ['nbn_dde_23.CSA_INCIDENT_LINKS_WO_T'], 'parent_table': '', 'ddl_type': 'CREATE  OR REPLACE'}]\n"
     ]
    }
   ],
   "source": [
    "with open(filenamedave, 'r') as f:\n",
    "        query = f.read()\n",
    "#         print(query)\n",
    "        tables = get_query_tables(query)\n",
    "        print(tables)"
   ]
  },
  {
   "cell_type": "markdown",
   "metadata": {},
   "source": [
    "# problem sqlparse.parse doesnt do multiple queries"
   ]
  },
  {
   "cell_type": "code",
   "execution_count": 533,
   "metadata": {},
   "outputs": [
    {
     "name": "stdout",
     "output_type": "stream",
     "text": [
      "[{'queryNoWithinFile': 0, 'tokens': [<DDL 'drop' at 0x7F7FDD8219A8>, <Keyword 'view' at 0x7F7FDD821A68>, <Keyword 'if' at 0x7F7FDD821B28>, <Keyword 'exists' at 0x7F7FDD821BE8>, <Name 'nbn_dd...' at 0x7F7FDD821CA8>, <Punctuation '.' at 0x7F7FDD821D08>, <Symbol '\"Table...' at 0x7F7FDD821D68>, <Punctuation ';' at 0x7F7FDD821DC8>]}, {'queryNoWithinFile': 1, 'tokens': [<DDL 'CREATE...' at 0x7F7FDD821EE8>, <Keyword 'VIEW' at 0x7F7FDD821FA8>, <Name 'nbn_dd...' at 0x7F7FDD8450A8>, <Punctuation '.' at 0x7F7FDD845108>, <Symbol '\"Table...' at 0x7F7FDD845168>, <Keyword 'AS' at 0x7F7FDD845228>, <DML 'SELECT' at 0x7F7FDD8452E8>, <Name 'INC_WO...' at 0x7F7FDD8453A8>, <Punctuation ',' at 0x7F7FDD845708>, <Name 'INCIDE...' at 0x7F7FDD8457C8>, <Punctuation ',' at 0x7F7FDD845B28>, <Name 'APPOIN...' at 0x7F7FDD845BE8>, <Punctuation ',' at 0x7F7FDD845F48>, <Name 'WORK_R...' at 0x7F7FDD817048>, <Punctuation ',' at 0x7F7FDD8173A8>, <Name 'WORK_O...' at 0x7F7FDD817468>, <Punctuation ',' at 0x7F7FDD8177C8>, <Name 'PRI_ID...' at 0x7F7FDD817888>, <Punctuation ',' at 0x7F7FDD817BE8>, <Name 'PRI_KE...' at 0x7F7FDD817CA8>, <Punctuation ',' at 0x7F7FDD81F048>, <Name 'DQ_COM...' at 0x7F7FDD81F108>, <Keyword 'as' at 0x7F7FDD81F1C8>, <Symbol '\"Data ...' at 0x7F7FDD81F288>, <Punctuation ',' at 0x7F7FDD81F5E8>, <Name 'LOCATI...' at 0x7F7FDD81F6A8>, <Punctuation ',' at 0x7F7FDD81FA08>, <Name 'APPOIN...' at 0x7F7FDD81FAC8>, <Punctuation ',' at 0x7F7FDD81FE28>, <Name 'EXC_1_...' at 0x7F7FDD81FEE8>, <Keyword 'as' at 0x7F7FDD81FFA8>, <Symbol '\"Exclu...' at 0x7F7FDD8410A8>, <Punctuation ',' at 0x7F7FDD841408>, <Name 'EXC_2_...' at 0x7F7FDD8414C8>, <Keyword 'as' at 0x7F7FDD841588>, <Symbol '\"Exclu...' at 0x7F7FDD841648>, <Punctuation ',' at 0x7F7FDD8419A8>, <Name 'EXC_3_...' at 0x7F7FDD841A68>, <Keyword 'as' at 0x7F7FDD841B28>, <Symbol '\"Exclu...' at 0x7F7FDD841BE8>, <Punctuation ',' at 0x7F7FDD841F48>, <Name 'EXC_4_...' at 0x7F7FDD82A048>, <Keyword 'as' at 0x7F7FDD82A108>, <Symbol '\"Exclu...' at 0x7F7FDD82A1C8>, <Punctuation ',' at 0x7F7FDD82A528>, <Name 'EXC_5_...' at 0x7F7FDD82A5E8>, <Keyword 'as' at 0x7F7FDD82A6A8>, <Symbol '\"Exclu...' at 0x7F7FDD82A768>, <Punctuation ',' at 0x7F7FDD82AAC8>, <Name 'EXC_6_...' at 0x7F7FDD82AB88>, <Keyword 'as' at 0x7F7FDD82AC48>, <Symbol '\"Exclu...' at 0x7F7FDD82AD08>, <Punctuation ',' at 0x7F7FDD8490A8>, <Name 'EXC_7_...' at 0x7F7FDD849168>, <Keyword 'as' at 0x7F7FDD849228>, <Symbol '\"Exclu...' at 0x7F7FDD8492E8>, <Punctuation ',' at 0x7F7FDD849648>, <Name 'EXC_8_...' at 0x7F7FDD849708>, <Keyword 'as' at 0x7F7FDD8497C8>, <Symbol '\"Exclu...' at 0x7F7FDD849888>, <Punctuation ',' at 0x7F7FDD849BE8>, <Name 'EXC_9_...' at 0x7F7FDD849CA8>, <Keyword 'as' at 0x7F7FDD849D68>, <Symbol '\"Exclu...' at 0x7F7FDD849E28>, <Punctuation ',' at 0x7F7FDD8221C8>, <Name 'EXC_10...' at 0x7F7FDD822288>, <Keyword 'as' at 0x7F7FDD822348>, <Symbol '\"Exclu...' at 0x7F7FDD822408>, <Punctuation ',' at 0x7F7FDD822648>, <Name 'Exc_11...' at 0x7F7FDD822708>, <Keyword 'as' at 0x7F7FDD8227C8>, <Symbol '\"Exclu...' at 0x7F7FDD822888>, <Punctuation ',' at 0x7F7FDD822AC8>, <Name 'EXC_12...' at 0x7F7FDD822B88>, <Keyword 'as' at 0x7F7FDD822C48>, <Symbol '\"Exclu...' at 0x7F7FDD822D08>, <Punctuation ',' at 0x7F7FDD822F48>, <Name 'Exc_13...' at 0x7F7FDD84C048>, <Keyword 'as' at 0x7F7FDD84C108>, <Symbol '\"Exclu...' at 0x7F7FDD84C1C8>, <Single '--Deep...' at 0x7F7FDD84C468>]}]\n"
     ]
    }
   ],
   "source": [
    "with open(filenamedave, 'r') as f:\n",
    "        query = f.read()\n",
    "#         print(query)\n",
    "#         tables = get_query_tables(query)\n",
    "#         print(tables)\n",
    "\n",
    "        # is parsing within sql_metadata.get_query_tokens working\n",
    "#         res = sqlparse.parse(query)\n",
    "#         print(res[1]) ##  this second query isnt getting picked up\n",
    "        \n",
    "        print(get_query_tokens(query))\n",
    "        \n",
    "        "
   ]
  },
  {
   "cell_type": "code",
   "execution_count": null,
   "metadata": {},
   "outputs": [],
   "source": []
  }
 ],
 "metadata": {
  "kernelspec": {
   "display_name": "Python 3",
   "language": "python",
   "name": "python3"
  },
  "language_info": {
   "codemirror_mode": {
    "name": "ipython",
    "version": 3
   },
   "file_extension": ".py",
   "mimetype": "text/x-python",
   "name": "python",
   "nbconvert_exporter": "python",
   "pygments_lexer": "ipython3",
   "version": "3.6.10"
  }
 },
 "nbformat": 4,
 "nbformat_minor": 4
}
