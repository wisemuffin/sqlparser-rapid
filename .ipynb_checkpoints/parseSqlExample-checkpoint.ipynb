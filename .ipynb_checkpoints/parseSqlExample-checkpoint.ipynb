{
 "cells": [
  {
   "cell_type": "markdown",
   "metadata": {},
   "source": [
    "# using sqlparse to create meta data\n",
    "limitations\n",
    "- when using spaces in tables names with reserved keyworkds, e.g. case in \"tableau enc case view\"\n",
    "\n",
    "Have solved this by changing sq_metadata"
   ]
  },
  {
   "cell_type": "code",
   "execution_count": 1,
   "metadata": {},
   "outputs": [
    {
     "name": "stdout",
     "output_type": "stream",
     "text": [
      "# conda environments:\n",
      "#\n",
      "base                     /home/davidgriffiths/miniconda3\n",
      "sqlparse              *  /home/davidgriffiths/miniconda3/envs/sqlparse\n",
      "\n"
     ]
    }
   ],
   "source": [
    "!conda info --envs"
   ]
  },
  {
   "cell_type": "code",
   "execution_count": 2,
   "metadata": {},
   "outputs": [],
   "source": [
    "import sql_metadata"
   ]
  },
  {
   "cell_type": "code",
   "execution_count": 17,
   "metadata": {},
   "outputs": [],
   "source": [
    "import re\n",
    "from typing import List, Tuple, Optional, Dict, Symbol\n",
    "import sqlparse\n",
    "\n",
    "from sqlparse.sql import TokenList\n",
    "from sqlparse.tokens import Name, Whitespace, Wildcard, Number, Punctuation"
   ]
  },
  {
   "cell_type": "markdown",
   "metadata": {},
   "source": [
    "# simple example"
   ]
  },
  {
   "cell_type": "code",
   "execution_count": 3,
   "metadata": {},
   "outputs": [
    {
     "data": {
      "text/plain": [
       "[<DML 'SELECT' at 0x7FC7AC0C9D68>,\n",
       " <Wildcard '*' at 0x7FC7AC0C9BE8>,\n",
       " <Keyword 'FROM' at 0x7FC7AC0C9B28>,\n",
       " <Name 'foo' at 0x7FC7AC0C9DC8>]"
      ]
     },
     "execution_count": 3,
     "metadata": {},
     "output_type": "execute_result"
    }
   ],
   "source": [
    "sql_metadata.get_query_tokens(\"SELECT * FROM foo\")"
   ]
  },
  {
   "cell_type": "code",
   "execution_count": 4,
   "metadata": {},
   "outputs": [
    {
     "data": {
      "text/plain": [
       "['test', 'id']"
      ]
     },
     "execution_count": 4,
     "metadata": {},
     "output_type": "execute_result"
    }
   ],
   "source": [
    "sql_metadata.get_query_columns(\"SELECT test, id FROM foo, bar\")"
   ]
  },
  {
   "cell_type": "code",
   "execution_count": 5,
   "metadata": {},
   "outputs": [
    {
     "data": {
      "text/plain": [
       "['product_a.users', 'product_b.users']"
      ]
     },
     "execution_count": 5,
     "metadata": {},
     "output_type": "execute_result"
    }
   ],
   "source": [
    "sql_metadata.get_query_tables(\"SELECT a.* FROM product_a.users AS a JOIN product_b.users AS b ON a.ip_address = b.ip_address\")"
   ]
  },
  {
   "cell_type": "markdown",
   "metadata": {},
   "source": [
    "# example query"
   ]
  },
  {
   "cell_type": "code",
   "execution_count": 9,
   "metadata": {},
   "outputs": [],
   "source": [
    "query='''\n",
    "    select \"Case Snap Date\", count(*)\n",
    "FROM \"enc_dde\".\"tableau enc case field links view\" \"A61S Data Quality Indicators\"\n",
    "  INNER JOIN \"enc_dde\".\"tableau enc case view\" \"A61S Case\" ON (\"A61S Data Quality Indicators\".\"case_key\" = \"A61S Case\".\"case_key\")\n",
    "  INNER JOIN \"enc_dde\".\"tableau enc case snapshot view\" \"A61S Case Snapshot\" ON (\"A61S Data Quality Indicators\".\"case_key\" = \"A61S Case Snapshot\".\"case_key\")\n",
    "  INNER JOIN \"nbn_dde_23\".\"tableau location view\" \"A61S Location\" ON (\"A61S Data Quality Indicators\".\"location_key\" = \"A61S Location\".\"location key\")\n",
    "  where \"Case Snap Date\" > current_date-4\n",
    "  group by 1'''"
   ]
  },
  {
   "cell_type": "code",
   "execution_count": 10,
   "metadata": {},
   "outputs": [
    {
     "data": {
      "text/plain": [
       "['enc_dde.tableau', 'nbn_dde_23.tableau']"
      ]
     },
     "execution_count": 10,
     "metadata": {},
     "output_type": "execute_result"
    }
   ],
   "source": [
    "sql_metadata.get_query_tables(query)"
   ]
  },
  {
   "cell_type": "markdown",
   "metadata": {},
   "source": [
    "# re built get_query_tables\n",
    "i remvoed the quote removal"
   ]
  },
  {
   "cell_type": "code",
   "execution_count": 74,
   "metadata": {},
   "outputs": [
    {
     "data": {
      "text/plain": [
       "['\"enc_dde\".\"tableau enc case field links view\"',\n",
       " '\"enc_dde\".\"tableau enc case view\"',\n",
       " '\"enc_dde\".\"tableau enc case snapshot view\"',\n",
       " '\"nbn_dde_23\".\"tableau location view\"']"
      ]
     },
     "execution_count": 74,
     "metadata": {},
     "output_type": "execute_result"
    }
   ],
   "source": [
    "get_query_tables(query)"
   ]
  },
  {
   "cell_type": "code",
   "execution_count": 73,
   "metadata": {},
   "outputs": [],
   "source": [
    "def get_query_tables(query: str) -> List[str]:\n",
    "    \"\"\"\n",
    "    :type query str\n",
    "    :rtype: list[str]\n",
    "    \"\"\"\n",
    "    tables = []\n",
    "    last_keyword = None\n",
    "\n",
    "    table_syntax_keywords = [\n",
    "        # SELECT queries\n",
    "        'FROM', 'WHERE', 'JOIN', 'INNER JOIN', 'FULL JOIN', 'FULL OUTER JOIN',\n",
    "        'LEFT OUTER JOIN', 'RIGHT OUTER JOIN',\n",
    "        'LEFT JOIN', 'RIGHT JOIN', 'ON',\n",
    "        # INSERT queries\n",
    "        'INTO', 'VALUES',\n",
    "        # UPDATE queries\n",
    "        'UPDATE', 'SET',\n",
    "        # Hive queries\n",
    "        'TABLE',  # INSERT TABLE\n",
    "    ]\n",
    "\n",
    "    # print(query, get_query_tokens(query))\n",
    "#     query = query.replace('\"', '')\n",
    "    tokens = sql_metadata.get_query_tokens(query)\n",
    "\n",
    "    for index, token in enumerate(tokens):\n",
    "#         print([token, token.ttype, last_keyword])\n",
    "        if token.is_keyword and token.value.upper() in table_syntax_keywords:\n",
    "            # keep the name of the last keyword, the next one can be a table name\n",
    "            last_keyword = token.value.upper()\n",
    "            # print('keyword', last_keyword)\n",
    "        elif str(token) == '(':\n",
    "            # reset the last_keyword for INSERT `foo` VALUES(id, bar) ...\n",
    "            last_keyword = None\n",
    "        elif token.is_keyword and str(token) in ['FORCE', 'ORDER', 'GROUP BY']:\n",
    "            # reset the last_keyword for queries like:\n",
    "            # \"SELECT x FORCE INDEX\"\n",
    "            # \"SELECT x ORDER BY\"\n",
    "            # \"SELECT x FROM y GROUP BY x\"\n",
    "            last_keyword = None\n",
    "        elif token.is_keyword and str(token) == 'SELECT' and last_keyword in ['INTO', 'TABLE']:\n",
    "            # reset the last_keyword for \"INSERT INTO SELECT\" and \"INSERT TABLE SELECT\" queries\n",
    "            last_keyword = None\n",
    "        elif token.ttype is Name or token.ttype or token.is_keyword:\n",
    "            tables = sql_metadata._update_table_names(tables, tokens, index, last_keyword)\n",
    "\n",
    "    return sql_metadata.unique(tables)"
   ]
  },
  {
   "cell_type": "code",
   "execution_count": null,
   "metadata": {},
   "outputs": [],
   "source": []
  }
 ],
 "metadata": {
  "kernelspec": {
   "display_name": "Python 3",
   "language": "python",
   "name": "python3"
  },
  "language_info": {
   "codemirror_mode": {
    "name": "ipython",
    "version": 3
   },
   "file_extension": ".py",
   "mimetype": "text/x-python",
   "name": "python",
   "nbconvert_exporter": "python",
   "pygments_lexer": "ipython3",
   "version": "3.6.10"
  }
 },
 "nbformat": 4,
 "nbformat_minor": 4
}
