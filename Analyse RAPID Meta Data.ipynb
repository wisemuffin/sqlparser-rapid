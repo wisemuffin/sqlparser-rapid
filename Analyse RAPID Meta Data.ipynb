{
 "cells": [
  {
   "cell_type": "markdown",
   "metadata": {},
   "source": [
    "# Analyse RAPID Meta Data"
   ]
  },
  {
   "cell_type": "code",
   "execution_count": 11,
   "metadata": {},
   "outputs": [],
   "source": [
    "import json"
   ]
  },
  {
   "cell_type": "markdown",
   "metadata": {},
   "source": [
    "## Read data"
   ]
  },
  {
   "cell_type": "code",
   "execution_count": 12,
   "metadata": {},
   "outputs": [],
   "source": [
    "with open('list_of_rapid_sql_views.json') as f:\n",
    "    data = json.load(f)"
   ]
  },
  {
   "cell_type": "code",
   "execution_count": 13,
   "metadata": {},
   "outputs": [
    {
     "name": "stdout",
     "output_type": "stream",
     "text": [
      "6525\n"
     ]
    }
   ],
   "source": [
    "print(len(data))"
   ]
  },
  {
   "cell_type": "markdown",
   "metadata": {},
   "source": [
    "## Filter to only CREATE DDL"
   ]
  },
  {
   "cell_type": "code",
   "execution_count": 14,
   "metadata": {},
   "outputs": [
    {
     "data": {
      "text/plain": [
       "[{'fileName': 'step3_calc_metrics.sql',\n",
       "  'name': 'step3_calc_metrics',\n",
       "  'path': '/csaa-aws-data-capability/neto_dde/transform/batches/step3_calc_metrics.sql',\n",
       "  'depnd_tables': ['\"neto_dde\".\"id_link_v\"', '\"RS_UNIQUE_HASH\"'],\n",
       "  'parent': '\"neto_dde\".\"tmp_id_link_t\"',\n",
       "  'ddl_type': 'CREATE'},\n",
       " {'fileName': 'step3_calc_metrics.sql',\n",
       "  'name': 'step3_calc_metrics',\n",
       "  'path': '/csaa-aws-data-capability/neto_dde/transform/batches/step3_calc_metrics.sql',\n",
       "  'depnd_tables': ['\"neto_dde\".\"calc_hfc_p2_3_v\"', '\"RS_UNIQUE_HASH\"'],\n",
       "  'parent': '\"neto_dde\".\"tmp_calc_hfc_p2_3_t\"',\n",
       "  'ddl_type': 'CREATE'}]"
      ]
     },
     "execution_count": 14,
     "metadata": {},
     "output_type": "execute_result"
    }
   ],
   "source": [
    "def filter_only_create(item):\n",
    "    if 'ddl_type' in item.keys():\n",
    "        if item['ddl_type'] is None: \n",
    "            return False\n",
    "        elif 'CREATE' in item['ddl_type']:\n",
    "            return True\n",
    "        else:\n",
    "            return False\n",
    "    else:\n",
    "        return False\n",
    "    \n",
    "filtered_map = filter(filter_only_create, data)\n",
    "filtered_data = list(filtered_map)\n",
    "filtered_data[0:2]"
   ]
  },
  {
   "cell_type": "markdown",
   "metadata": {},
   "source": [
    "## write out data"
   ]
  },
  {
   "cell_type": "code",
   "execution_count": 8,
   "metadata": {},
   "outputs": [],
   "source": [
    "# with open('list_of_rapid_sql_views_create.json','w') as f:\n",
    "with open('list_of_rapid_sql_views.json','w') as f:    \n",
    "    json.dump(filtered_data, f)"
   ]
  },
  {
   "cell_type": "markdown",
   "metadata": {},
   "source": [
    "# search for one data source depencies"
   ]
  },
  {
   "cell_type": "code",
   "execution_count": 9,
   "metadata": {},
   "outputs": [
    {
     "data": {
      "text/plain": [
       "[{'fileName': 'step3_calc_metrics.sql',\n",
       "  'name': 'step3_calc_metrics',\n",
       "  'path': '/csaa-aws-data-capability/neto_dde/transform/batches/step3_calc_metrics.sql',\n",
       "  'depnd_tables': ['\"neto_dde\".\"id_link_v\"', '\"RS_UNIQUE_HASH\"'],\n",
       "  'parent': '\"neto_dde\".\"tmp_id_link_t\"',\n",
       "  'ddl_type': 'CREATE'},\n",
       " {'fileName': 'step3_calc_metrics.sql',\n",
       "  'name': 'step3_calc_metrics',\n",
       "  'path': '/csaa-aws-data-capability/neto_dde/transform/batches/step3_calc_metrics.sql',\n",
       "  'depnd_tables': ['\"neto_dde\".\"calc_hfc_p2_3_v\"', '\"RS_UNIQUE_HASH\"'],\n",
       "  'parent': '\"neto_dde\".\"tmp_calc_hfc_p2_3_t\"',\n",
       "  'ddl_type': 'CREATE'}]"
      ]
     },
     "execution_count": 9,
     "metadata": {},
     "output_type": "execute_result"
    }
   ],
   "source": [
    "filtered_data[0:2]"
   ]
  },
  {
   "cell_type": "code",
   "execution_count": 10,
   "metadata": {},
   "outputs": [
    {
     "data": {
      "text/plain": [
       "[{'fileName': 'Tableau CC Orders View.sql',\n",
       "  'name': 'Tableau CC Orders View',\n",
       "  'path': '/csaa-aws-data-capability/cc_dde/tableau_views/Tableau CC Orders View.sql',\n",
       "  'depnd_tables': ['\"cc_dde\".\"cc_orders_t\"'],\n",
       "  'parent': '\"cc_dde\".\"Tableau CC Orders View\"',\n",
       "  'ddl_type': 'CREATE OR REPLACE'}]"
      ]
     },
     "execution_count": 10,
     "metadata": {},
     "output_type": "execute_result"
    }
   ],
   "source": [
    "depnd_tables = list(filter(lambda x: x['parent'] == '\"cc_dde\".\"Tableau CC Orders View\"',filtered_data))\n",
    "depnd_tables"
   ]
  },
  {
   "cell_type": "code",
   "execution_count": 81,
   "metadata": {},
   "outputs": [
    {
     "data": {
      "text/plain": [
       "[{'fileName': 't2115_v.sql',\n",
       "  'name': 't2115_v',\n",
       "  'path': '/csaa-aws-data-capability/rmdy_sa_stg/load/views/t2115_v.sql',\n",
       "  'depnd_tables': ['\"rmdy_sa_stg\".\"t2115_t\"',\n",
       "   '\"rmdy_sa_stg\".\"t2115\"',\n",
       "   '\"tt20\"',\n",
       "   '\"tt10\"'],\n",
       "  'parent': '\"rmdy_sa_stg\".\"t2115_v\"',\n",
       "  'ddl_type': 'CREATE OR REPLACE'}]"
      ]
     },
     "execution_count": 81,
     "metadata": {},
     "output_type": "execute_result"
    }
   ],
   "source": [
    "depnd_tables = list(filter(lambda x: x['parent'] == '\"rmdy_sa_stg\".\"t2115_v\"',filtered_data))\n",
    "depnd_tables"
   ]
  },
  {
   "cell_type": "code",
   "execution_count": 79,
   "metadata": {},
   "outputs": [
    {
     "ename": "IndexError",
     "evalue": "list index out of range",
     "output_type": "error",
     "traceback": [
      "\u001b[0;31m---------------------------------------------------------------------------\u001b[0m",
      "\u001b[0;31mIndexError\u001b[0m                                Traceback (most recent call last)",
      "\u001b[0;32m<ipython-input-79-52524ed28230>\u001b[0m in \u001b[0;36m<module>\u001b[0;34m\u001b[0m\n\u001b[1;32m      1\u001b[0m \u001b[0mdepnd_tables\u001b[0m \u001b[0;34m=\u001b[0m \u001b[0mlist\u001b[0m\u001b[0;34m(\u001b[0m\u001b[0mfilter\u001b[0m\u001b[0;34m(\u001b[0m\u001b[0;32mlambda\u001b[0m \u001b[0mx\u001b[0m\u001b[0;34m:\u001b[0m \u001b[0mx\u001b[0m\u001b[0;34m[\u001b[0m\u001b[0;34m'parent'\u001b[0m\u001b[0;34m]\u001b[0m \u001b[0;34m==\u001b[0m \u001b[0;34m'\"rmdy_sa_stg\".\"t2115_v\"'\u001b[0m\u001b[0;34m,\u001b[0m\u001b[0mfiltered_data\u001b[0m\u001b[0;34m)\u001b[0m\u001b[0;34m)\u001b[0m\u001b[0;34m[\u001b[0m\u001b[0;36m0\u001b[0m\u001b[0;34m]\u001b[0m\u001b[0;34m[\u001b[0m\u001b[0;34m'depnd_tables'\u001b[0m\u001b[0;34m]\u001b[0m\u001b[0;34m\u001b[0m\u001b[0;34m\u001b[0m\u001b[0m\n\u001b[0;32m----> 2\u001b[0;31m \u001b[0mdepnd_tables_clean\u001b[0m \u001b[0;34m=\u001b[0m \u001b[0mlist\u001b[0m\u001b[0;34m(\u001b[0m\u001b[0mmap\u001b[0m\u001b[0;34m(\u001b[0m\u001b[0;32mlambda\u001b[0m \u001b[0mx\u001b[0m\u001b[0;34m:\u001b[0m \u001b[0mx\u001b[0m\u001b[0;34m.\u001b[0m\u001b[0msplit\u001b[0m\u001b[0;34m(\u001b[0m\u001b[0;34m'.'\u001b[0m\u001b[0;34m)\u001b[0m\u001b[0;34m[\u001b[0m\u001b[0;36m1\u001b[0m\u001b[0;34m]\u001b[0m\u001b[0;34m,\u001b[0m\u001b[0mdepnd_tables\u001b[0m\u001b[0;34m)\u001b[0m\u001b[0;34m)\u001b[0m\u001b[0;34m\u001b[0m\u001b[0;34m\u001b[0m\u001b[0m\n\u001b[0m\u001b[1;32m      3\u001b[0m \u001b[0mprint\u001b[0m\u001b[0;34m(\u001b[0m\u001b[0;34m'\\n'\u001b[0m\u001b[0;34m.\u001b[0m\u001b[0mjoin\u001b[0m\u001b[0;34m(\u001b[0m\u001b[0mlist\u001b[0m\u001b[0;34m(\u001b[0m\u001b[0mmap\u001b[0m\u001b[0;34m(\u001b[0m\u001b[0;32mlambda\u001b[0m \u001b[0mx\u001b[0m\u001b[0;34m:\u001b[0m \u001b[0mx\u001b[0m\u001b[0;34m.\u001b[0m\u001b[0mreplace\u001b[0m\u001b[0;34m(\u001b[0m\u001b[0;34m'\"'\u001b[0m\u001b[0;34m,\u001b[0m\u001b[0;34m''\u001b[0m\u001b[0;34m)\u001b[0m\u001b[0;34m,\u001b[0m\u001b[0mdepnd_tables_clean\u001b[0m\u001b[0;34m)\u001b[0m\u001b[0;34m)\u001b[0m\u001b[0;34m)\u001b[0m\u001b[0;34m)\u001b[0m\u001b[0;34m\u001b[0m\u001b[0;34m\u001b[0m\u001b[0m\n",
      "\u001b[0;32m<ipython-input-79-52524ed28230>\u001b[0m in \u001b[0;36m<lambda>\u001b[0;34m(x)\u001b[0m\n\u001b[1;32m      1\u001b[0m \u001b[0mdepnd_tables\u001b[0m \u001b[0;34m=\u001b[0m \u001b[0mlist\u001b[0m\u001b[0;34m(\u001b[0m\u001b[0mfilter\u001b[0m\u001b[0;34m(\u001b[0m\u001b[0;32mlambda\u001b[0m \u001b[0mx\u001b[0m\u001b[0;34m:\u001b[0m \u001b[0mx\u001b[0m\u001b[0;34m[\u001b[0m\u001b[0;34m'parent'\u001b[0m\u001b[0;34m]\u001b[0m \u001b[0;34m==\u001b[0m \u001b[0;34m'\"rmdy_sa_stg\".\"t2115_v\"'\u001b[0m\u001b[0;34m,\u001b[0m\u001b[0mfiltered_data\u001b[0m\u001b[0;34m)\u001b[0m\u001b[0;34m)\u001b[0m\u001b[0;34m[\u001b[0m\u001b[0;36m0\u001b[0m\u001b[0;34m]\u001b[0m\u001b[0;34m[\u001b[0m\u001b[0;34m'depnd_tables'\u001b[0m\u001b[0;34m]\u001b[0m\u001b[0;34m\u001b[0m\u001b[0;34m\u001b[0m\u001b[0m\n\u001b[0;32m----> 2\u001b[0;31m \u001b[0mdepnd_tables_clean\u001b[0m \u001b[0;34m=\u001b[0m \u001b[0mlist\u001b[0m\u001b[0;34m(\u001b[0m\u001b[0mmap\u001b[0m\u001b[0;34m(\u001b[0m\u001b[0;32mlambda\u001b[0m \u001b[0mx\u001b[0m\u001b[0;34m:\u001b[0m \u001b[0mx\u001b[0m\u001b[0;34m.\u001b[0m\u001b[0msplit\u001b[0m\u001b[0;34m(\u001b[0m\u001b[0;34m'.'\u001b[0m\u001b[0;34m)\u001b[0m\u001b[0;34m[\u001b[0m\u001b[0;36m1\u001b[0m\u001b[0;34m]\u001b[0m\u001b[0;34m,\u001b[0m\u001b[0mdepnd_tables\u001b[0m\u001b[0;34m)\u001b[0m\u001b[0;34m)\u001b[0m\u001b[0;34m\u001b[0m\u001b[0;34m\u001b[0m\u001b[0m\n\u001b[0m\u001b[1;32m      3\u001b[0m \u001b[0mprint\u001b[0m\u001b[0;34m(\u001b[0m\u001b[0;34m'\\n'\u001b[0m\u001b[0;34m.\u001b[0m\u001b[0mjoin\u001b[0m\u001b[0;34m(\u001b[0m\u001b[0mlist\u001b[0m\u001b[0;34m(\u001b[0m\u001b[0mmap\u001b[0m\u001b[0;34m(\u001b[0m\u001b[0;32mlambda\u001b[0m \u001b[0mx\u001b[0m\u001b[0;34m:\u001b[0m \u001b[0mx\u001b[0m\u001b[0;34m.\u001b[0m\u001b[0mreplace\u001b[0m\u001b[0;34m(\u001b[0m\u001b[0;34m'\"'\u001b[0m\u001b[0;34m,\u001b[0m\u001b[0;34m''\u001b[0m\u001b[0;34m)\u001b[0m\u001b[0;34m,\u001b[0m\u001b[0mdepnd_tables_clean\u001b[0m\u001b[0;34m)\u001b[0m\u001b[0;34m)\u001b[0m\u001b[0;34m)\u001b[0m\u001b[0;34m)\u001b[0m\u001b[0;34m\u001b[0m\u001b[0;34m\u001b[0m\u001b[0m\n",
      "\u001b[0;31mIndexError\u001b[0m: list index out of range"
     ]
    }
   ],
   "source": [
    "depnd_tables = list(filter(lambda x: x['parent'] == '\"rmdy_sa_stg\".\"t2115_v\"',filtered_data))[0]['depnd_tables']\n",
    "depnd_tables_clean = list(map(lambda x: x.split('.')[1],depnd_tables))\n",
    "print('\\n'.join(list(map(lambda x: x.replace('\"',''),depnd_tables_clean))))"
   ]
  },
  {
   "cell_type": "markdown",
   "metadata": {},
   "source": [
    "## Analyse Filtered Data"
   ]
  },
  {
   "cell_type": "code",
   "execution_count": 75,
   "metadata": {},
   "outputs": [
    {
     "data": {
      "text/plain": [
       "6525"
      ]
     },
     "execution_count": 75,
     "metadata": {},
     "output_type": "execute_result"
    }
   ],
   "source": [
    "len(filtered_data)"
   ]
  },
  {
   "cell_type": "code",
   "execution_count": 76,
   "metadata": {},
   "outputs": [
    {
     "data": {
      "text/plain": [
       "[{'parent': '\"neto_dde\".\"tmp_id_link_t\"',\n",
       "  'depnd_tables': ['\"neto_dde\".\"id_link_v\"', '\"RS_UNIQUE_HASH\"']},\n",
       " {'parent': '\"neto_dde\".\"tmp_calc_hfc_p2_3_t\"',\n",
       "  'depnd_tables': ['\"neto_dde\".\"calc_hfc_p2_3_v\"', '\"RS_UNIQUE_HASH\"']},\n",
       " {'parent': '\"neto_dde\".\"tmp_calc_hfc_p11_t\"',\n",
       "  'depnd_tables': ['\"neto_dde\".\"calc_hfc_p11_v\"', '\"RS_UNIQUE_HASH\"']},\n",
       " {'parent': '\"neto_dde\".\"tmp_calc_hfc_p15_t\"',\n",
       "  'depnd_tables': ['\"neto_dde\".\"calc_hfc_p15_v\"', '\"RS_UNIQUE_HASH\"']},\n",
       " {'parent': '\"neto_dde\".\"tmp_calc_fw_file1_t\"',\n",
       "  'depnd_tables': ['\"neto_dde\".\"calc_fw_file1_v\"', '\"RS_UNIQUE_HASH\"']}]"
      ]
     },
     "execution_count": 76,
     "metadata": {},
     "output_type": "execute_result"
    }
   ],
   "source": [
    "list(map(lambda x: {'parent': x['parent'], 'depnd_tables': x['depnd_tables']},filtered_data))[0:5]"
   ]
  },
  {
   "cell_type": "code",
   "execution_count": null,
   "metadata": {},
   "outputs": [],
   "source": []
  }
 ],
 "metadata": {
  "kernelspec": {
   "display_name": "Python 3",
   "language": "python",
   "name": "python3"
  },
  "language_info": {
   "codemirror_mode": {
    "name": "ipython",
    "version": 3
   },
   "file_extension": ".py",
   "mimetype": "text/x-python",
   "name": "python",
   "nbconvert_exporter": "python",
   "pygments_lexer": "ipython3",
   "version": "3.6.10"
  }
 },
 "nbformat": 4,
 "nbformat_minor": 4
}
