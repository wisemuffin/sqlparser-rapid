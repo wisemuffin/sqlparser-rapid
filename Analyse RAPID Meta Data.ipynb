{
 "cells": [
  {
   "cell_type": "markdown",
   "metadata": {},
   "source": [
    "# Analyse RAPID Meta Data"
   ]
  },
  {
   "cell_type": "code",
   "execution_count": 54,
   "metadata": {},
   "outputs": [],
   "source": [
    "import json"
   ]
  },
  {
   "cell_type": "markdown",
   "metadata": {},
   "source": [
    "## Read data"
   ]
  },
  {
   "cell_type": "code",
   "execution_count": 55,
   "metadata": {},
   "outputs": [],
   "source": [
    "with open('list_of_rapid_sql_views.json') as f:\n",
    "    data = json.load(f)"
   ]
  },
  {
   "cell_type": "code",
   "execution_count": 56,
   "metadata": {},
   "outputs": [
    {
     "name": "stdout",
     "output_type": "stream",
     "text": [
      "111\n"
     ]
    }
   ],
   "source": [
    "print(len(data))"
   ]
  },
  {
   "cell_type": "markdown",
   "metadata": {},
   "source": [
    "## Filter to only CREATE DDL"
   ]
  },
  {
   "cell_type": "code",
   "execution_count": 63,
   "metadata": {},
   "outputs": [
    {
     "data": {
      "text/plain": [
       "[{'fileName': 'rs_batch_pre_nz_field.sql',\n",
       "  'name': 'rs_batch_pre_nz_field',\n",
       "  'path': '/csaa-aws-data-capability/field_dde/transform/batches/rs_batch_pre_nz_field.sql',\n",
       "  'depnd_tables': ['\"enc_dde\".\"enc_tmp_work_order_v\"'],\n",
       "  'parent': '\"enc_dde\".\"enc_tmp_work_order_t\"',\n",
       "  'ddl_type': 'CREATE'},\n",
       " {'fileName': 'rs_batch_pre_nz_field.sql',\n",
       "  'name': 'rs_batch_pre_nz_field',\n",
       "  'path': '/csaa-aws-data-capability/field_dde/transform/batches/rs_batch_pre_nz_field.sql',\n",
       "  'depnd_tables': ['\"enc_dde\".\"enc_work_order_v\"'],\n",
       "  'parent': '\"enc_dde\".\"enc_tmp_work_order_t1\"',\n",
       "  'ddl_type': 'CREATE'},\n",
       " {'fileName': 'rs_batch_pre_nz_field.sql',\n",
       "  'name': 'rs_batch_pre_nz_field',\n",
       "  'path': '/csaa-aws-data-capability/field_dde/transform/batches/rs_batch_pre_nz_field.sql',\n",
       "  'depnd_tables': ['\"enc_dde\".\"enc_work_order_t\"'],\n",
       "  'parent': '\"enc_dde\".\"enc_tmp_work_order_t1\"',\n",
       "  'ddl_type': 'ALTER'},\n",
       " {'fileName': 'rs_batch_pre_nz_field.sql',\n",
       "  'name': 'rs_batch_pre_nz_field',\n",
       "  'path': '/csaa-aws-data-capability/field_dde/transform/batches/rs_batch_pre_nz_field.sql',\n",
       "  'depnd_tables': ['\"field_dde\".\"field_dummy_appointment_v\"'],\n",
       "  'parent': '\"field_dde\".\"field_tmp_dummy_appointment_t\"',\n",
       "  'ddl_type': 'CREATE'},\n",
       " {'fileName': 'rs_batch_pre_nz_field.sql',\n",
       "  'name': 'rs_batch_pre_nz_field',\n",
       "  'path': '/csaa-aws-data-capability/field_dde/transform/batches/rs_batch_pre_nz_field.sql',\n",
       "  'depnd_tables': ['\"field_dde\".\"field_dummy_appointment_t\"'],\n",
       "  'parent': '\"field_dde\".\"field_tmp_dummy_appointment_t\"',\n",
       "  'ddl_type': 'ALTER'},\n",
       " {'fileName': 'rs_batch_pre_nz_field.sql',\n",
       "  'name': 'rs_batch_pre_nz_field',\n",
       "  'path': '/csaa-aws-data-capability/field_dde/transform/batches/rs_batch_pre_nz_field.sql',\n",
       "  'depnd_tables': ['\"field_dde\".\"field_work_order_v\"'],\n",
       "  'parent': '\"field_dde\".\"tmp_field_work_order_t\"',\n",
       "  'ddl_type': 'CREATE'},\n",
       " {'fileName': 'rs_batch_pre_nz_field.sql',\n",
       "  'name': 'rs_batch_pre_nz_field',\n",
       "  'path': '/csaa-aws-data-capability/field_dde/transform/batches/rs_batch_pre_nz_field.sql',\n",
       "  'depnd_tables': ['\"field_dde\".\"field_tmp_appointment_v\"'],\n",
       "  'parent': '\"field_dde\".\"tmp_field_appointment_t\"',\n",
       "  'ddl_type': 'CREATE'},\n",
       " {'fileName': 'rs_batch_pre_nz_field.sql',\n",
       "  'name': 'rs_batch_pre_nz_field',\n",
       "  'path': '/csaa-aws-data-capability/field_dde/transform/batches/rs_batch_pre_nz_field.sql',\n",
       "  'depnd_tables': ['\"nbn_dde_23\".\"csa_incident_loc_v\"'],\n",
       "  'parent': '\"nbn_dde_23\".\"csa_temp_incident_loc_t\"',\n",
       "  'ddl_type': 'CREATE'},\n",
       " {'fileName': 'rs_batch_pre_nz_field.sql',\n",
       "  'name': 'rs_batch_pre_nz_field',\n",
       "  'path': '/csaa-aws-data-capability/field_dde/transform/batches/rs_batch_pre_nz_field.sql',\n",
       "  'depnd_tables': ['\"nbn_dde_23\".\"csa_incident_loc_t\"'],\n",
       "  'parent': '\"nbn_dde_23\".\"csa_temp_incident_loc_t\"',\n",
       "  'ddl_type': 'ALTER'},\n",
       " {'fileName': 'rs_batch_pre_nz_field.sql',\n",
       "  'name': 'rs_batch_pre_nz_field',\n",
       "  'path': '/csaa-aws-data-capability/field_dde/transform/batches/rs_batch_pre_nz_field.sql',\n",
       "  'depnd_tables': ['\"field_dde\".\"field_appointment_v\"'],\n",
       "  'parent': '\"field_dde\".\"tmp2_field_appointment_t\"',\n",
       "  'ddl_type': 'CREATE'},\n",
       " {'fileName': 'rs_batch_pre_nz_field.sql',\n",
       "  'name': 'rs_batch_pre_nz_field',\n",
       "  'path': '/csaa-aws-data-capability/field_dde/transform/batches/rs_batch_pre_nz_field.sql',\n",
       "  'depnd_tables': ['\"field_dde\".\"field_appointment_t\"'],\n",
       "  'parent': '\"field_dde\".\"tmp2_field_appointment_t\"',\n",
       "  'ddl_type': 'ALTER'},\n",
       " {'fileName': 'rs_batch_pre_nz_field.sql',\n",
       "  'name': 'rs_batch_pre_nz_field',\n",
       "  'path': '/csaa-aws-data-capability/field_dde/transform/batches/rs_batch_pre_nz_field.sql',\n",
       "  'depnd_tables': ['\"field_dde\".\"field_work_order_adj_v\"'],\n",
       "  'parent': '\"field_dde\".\"tmp_field_work_order_adj_t\"',\n",
       "  'ddl_type': 'CREATE'},\n",
       " {'fileName': 'rs_batch_pre_nz_field.sql',\n",
       "  'name': 'rs_batch_pre_nz_field',\n",
       "  'path': '/csaa-aws-data-capability/field_dde/transform/batches/rs_batch_pre_nz_field.sql',\n",
       "  'depnd_tables': ['\"field_dde\".\"sdc_daily_sums_v\"'],\n",
       "  'parent': '\"field_dde\".\"tmp_sdc_daily_sums_t\"',\n",
       "  'ddl_type': 'CREATE'},\n",
       " {'fileName': 'rs_batch_pre_nz_field.sql',\n",
       "  'name': 'rs_batch_pre_nz_field',\n",
       "  'path': '/csaa-aws-data-capability/field_dde/transform/batches/rs_batch_pre_nz_field.sql',\n",
       "  'depnd_tables': ['\"field_dde\".\"sdc_daily_sums_t\"'],\n",
       "  'parent': '\"field_dde\".\"tmp_sdc_daily_sums_t\"',\n",
       "  'ddl_type': 'ALTER'},\n",
       " {'fileName': 'rs_batch_pre_nz_field.sql',\n",
       "  'name': 'rs_batch_pre_nz_field',\n",
       "  'path': '/csaa-aws-data-capability/field_dde/transform/batches/rs_batch_pre_nz_field.sql',\n",
       "  'depnd_tables': ['\"field_dde\".\"field_links_v\"'],\n",
       "  'parent': '\"field_dde\".\"tmp_field_links_t\"',\n",
       "  'ddl_type': 'CREATE'},\n",
       " {'fileName': 'rs_batch_pre_nz_field.sql',\n",
       "  'name': 'rs_batch_pre_nz_field',\n",
       "  'path': '/csaa-aws-data-capability/field_dde/transform/batches/rs_batch_pre_nz_field.sql',\n",
       "  'depnd_tables': ['\"field_dde\".\"field_links_t\"'],\n",
       "  'parent': '\"field_dde\".\"tmp_field_links_t\"',\n",
       "  'ddl_type': 'ALTER'},\n",
       " {'fileName': 'rs_batch_pre_nz_field.sql',\n",
       "  'name': 'rs_batch_pre_nz_field',\n",
       "  'path': '/csaa-aws-data-capability/field_dde/transform/batches/rs_batch_pre_nz_field.sql',\n",
       "  'depnd_tables': ['\"field_dde\".\"field_orders_incidents_only_links_v\"'],\n",
       "  'parent': '\"field_dde\".\"field_tmp_orders_incidents_only_links_t\"',\n",
       "  'ddl_type': 'CREATE'},\n",
       " {'fileName': 'rs_batch_pre_nz_field.sql',\n",
       "  'name': 'rs_batch_pre_nz_field',\n",
       "  'path': '/csaa-aws-data-capability/field_dde/transform/batches/rs_batch_pre_nz_field.sql',\n",
       "  'depnd_tables': ['\"field_dde\".\"field_orders_incidents_only_links_t\"'],\n",
       "  'parent': '\"field_dde\".\"field_tmp_orders_incidents_only_links_t\"',\n",
       "  'ddl_type': 'ALTER'},\n",
       " {'fileName': 'rs_batch_pre_nz_field.sql',\n",
       "  'name': 'rs_batch_pre_nz_field',\n",
       "  'path': '/csaa-aws-data-capability/field_dde/transform/batches/rs_batch_pre_nz_field.sql',\n",
       "  'depnd_tables': ['\"field_dde\".\"field_work_order_with_telemetry_v\"'],\n",
       "  'parent': '\"field_dde\".\"tmp_field_work_order_with_telemetry_t\"',\n",
       "  'ddl_type': 'CREATE'},\n",
       " {'fileName': 'rs_batch_pre_nz_field.sql',\n",
       "  'name': 'rs_batch_pre_nz_field',\n",
       "  'path': '/csaa-aws-data-capability/field_dde/transform/batches/rs_batch_pre_nz_field.sql',\n",
       "  'depnd_tables': ['\"field_dde\".\"field_work_order_t\"'],\n",
       "  'parent': '\"field_dde\".\"tmp_field_work_order_with_telemetry_t\"',\n",
       "  'ddl_type': 'ALTER'},\n",
       " {'fileName': 'rs_batch_pre_nz_field.sql',\n",
       "  'name': 'rs_batch_pre_nz_field',\n",
       "  'path': '/csaa-aws-data-capability/field_dde/transform/batches/rs_batch_pre_nz_field.sql',\n",
       "  'depnd_tables': ['\"field_dde\".\"field_work_order_log_v\"'],\n",
       "  'parent': '\"field_dde\".\"field_tmp_work_order_log_t\"',\n",
       "  'ddl_type': 'CREATE'},\n",
       " {'fileName': 'rs_batch_pre_nz_field.sql',\n",
       "  'name': 'rs_batch_pre_nz_field',\n",
       "  'path': '/csaa-aws-data-capability/field_dde/transform/batches/rs_batch_pre_nz_field.sql',\n",
       "  'depnd_tables': ['\"field_dde\".\"field_work_order_log_t\"'],\n",
       "  'parent': '\"field_dde\".\"field_tmp_work_order_log_t\"',\n",
       "  'ddl_type': 'ALTER'},\n",
       " {'fileName': 'rs_batch_pre_nz_field.sql',\n",
       "  'name': 'rs_batch_pre_nz_field',\n",
       "  'path': '/csaa-aws-data-capability/field_dde/transform/batches/rs_batch_pre_nz_field.sql',\n",
       "  'depnd_tables': ['\"field_dde\".\"field_nbnprecall_v\"'],\n",
       "  'parent': '\"field_dde\".\"tmp_field_nbnprecall_t\"',\n",
       "  'ddl_type': 'CREATE'},\n",
       " {'fileName': 'rs_batch_pre_nz_field.sql',\n",
       "  'name': 'rs_batch_pre_nz_field',\n",
       "  'path': '/csaa-aws-data-capability/field_dde/transform/batches/rs_batch_pre_nz_field.sql',\n",
       "  'depnd_tables': ['\"field_dde\".\"field_nbnprecall_t\"'],\n",
       "  'parent': '\"field_dde\".\"tmp_field_nbnprecall_t\"',\n",
       "  'ddl_type': 'ALTER'},\n",
       " {'fileName': 'rs_batch_pre_nz_field_snap.sql',\n",
       "  'name': 'rs_batch_pre_nz_field_snap',\n",
       "  'path': '/csaa-aws-data-capability/field_dde/transform/batches/rs_batch_pre_nz_field_snap.sql',\n",
       "  'depnd_tables': ['\"field_dde\".\"fld_event_snapshot_v\"'],\n",
       "  'parent': '\"field_dde\".\"fld_tmp_event_snapshot_t\"',\n",
       "  'ddl_type': 'CREATE'},\n",
       " {'fileName': 'rs_batch_pre_nz_field_snap.sql',\n",
       "  'name': 'rs_batch_pre_nz_field_snap',\n",
       "  'path': '/csaa-aws-data-capability/field_dde/transform/batches/rs_batch_pre_nz_field_snap.sql',\n",
       "  'depnd_tables': ['\"field_dde\".\"fld_event_snapshot_t\"'],\n",
       "  'parent': '\"field_dde\".\"fld_tmp_event_snapshot_t\"',\n",
       "  'ddl_type': 'ALTER'},\n",
       " {'fileName': 'rs_batch_field_snapshot.sql',\n",
       "  'name': 'rs_batch_field_snapshot',\n",
       "  'path': '/csaa-aws-data-capability/field_dde/transform/batches/rs_batch_field_snapshot.sql',\n",
       "  'depnd_tables': ['\"tableau_dde\".\"tableau_fld_a11s_minified_v\"'],\n",
       "  'parent': '\"tableau_dde\".\"tableau_tmp_fld_a11s_minified_t\"',\n",
       "  'ddl_type': 'CREATE'},\n",
       " {'fileName': 'rs_batch_field_snapshot.sql',\n",
       "  'name': 'rs_batch_field_snapshot',\n",
       "  'path': '/csaa-aws-data-capability/field_dde/transform/batches/rs_batch_field_snapshot.sql',\n",
       "  'depnd_tables': ['\"tableau_dde\".\"tableau_fld_a11s_minified_t\"'],\n",
       "  'parent': '\"tableau_dde\".\"tableau_tmp_fld_a11s_minified_t\"',\n",
       "  'ddl_type': 'ALTER'},\n",
       " {'fileName': 'rs_batch_field_snapshot.sql',\n",
       "  'name': 'rs_batch_field_snapshot',\n",
       "  'path': '/csaa-aws-data-capability/field_dde/transform/batches/rs_batch_field_snapshot.sql',\n",
       "  'depnd_tables': ['\"tableau_dde\".\"tableau_fld_a11s_aggregated_v\"'],\n",
       "  'parent': '\"tableau_dde\".\"tableau_tmp_fld_a11s_aggregated_t\"',\n",
       "  'ddl_type': 'CREATE'},\n",
       " {'fileName': 'rs_batch_field_snapshot.sql',\n",
       "  'name': 'rs_batch_field_snapshot',\n",
       "  'path': '/csaa-aws-data-capability/field_dde/transform/batches/rs_batch_field_snapshot.sql',\n",
       "  'depnd_tables': ['\"tableau_dde\".\"tableau_fld_a11s_aggregated_t\"'],\n",
       "  'parent': '\"tableau_dde\".\"tableau_tmp_fld_a11s_aggregated_t\"',\n",
       "  'ddl_type': 'ALTER'},\n",
       " {'fileName': 'rs_batch_field_capacity.sql',\n",
       "  'name': 'rs_batch_field_capacity',\n",
       "  'path': '/csaa-aws-data-capability/field_dde/transform/batches/rs_batch_field_capacity.sql',\n",
       "  'depnd_tables': ['\"field_dde\".\"field_capacity_v\"'],\n",
       "  'parent': '\"field_dde\".\"tmp_field_capacity_t\"',\n",
       "  'ddl_type': 'CREATE'},\n",
       " {'fileName': 'rs_batch_field_capacity.sql',\n",
       "  'name': 'rs_batch_field_capacity',\n",
       "  'path': '/csaa-aws-data-capability/field_dde/transform/batches/rs_batch_field_capacity.sql',\n",
       "  'depnd_tables': ['\"field_dde\".\"field_capacity_t\"'],\n",
       "  'parent': '\"field_dde\".\"tmp_field_capacity_t\"',\n",
       "  'ddl_type': 'ALTER'}]"
      ]
     },
     "execution_count": 63,
     "metadata": {},
     "output_type": "execute_result"
    }
   ],
   "source": [
    "def filter_only_create(item):\n",
    "    if 'ddl_type' in item.keys():\n",
    "        if item['ddl_type'] is None: \n",
    "            return False\n",
    "        elif 'ALTER' in item['ddl_type']:\n",
    "            return True\n",
    "        elif 'CREATE' in item['ddl_type']:\n",
    "            return True\n",
    "        else:\n",
    "            return False\n",
    "    else:\n",
    "        return False\n",
    "    \n",
    "filtered_map = filter(filter_only_create, data)\n",
    "filtered_data = list(filtered_map)\n",
    "filtered_data[0:50]"
   ]
  },
  {
   "cell_type": "markdown",
   "metadata": {},
   "source": [
    "## write out data"
   ]
  },
  {
   "cell_type": "code",
   "execution_count": 58,
   "metadata": {},
   "outputs": [],
   "source": [
    "# with open('list_of_rapid_sql_views_create.json','w') as f:\n",
    "with open('list_of_rapid_sql_views.json','w') as f:    \n",
    "    json.dump(filtered_data, f)"
   ]
  },
  {
   "cell_type": "markdown",
   "metadata": {},
   "source": [
    "# search for one data source depencies"
   ]
  },
  {
   "cell_type": "code",
   "execution_count": 59,
   "metadata": {},
   "outputs": [
    {
     "data": {
      "text/plain": [
       "[{'fileName': 'rs_batch_pre_nz_field.sql',\n",
       "  'name': 'rs_batch_pre_nz_field',\n",
       "  'path': '/csaa-aws-data-capability/field_dde/transform/batches/rs_batch_pre_nz_field.sql',\n",
       "  'depnd_tables': ['\"enc_dde\".\"enc_work_order_t\"'],\n",
       "  'parent': '\"enc_dde\".\"enc_tmp_work_order_t1\"',\n",
       "  'ddl_type': 'ALTER'},\n",
       " {'fileName': 'rs_batch_pre_nz_field.sql',\n",
       "  'name': 'rs_batch_pre_nz_field',\n",
       "  'path': '/csaa-aws-data-capability/field_dde/transform/batches/rs_batch_pre_nz_field.sql',\n",
       "  'depnd_tables': ['\"field_dde\".\"field_dummy_appointment_t\"'],\n",
       "  'parent': '\"field_dde\".\"field_tmp_dummy_appointment_t\"',\n",
       "  'ddl_type': 'ALTER'}]"
      ]
     },
     "execution_count": 59,
     "metadata": {},
     "output_type": "execute_result"
    }
   ],
   "source": [
    "filtered_data[0:2]"
   ]
  },
  {
   "cell_type": "code",
   "execution_count": 60,
   "metadata": {},
   "outputs": [
    {
     "data": {
      "text/plain": [
       "[]"
      ]
     },
     "execution_count": 60,
     "metadata": {},
     "output_type": "execute_result"
    }
   ],
   "source": [
    "depnd_tables = list(filter(lambda x: x['parent'] == '\"cc_dde\".\"Tableau CC Orders View\"',filtered_data))\n",
    "depnd_tables"
   ]
  },
  {
   "cell_type": "code",
   "execution_count": 61,
   "metadata": {},
   "outputs": [
    {
     "data": {
      "text/plain": [
       "[]"
      ]
     },
     "execution_count": 61,
     "metadata": {},
     "output_type": "execute_result"
    }
   ],
   "source": [
    "depnd_tables = list(filter(lambda x: x['parent'] == '\"rmdy_sa_stg\".\"t2115_v\"',filtered_data))\n",
    "depnd_tables"
   ]
  },
  {
   "cell_type": "code",
   "execution_count": 62,
   "metadata": {},
   "outputs": [
    {
     "ename": "IndexError",
     "evalue": "list index out of range",
     "output_type": "error",
     "traceback": [
      "\u001b[0;31m---------------------------------------------------------------------------\u001b[0m",
      "\u001b[0;31mIndexError\u001b[0m                                Traceback (most recent call last)",
      "\u001b[0;32m<ipython-input-62-52524ed28230>\u001b[0m in \u001b[0;36m<module>\u001b[0;34m\u001b[0m\n\u001b[0;32m----> 1\u001b[0;31m \u001b[0mdepnd_tables\u001b[0m \u001b[0;34m=\u001b[0m \u001b[0mlist\u001b[0m\u001b[0;34m(\u001b[0m\u001b[0mfilter\u001b[0m\u001b[0;34m(\u001b[0m\u001b[0;32mlambda\u001b[0m \u001b[0mx\u001b[0m\u001b[0;34m:\u001b[0m \u001b[0mx\u001b[0m\u001b[0;34m[\u001b[0m\u001b[0;34m'parent'\u001b[0m\u001b[0;34m]\u001b[0m \u001b[0;34m==\u001b[0m \u001b[0;34m'\"rmdy_sa_stg\".\"t2115_v\"'\u001b[0m\u001b[0;34m,\u001b[0m\u001b[0mfiltered_data\u001b[0m\u001b[0;34m)\u001b[0m\u001b[0;34m)\u001b[0m\u001b[0;34m[\u001b[0m\u001b[0;36m0\u001b[0m\u001b[0;34m]\u001b[0m\u001b[0;34m[\u001b[0m\u001b[0;34m'depnd_tables'\u001b[0m\u001b[0;34m]\u001b[0m\u001b[0;34m\u001b[0m\u001b[0;34m\u001b[0m\u001b[0m\n\u001b[0m\u001b[1;32m      2\u001b[0m \u001b[0mdepnd_tables_clean\u001b[0m \u001b[0;34m=\u001b[0m \u001b[0mlist\u001b[0m\u001b[0;34m(\u001b[0m\u001b[0mmap\u001b[0m\u001b[0;34m(\u001b[0m\u001b[0;32mlambda\u001b[0m \u001b[0mx\u001b[0m\u001b[0;34m:\u001b[0m \u001b[0mx\u001b[0m\u001b[0;34m.\u001b[0m\u001b[0msplit\u001b[0m\u001b[0;34m(\u001b[0m\u001b[0;34m'.'\u001b[0m\u001b[0;34m)\u001b[0m\u001b[0;34m[\u001b[0m\u001b[0;36m1\u001b[0m\u001b[0;34m]\u001b[0m\u001b[0;34m,\u001b[0m\u001b[0mdepnd_tables\u001b[0m\u001b[0;34m)\u001b[0m\u001b[0;34m)\u001b[0m\u001b[0;34m\u001b[0m\u001b[0;34m\u001b[0m\u001b[0m\n\u001b[1;32m      3\u001b[0m \u001b[0mprint\u001b[0m\u001b[0;34m(\u001b[0m\u001b[0;34m'\\n'\u001b[0m\u001b[0;34m.\u001b[0m\u001b[0mjoin\u001b[0m\u001b[0;34m(\u001b[0m\u001b[0mlist\u001b[0m\u001b[0;34m(\u001b[0m\u001b[0mmap\u001b[0m\u001b[0;34m(\u001b[0m\u001b[0;32mlambda\u001b[0m \u001b[0mx\u001b[0m\u001b[0;34m:\u001b[0m \u001b[0mx\u001b[0m\u001b[0;34m.\u001b[0m\u001b[0mreplace\u001b[0m\u001b[0;34m(\u001b[0m\u001b[0;34m'\"'\u001b[0m\u001b[0;34m,\u001b[0m\u001b[0;34m''\u001b[0m\u001b[0;34m)\u001b[0m\u001b[0;34m,\u001b[0m\u001b[0mdepnd_tables_clean\u001b[0m\u001b[0;34m)\u001b[0m\u001b[0;34m)\u001b[0m\u001b[0;34m)\u001b[0m\u001b[0;34m)\u001b[0m\u001b[0;34m\u001b[0m\u001b[0;34m\u001b[0m\u001b[0m\n",
      "\u001b[0;31mIndexError\u001b[0m: list index out of range"
     ]
    }
   ],
   "source": [
    "depnd_tables = list(filter(lambda x: x['parent'] == '\"rmdy_sa_stg\".\"t2115_v\"',filtered_data))[0]['depnd_tables']\n",
    "depnd_tables_clean = list(map(lambda x: x.split('.')[1],depnd_tables))\n",
    "print('\\n'.join(list(map(lambda x: x.replace('\"',''),depnd_tables_clean))))"
   ]
  },
  {
   "cell_type": "markdown",
   "metadata": {},
   "source": [
    "## Analyse Filtered Data"
   ]
  },
  {
   "cell_type": "code",
   "execution_count": null,
   "metadata": {},
   "outputs": [],
   "source": [
    "len(filtered_data)"
   ]
  },
  {
   "cell_type": "code",
   "execution_count": null,
   "metadata": {},
   "outputs": [],
   "source": [
    "list(map(lambda x: {'parent': x['parent'], 'depnd_tables': x['depnd_tables']},filtered_data))[0:5]"
   ]
  },
  {
   "cell_type": "code",
   "execution_count": null,
   "metadata": {},
   "outputs": [],
   "source": []
  }
 ],
 "metadata": {
  "kernelspec": {
   "display_name": "Python 3",
   "language": "python",
   "name": "python3"
  },
  "language_info": {
   "codemirror_mode": {
    "name": "ipython",
    "version": 3
   },
   "file_extension": ".py",
   "mimetype": "text/x-python",
   "name": "python",
   "nbconvert_exporter": "python",
   "pygments_lexer": "ipython3",
   "version": "3.6.10"
  }
 },
 "nbformat": 4,
 "nbformat_minor": 4
}
