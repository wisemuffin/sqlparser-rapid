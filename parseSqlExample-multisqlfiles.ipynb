{
 "cells": [
  {
   "cell_type": "markdown",
   "metadata": {},
   "source": [
    "# using sqlparse to create meta data\n",
    "\n",
    "## obectives\n",
    "- impact analysis: understand the impact we have on downstream data assets\n",
    "- data lineage: full data tracking map of ETL\n",
    "- currently blocks business glossary\n",
    "\n",
    "### instructions\n",
    "- git pull latest\n",
    "\n",
    "### limitations\n",
    "- [solevd] when using spaces in tables names with reserved keyworkds, e.g. case in \"tableau enc case view\"\n",
    "Have solved this by changing sq_metadata\n",
    "- COPY TRUNCATE INSERTED not supported yet example (will only pick up CREATE and DROP): /csaa-aws-data-capability/nbn_dde_23/load/batches/d_location-rs_full_load.sql. When not CREATE or DROP then Parent = None\n",
    "- funny CREATE e.g. in /csaa-aws-data-capability/nbn_dde_23/load/batches/d_location-rs_full_load.sql. : create table nbn_dde_23.temp_IMPT_D_LOCATION_T(like nbn_dde_23.IMPT_D_LOCATION_T);\n",
    "- [bug] if UNION in statement currently adding select names into table depencies e.g. nbn_dde_23.csa_tmp_incident_event_snapshot_links_v\n",
    "\n",
    "### how does this work?\n",
    "- sql files is made up of one to many sql statements\n",
    "- each sql statments is made up of tokens\n",
    "- tokens seperate out keyworkds, DML, DDL, names and puncutation ect.\n",
    "\n",
    "### output\n",
    "- parent child relationships of every single sql statement in every sql file (can be multiple)\n",
    "- example:"
   ]
  },
  {
   "cell_type": "code",
   "execution_count": 237,
   "metadata": {},
   "outputs": [
    {
     "data": {
      "text/plain": [
       "[{'fileName': 'Tableau MTM Glide Path Target View.sql',\n",
       "  'name': 'Tableau MTM Glide Path Target View',\n",
       "  'path': '/home/davidgriffiths/csaa-aws-data-capability/nbn_dde_23/tableau_views/Tableau MTM Glide Path Target View.sql',\n",
       "  'depnd_tables': [],\n",
       "  'parent': 'nbn_dde_23.\"Tableau MTM Glide Path Target View\"',\n",
       "  'ddl_type': 'DROP'}]"
      ]
     },
     "execution_count": 237,
     "metadata": {},
     "output_type": "execute_result"
    }
   ],
   "source": [
    "# example output \n",
    "[{'fileName': 'Tableau MTM Glide Path Target View.sql',\n",
    "  'name': 'Tableau MTM Glide Path Target View',\n",
    "  'path': '/home/davidgriffiths/csaa-aws-data-capability/nbn_dde_23/tableau_views/Tableau MTM Glide Path Target View.sql',\n",
    "  'depnd_tables': [],\n",
    "  'parent': 'nbn_dde_23.\"Tableau MTM Glide Path Target View\"',\n",
    "  'ddl_type': 'DROP'}]"
   ]
  },
  {
   "cell_type": "markdown",
   "metadata": {},
   "source": [
    "# setup"
   ]
  },
  {
   "cell_type": "code",
   "execution_count": 238,
   "metadata": {},
   "outputs": [
    {
     "name": "stdout",
     "output_type": "stream",
     "text": [
      "# conda environments:\n",
      "#\n",
      "base                     /home/davidgriffiths/miniconda3\n",
      "sqlparse              *  /home/davidgriffiths/miniconda3/envs/sqlparse\n",
      "\n"
     ]
    }
   ],
   "source": [
    "!conda info --envs"
   ]
  },
  {
   "cell_type": "code",
   "execution_count": 239,
   "metadata": {},
   "outputs": [],
   "source": [
    "import sql_metadata"
   ]
  },
  {
   "cell_type": "code",
   "execution_count": 240,
   "metadata": {},
   "outputs": [],
   "source": [
    "import re\n",
    "from typing import List, Tuple, Optional, Dict\n",
    "import sqlparse\n",
    "\n",
    "from sqlparse.sql import TokenList\n",
    "from sqlparse.tokens import Name, Whitespace, Wildcard, Number, Punctuation, DDL "
   ]
  },
  {
   "cell_type": "markdown",
   "metadata": {},
   "source": [
    "# re built get_query_tokens\n",
    "need to account for multiple queries in a file"
   ]
  },
  {
   "cell_type": "code",
   "execution_count": 241,
   "metadata": {},
   "outputs": [],
   "source": [
    "def get_query_tokens(query: str) -> List[sqlparse.sql.Token]:\n",
    "    \"\"\"\n",
    "    daves changes: sqlparse.parse(query) returns a tuple if multiple queries \";\" need to handle this\n",
    "    :type query str\n",
    "    :rtype: list[{queryNoWithinFile str,  tokens: list[sqlparse.sql.Token]}\n",
    "    \"\"\"\n",
    "    query = sql_metadata.preprocess_query(query)\n",
    "    parsed = sqlparse.parse(query)\n",
    "\n",
    "    # handle empty queries (#12)\n",
    "    if not parsed:\n",
    "        return []\n",
    "\n",
    "    queries_list_and_tokens =[]\n",
    "    n=0\n",
    "    for qry in parsed:\n",
    "        tokens = TokenList(qry.tokens).flatten()\n",
    "        # print([(token.value, token.ttype) for token in tokens])\n",
    "\n",
    "        dic = {\"queryNoWithinFile\":n,\"tokens\":[token for token in tokens if token.ttype is not Whitespace]}\n",
    "        queries_list_and_tokens.append(dic)\n",
    "        n = n+1\n",
    "    return queries_list_and_tokens"
   ]
  },
  {
   "cell_type": "markdown",
   "metadata": {},
   "source": [
    "# re built get_query_tables\n",
    "i remvoed the quote removal"
   ]
  },
  {
   "cell_type": "code",
   "execution_count": 242,
   "metadata": {},
   "outputs": [],
   "source": [
    "def get_query_tables(query: str, dev=False) -> List[str]:\n",
    "    \"\"\"\n",
    "    :type query str\n",
    "    :rtype: list[str]\n",
    "    \"\"\"\n",
    "    \n",
    "\n",
    "    table_syntax_keywords = [\n",
    "        # SELECT queries\n",
    "        'FROM', 'WHERE', 'JOIN', 'INNER JOIN', 'FULL JOIN', 'FULL OUTER JOIN',\n",
    "        'LEFT OUTER JOIN', 'RIGHT OUTER JOIN',\n",
    "        'LEFT JOIN', 'RIGHT JOIN', 'ON',\n",
    "        # INSERT queries\n",
    "        'INTO', 'VALUES',\n",
    "        # UPDATE queries\n",
    "        'UPDATE', 'SET',\n",
    "        # Hive queries\n",
    "        'TABLE',  # INSERT TABLE\n",
    "        \n",
    "        \n",
    "    ]\n",
    "    \n",
    "#     print(sql_metadata.get_query_tokens(query))\n",
    "#     query = query.replace('\"', '')\n",
    "    query = sqlparse.format(query, strip_comments=True).strip()\n",
    "#     print(query)\n",
    "    queries_list_and_tokens = get_query_tokens(query)\n",
    "    \n",
    "    queries_list_and_tokens_parsed =[]\n",
    "    \n",
    "    for query_and_tokens in queries_list_and_tokens:\n",
    "        parent_table_list = []\n",
    "        parent_table_counter = 0 # increments to 2 to get schema and table\n",
    "        tables = []\n",
    "        last_keyword = None\n",
    "        last_ddl =None\n",
    "        keep_last_ddl = None\n",
    "        \n",
    "        for index, token in enumerate(query_and_tokens['tokens']):\n",
    "#             if dev==True: print([token, token.ttype, last_keyword,last_ddl, token.value.upper(),parent_table_counter, last_ddl,parent_table_list])\n",
    "            if dev==True: print([token, token.ttype, token.value.upper()])\n",
    "            if token.is_keyword and token.value.upper() in table_syntax_keywords:\n",
    "                # keep the name of the last keyword, the next one can be a table name\n",
    "                last_keyword = token.value.upper()\n",
    "#                 print('keyword', last_keyword)\n",
    "            elif str(token.ttype) == 'Token.Keyword.DDL':\n",
    "                # keep the name of the last create, the next one can be annother table to create\n",
    "                last_ddl = token.value.upper()\n",
    "                keep_last_ddl= token.value.upper()\n",
    "#                 print('keyword.lld', token.value.upper())\n",
    "            elif str(token) == '(':\n",
    "                # reset the last_keyword for INSERT `foo` VALUES(id, bar) ...\n",
    "                last_keyword = None\n",
    "            elif token.is_keyword and str(token) in ['FORCE', 'ORDER', 'GROUP BY']:\n",
    "                # reset the last_keyword for queries like:\n",
    "                # \"SELECT x FORCE INDEX\"\n",
    "                # \"SELECT x ORDER BY\"\n",
    "                # \"SELECT x FROM y GROUP BY x\"\n",
    "                last_keyword = None\n",
    "            elif token.is_keyword and str(token) == 'SELECT' and last_keyword in ['INTO', 'TABLE']:\n",
    "                # reset the last_keyword for \"INSERT INTO SELECT\" and \"INSERT TABLE SELECT\" queries\n",
    "                last_keyword = None\n",
    "#             elif (token.ttype is Name or str(token.ttype) == 'Token.Literal.String.Symbol') and last_ddl in ['CREATE','DROP']:\n",
    "            elif (token.ttype is Name or str(token.ttype) == 'Token.Literal.String.Symbol') and last_ddl != None:\n",
    "#                 print(\"found a CREATE or DROP\")\n",
    "                parent_table_list.append(str(token))\n",
    "                parent_table_counter = parent_table_counter + 1\n",
    "                if parent_table_counter > 1:\n",
    "                    last_ddl = None\n",
    "                    parent_table_counter = 0\n",
    "#                 parent_table = sql_metadata._update_table_names(tables, query_and_tokens['tokens'], index, last_keyword)\n",
    "            elif token.ttype is Name or token.ttype or token.is_keyword:\n",
    "                tables = sql_metadata._update_table_names(tables, query_and_tokens['tokens'], index, last_keyword)\n",
    "        unique_tables = sql_metadata.unique(tables)\n",
    "        dic = {\n",
    "            \"queryNoWithinFile\": query_and_tokens['queryNoWithinFile'],\n",
    "            \"tables\": unique_tables,\n",
    "            \"parent_table\": '.'.join(parent_table_list),\n",
    "            \"ddl_type\": keep_last_ddl\n",
    "        }\n",
    "        queries_list_and_tokens_parsed.append(dic)\n",
    "\n",
    "    return queries_list_and_tokens_parsed"
   ]
  },
  {
   "cell_type": "markdown",
   "metadata": {},
   "source": [
    "# working with multiple files"
   ]
  },
  {
   "cell_type": "code",
   "execution_count": 243,
   "metadata": {},
   "outputs": [],
   "source": [
    "import os\n",
    "from os import path\n",
    "from pathlib import Path"
   ]
  },
  {
   "cell_type": "markdown",
   "metadata": {},
   "source": [
    "# get all sql files"
   ]
  },
  {
   "cell_type": "code",
   "execution_count": 244,
   "metadata": {},
   "outputs": [],
   "source": [
    "files = os.listdir()"
   ]
  },
  {
   "cell_type": "code",
   "execution_count": 245,
   "metadata": {},
   "outputs": [],
   "source": [
    "files_filtered = list(filter(lambda x: re.search(r\"^.*\\.(sql)$\", x), files))"
   ]
  },
  {
   "cell_type": "markdown",
   "metadata": {},
   "source": [
    "# get all sql view depedncies"
   ]
  },
  {
   "cell_type": "markdown",
   "metadata": {},
   "source": [
    "### get all files in RAPID"
   ]
  },
  {
   "cell_type": "code",
   "execution_count": 246,
   "metadata": {},
   "outputs": [],
   "source": [
    "rapid_dirs = ['']  # ['nbn_dde_23']  # ['nbn_dde_23/load/batches'] # ['nbn_dde_23/tableau_views'] # ['tableau_dde/transform/views'] # ['nbn_dde_23/tableau_views','tableau_dde/transform/views']"
   ]
  },
  {
   "cell_type": "code",
   "execution_count": 247,
   "metadata": {},
   "outputs": [
    {
     "data": {
      "text/plain": [
       "[{'fileName': '.gitignore',\n",
       "  'path': '/home/davidgriffiths/csaa-aws-data-capability/.gitignore'},\n",
       " {'fileName': 'amazons.redshift.cfn.yaml',\n",
       "  'path': '/home/davidgriffiths/csaa-aws-data-capability/amazons.redshift.cfn.yaml'},\n",
       " {'fileName': '.gitattributes',\n",
       "  'path': '/home/davidgriffiths/csaa-aws-data-capability/.gitattributes'}]"
      ]
     },
     "execution_count": 247,
     "metadata": {},
     "output_type": "execute_result"
    }
   ],
   "source": [
    "rapid_files = []\n",
    "for rapid_dir in rapid_dirs:\n",
    "    for dirpath, dirname, filenames in os.walk(os.path.join('/home/davidgriffiths/csaa-aws-data-capability',rapid_dir)):\n",
    "        for file in filenames:\n",
    "            file_dict = {\n",
    "                \"fileName\": file,\n",
    "                \"path\": os.path.join(dirpath,file),\n",
    "            }\n",
    "            rapid_files.append(file_dict)\n",
    "# # look at one file\n",
    "# rapid_files = [{'fileName': 'csa_tmp_incident_event_snapshot_links_v.sql','path': os.path.join('/home/davidgriffiths/csaa-aws-data-capability','nbn_dde_23/transform/views/csa_tmp_incident_event_snapshot_links_v.sql')}]\n",
    "rapid_files[0:3]\n"
   ]
  },
  {
   "cell_type": "markdown",
   "metadata": {},
   "source": [
    "### keep only .sql files"
   ]
  },
  {
   "cell_type": "code",
   "execution_count": 248,
   "metadata": {},
   "outputs": [
    {
     "data": {
      "text/plain": [
       "[{'fileName': 'create Schema.sql',\n",
       "  'path': '/home/davidgriffiths/csaa-aws-data-capability/create Schema.sql'},\n",
       " {'fileName': 'step3_calc_metrics.sql',\n",
       "  'path': '/home/davidgriffiths/csaa-aws-data-capability/neto_dde/transform/batches/step3_calc_metrics.sql'},\n",
       " {'fileName': 'calc_fw_poc_1_t.sql',\n",
       "  'path': '/home/davidgriffiths/csaa-aws-data-capability/neto_dde/transform/batches/calc_fw_poc_1_t.sql'},\n",
       " {'fileName': 'calc_fttx_poc_detail.sql',\n",
       "  'path': '/home/davidgriffiths/csaa-aws-data-capability/neto_dde/transform/batches/calc_fttx_poc_detail.sql'},\n",
       " {'fileName': 'calc_fw_poc_3_t.sql',\n",
       "  'path': '/home/davidgriffiths/csaa-aws-data-capability/neto_dde/transform/batches/calc_fw_poc_3_t.sql'}]"
      ]
     },
     "execution_count": 248,
     "metadata": {},
     "output_type": "execute_result"
    }
   ],
   "source": [
    "rapid_files_filtered = list(filter(lambda x: re.search(r\"^.*\\.(sql)$\", x['fileName']), rapid_files))\n",
    "rapid_files_filtered[0:5]"
   ]
  },
  {
   "cell_type": "markdown",
   "metadata": {},
   "source": [
    "## loop through files"
   ]
  },
  {
   "cell_type": "code",
   "execution_count": 249,
   "metadata": {},
   "outputs": [],
   "source": [
    "def addQuotes(item):\n",
    "    if isinstance(item, str) and len(item) > 0:\n",
    "        if item[0] ==\"\\\"\":\n",
    "            return item\n",
    "        return f\"\\\"{item}\\\"\"\n",
    "    return item"
   ]
  },
  {
   "cell_type": "code",
   "execution_count": 250,
   "metadata": {},
   "outputs": [
    {
     "data": {
      "text/plain": [
       "'\"nbn_dde_23\".\"temp_IMPT_D_LOCATION_T\"'"
      ]
     },
     "execution_count": 250,
     "metadata": {},
     "output_type": "execute_result"
    }
   ],
   "source": [
    "# example\n",
    "parent_example = '\"nbn_dde_23\".temp_IMPT_D_LOCATION_T'\n",
    "\n",
    "addQuotes(parent_example.split('.')[0])\n",
    "\n",
    "example_map = map(addQuotes, parent_example.split('.'))\n",
    "'.'.join(list(example_map))"
   ]
  },
  {
   "cell_type": "code",
   "execution_count": 251,
   "metadata": {},
   "outputs": [
    {
     "data": {
      "text/plain": [
       "[{'fileName': 'step3_calc_metrics.sql',\n",
       "  'name': 'step3_calc_metrics',\n",
       "  'path': '/csaa-aws-data-capability/neto_dde/transform/batches/step3_calc_metrics.sql',\n",
       "  'depnd_tables': ['\"if\"'],\n",
       "  'parent': '\"neto_dde\".\"tmp_id_link_t\"',\n",
       "  'ddl_type': 'DROP'},\n",
       " {'fileName': 'step3_calc_metrics.sql',\n",
       "  'name': 'step3_calc_metrics',\n",
       "  'path': '/csaa-aws-data-capability/neto_dde/transform/batches/step3_calc_metrics.sql',\n",
       "  'depnd_tables': ['\"neto_dde\".\"id_link_v\"', '\"RS_UNIQUE_HASH\"'],\n",
       "  'parent': '\"neto_dde\".\"tmp_id_link_t\"',\n",
       "  'ddl_type': 'CREATE'},\n",
       " {'fileName': 'step3_calc_metrics.sql',\n",
       "  'name': 'step3_calc_metrics',\n",
       "  'path': '/csaa-aws-data-capability/neto_dde/transform/batches/step3_calc_metrics.sql',\n",
       "  'depnd_tables': ['\"if\"'],\n",
       "  'parent': '\"neto_dde\".\"id_link_t\"',\n",
       "  'ddl_type': 'DROP'},\n",
       " {'fileName': 'step3_calc_metrics.sql',\n",
       "  'name': 'step3_calc_metrics',\n",
       "  'path': '/csaa-aws-data-capability/neto_dde/transform/batches/step3_calc_metrics.sql',\n",
       "  'depnd_tables': [],\n",
       "  'parent': '\"neto_dde\".\"tmp_id_link_t\"',\n",
       "  'ddl_type': 'ALTER'},\n",
       " {'fileName': 'step3_calc_metrics.sql',\n",
       "  'name': 'step3_calc_metrics',\n",
       "  'path': '/csaa-aws-data-capability/neto_dde/transform/batches/step3_calc_metrics.sql',\n",
       "  'depnd_tables': ['\"if\"'],\n",
       "  'parent': '\"neto_dde\".\"tmp_calc_hfc_p2_3_t\"',\n",
       "  'ddl_type': 'DROP'}]"
      ]
     },
     "execution_count": 251,
     "metadata": {},
     "output_type": "execute_result"
    }
   ],
   "source": [
    "list_of_rapid_sql_views = []\n",
    "\n",
    "def map_over_shema_table(item):\n",
    "    if item == '' or item == None: return\n",
    "    return '.'.join(list(map(addQuotes, item.split('.'))))\n",
    "\n",
    "for file in rapid_files_filtered:\n",
    "    with open(file['path'], 'r') as f:\n",
    "        query = f.read()\n",
    "        queries_and_tables = get_query_tables(query,False)\n",
    "    \n",
    "        for qry in queries_and_tables:\n",
    "            \n",
    "            dic = {\n",
    "                'fileName': file['fileName'],\n",
    "                'name': os.path.splitext(file['fileName'])[0],\n",
    "                'path': file['path'].replace(\"/home/davidgriffiths\", \"\"),\n",
    "#                 'depnd_tables': qry['tables'],\n",
    "                'depnd_tables': list(map(map_over_shema_table,qry['tables'])),\n",
    "#                 'parent': qry[\"parent_table\"],\n",
    "#                 'parent': '.'.join(list(map(addQuotes, qry[\"parent_table\"].split('.')))),\n",
    "                'parent': map_over_shema_table(qry[\"parent_table\"]),\n",
    "                'ddl_type': qry['ddl_type']\n",
    "            }\n",
    "\n",
    "            list_of_rapid_sql_views.append(dic) \n",
    "        \n",
    "\n",
    "list_of_rapid_sql_views[0:5]"
   ]
  },
  {
   "cell_type": "markdown",
   "metadata": {},
   "source": [
    "# write out as JSON"
   ]
  },
  {
   "cell_type": "code",
   "execution_count": 252,
   "metadata": {},
   "outputs": [],
   "source": [
    "import json"
   ]
  },
  {
   "cell_type": "code",
   "execution_count": 253,
   "metadata": {},
   "outputs": [],
   "source": [
    "# # loads json from string\n",
    "# datajsonstr=json.loads('{\"str\":\"str\"}')\n",
    "# datajsonstr"
   ]
  },
  {
   "cell_type": "code",
   "execution_count": 254,
   "metadata": {},
   "outputs": [],
   "source": [
    "# stringify = json.dumps(list_of_rapid_sql_views, indent=2)\n",
    "# stringify"
   ]
  },
  {
   "cell_type": "code",
   "execution_count": 255,
   "metadata": {},
   "outputs": [],
   "source": [
    "# with open('jsonfile.json') as f:\n",
    "#     data = json.load(f)"
   ]
  },
  {
   "cell_type": "code",
   "execution_count": 256,
   "metadata": {},
   "outputs": [],
   "source": [
    "with open('list_of_rapid_sql_views.json','w') as f:\n",
    "    json.dump(list_of_rapid_sql_views, f)"
   ]
  },
  {
   "cell_type": "markdown",
   "metadata": {},
   "source": [
    "# test out funny files"
   ]
  },
  {
   "cell_type": "code",
   "execution_count": 257,
   "metadata": {},
   "outputs": [],
   "source": [
    "filenamedave = '/home/davidgriffiths/csaa-aws-data-capability/nbn_dde_23/tableau_views/Tableau Incident WO Links View.sql'"
   ]
  },
  {
   "cell_type": "code",
   "execution_count": 258,
   "metadata": {},
   "outputs": [
    {
     "name": "stdout",
     "output_type": "stream",
     "text": [
      "[{'queryNoWithinFile': 0, 'tables': [], 'parent_table': 'nbn_dde_23.\"Tableau Incident WO Links View\"', 'ddl_type': 'DROP'}, {'queryNoWithinFile': 1, 'tables': ['nbn_dde_23.CSA_INCIDENT_LINKS_WO_T'], 'parent_table': 'nbn_dde_23.\"Tableau Incident WO Links View\"', 'ddl_type': 'CREATE  OR REPLACE'}]\n"
     ]
    }
   ],
   "source": [
    "with open(filenamedave, 'r') as f:\n",
    "        query = f.read()\n",
    "#         print(query)\n",
    "        tables = get_query_tables(query)\n",
    "        print(tables)"
   ]
  },
  {
   "cell_type": "markdown",
   "metadata": {},
   "source": [
    "# problem sqlparse.parse doesnt do multiple queries"
   ]
  },
  {
   "cell_type": "code",
   "execution_count": 259,
   "metadata": {},
   "outputs": [
    {
     "name": "stdout",
     "output_type": "stream",
     "text": [
      "[{'queryNoWithinFile': 0, 'tokens': [<DDL 'drop' at 0x7F39DB2D3468>, <Keyword 'view' at 0x7F39EC441E88>, <Keyword 'if' at 0x7F39EC830BE8>, <Keyword 'exists' at 0x7F39EC8309A8>, <Name 'nbn_dd...' at 0x7F39EC8301C8>, <Punctuation '.' at 0x7F39EC830168>, <Symbol '\"Table...' at 0x7F39ECA12588>, <Punctuation ';' at 0x7F39ECA125E8>]}, {'queryNoWithinFile': 1, 'tokens': [<DDL 'CREATE...' at 0x7F39EC105E28>, <Keyword 'VIEW' at 0x7F39EC105BE8>, <Name 'nbn_dd...' at 0x7F39EC105C48>, <Punctuation '.' at 0x7F39EC105A68>, <Symbol '\"Table...' at 0x7F39EC105528>, <Keyword 'AS' at 0x7F39EE72E468>, <DML 'SELECT' at 0x7F39EE72EA08>, <Name 'INC_WO...' at 0x7F39EE72E408>, <Punctuation ',' at 0x7F39EE72EE88>, <Name 'INCIDE...' at 0x7F39EE72E0A8>, <Punctuation ',' at 0x7F39EE72E228>, <Name 'APPOIN...' at 0x7F39ECBD2768>, <Punctuation ',' at 0x7F39ECBD2C48>, <Name 'WORK_R...' at 0x7F39ECBD26A8>, <Punctuation ',' at 0x7F39ECAB5FA8>, <Name 'WORK_O...' at 0x7F39ECAB5F48>, <Punctuation ',' at 0x7F39ECD0C0A8>, <Name 'PRI_ID...' at 0x7F39ECD0CEE8>, <Punctuation ',' at 0x7F39ECD0CE28>, <Name 'PRI_KE...' at 0x7F39ECD0C648>, <Punctuation ',' at 0x7F39EC60BB88>, <Name 'DQ_COM...' at 0x7F39EC60BEE8>, <Keyword 'as' at 0x7F39EC60B108>, <Symbol '\"Data ...' at 0x7F39EC60B6A8>, <Punctuation ',' at 0x7F39DA40F528>, <Name 'LOCATI...' at 0x7F39DA40FF48>, <Punctuation ',' at 0x7F39DA40F7C8>, <Name 'APPOIN...' at 0x7F39DA40F2E8>, <Punctuation ',' at 0x7F39DA40FBE8>, <Name 'EXC_1_...' at 0x7F39DAB980A8>, <Keyword 'as' at 0x7F39DAB987C8>, <Symbol '\"Exclu...' at 0x7F39DAB98768>, <Punctuation ',' at 0x7F39DAB98708>, <Name 'EXC_2_...' at 0x7F39DAB98E88>, <Keyword 'as' at 0x7F39DAB98588>, <Symbol '\"Exclu...' at 0x7F39DAB98F48>, <Punctuation ',' at 0x7F39DAB98888>, <Name 'EXC_3_...' at 0x7F39DAB98FA8>, <Keyword 'as' at 0x7F39DAB986A8>, <Symbol '\"Exclu...' at 0x7F39DAB98B88>, <Punctuation ',' at 0x7F39DA19E2E8>, <Name 'EXC_4_...' at 0x7F39DA19EDC8>, <Keyword 'as' at 0x7F39DA19E768>, <Symbol '\"Exclu...' at 0x7F39DA19E228>, <Punctuation ',' at 0x7F39DA19E7C8>, <Name 'EXC_5_...' at 0x7F39DA19E528>, <Keyword 'as' at 0x7F39DA19E948>, <Symbol '\"Exclu...' at 0x7F39DA19E348>, <Punctuation ',' at 0x7F39DA19EB88>, <Name 'EXC_6_...' at 0x7F39DA19EE88>, <Keyword 'as' at 0x7F39EE6F6528>, <Symbol '\"Exclu...' at 0x7F39EE6F6468>, <Punctuation ',' at 0x7F39EE6F61C8>, <Name 'EXC_7_...' at 0x7F39EE6F6FA8>, <Keyword 'as' at 0x7F39EE6F6D68>, <Symbol '\"Exclu...' at 0x7F39EE6F67C8>, <Punctuation ',' at 0x7F39EE6F6BE8>, <Name 'EXC_8_...' at 0x7F39EE6F6B88>, <Keyword 'as' at 0x7F39EE6F6DC8>, <Symbol '\"Exclu...' at 0x7F39EE6F6708>, <Punctuation ',' at 0x7F39DABCDAC8>, <Name 'EXC_9_...' at 0x7F39DABCDEE8>, <Keyword 'as' at 0x7F39DABCD228>, <Symbol '\"Exclu...' at 0x7F39DABCD108>, <Punctuation ',' at 0x7F39DABCDD68>, <Name 'EXC_10...' at 0x7F39DABCDFA8>, <Keyword 'as' at 0x7F39DABCD9A8>, <Symbol '\"Exclu...' at 0x7F39DABCD0A8>, <Punctuation ',' at 0x7F39ECDEC8E8>, <Name 'Exc_11...' at 0x7F39ECDECB88>, <Keyword 'as' at 0x7F39ECDECA68>, <Symbol '\"Exclu...' at 0x7F39ECDEC768>, <Punctuation ',' at 0x7F39ECB6EE28>, <Name 'EXC_12...' at 0x7F39ECB6E768>, <Keyword 'as' at 0x7F39ECB6E468>, <Symbol '\"Exclu...' at 0x7F39ECB6E828>, <Punctuation ',' at 0x7F39ECB6E408>, <Name 'Exc_13...' at 0x7F39ECB6E108>, <Keyword 'as' at 0x7F39ECB6E528>, <Symbol '\"Exclu...' at 0x7F39ECB6E168>, <Single '--Deep...' at 0x7F39ECB6EFA8>]}]\n"
     ]
    }
   ],
   "source": [
    "with open(filenamedave, 'r') as f:\n",
    "        query = f.read()\n",
    "#         print(query)\n",
    "#         tables = get_query_tables(query)\n",
    "#         print(tables)\n",
    "\n",
    "        # is parsing within sql_metadata.get_query_tokens working\n",
    "#         res = sqlparse.parse(query)\n",
    "#         print(res[1]) ##  this second query isnt getting picked up\n",
    "        \n",
    "        print(get_query_tokens(query))\n",
    "        \n",
    "        "
   ]
  },
  {
   "cell_type": "code",
   "execution_count": null,
   "metadata": {},
   "outputs": [],
   "source": []
  }
 ],
 "metadata": {
  "kernelspec": {
   "display_name": "Python 3",
   "language": "python",
   "name": "python3"
  },
  "language_info": {
   "codemirror_mode": {
    "name": "ipython",
    "version": 3
   },
   "file_extension": ".py",
   "mimetype": "text/x-python",
   "name": "python",
   "nbconvert_exporter": "python",
   "pygments_lexer": "ipython3",
   "version": "3.6.10"
  }
 },
 "nbformat": 4,
 "nbformat_minor": 4
}
