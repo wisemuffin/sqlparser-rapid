{
 "cells": [
  {
   "cell_type": "markdown",
   "metadata": {},
   "source": [
    "# using sqlparse to create meta data\n",
    "\n",
    "### instructions\n",
    "- git pull latest\n",
    "\n",
    "### limitations\n",
    "- [solevd] when using spaces in tables names with reserved keyworkds, e.g. case in \"tableau enc case view\"\n",
    "Have solved this by changing sq_metadata\n",
    "- COPY TRUNCATE INSERTED not supported yet example (will only pick up CREATE and DROP): /csaa-aws-data-capability/nbn_dde_23/load/batches/d_location-rs_full_load.sql. When not CREATE or DROP then Parent = None\n",
    "- funny CREATE e.g. in /csaa-aws-data-capability/nbn_dde_23/load/batches/d_location-rs_full_load.sql. : create table nbn_dde_23.temp_IMPT_D_LOCATION_T(like nbn_dde_23.IMPT_D_LOCATION_T);\n",
    "\n",
    "### how does this work?\n",
    "- sql files is made up of one to many sql statements\n",
    "- each sql statments is made up of tokens\n",
    "- tokens seperate out keyworkds, DML, DDL, names and puncutation ect.\n",
    "\n",
    "### output\n",
    "- parent child relationships of every single sql statement in every sql file (can be multiple)\n",
    "- example:"
   ]
  },
  {
   "cell_type": "code",
   "execution_count": 124,
   "metadata": {},
   "outputs": [
    {
     "data": {
      "text/plain": [
       "[{'fileName': 'Tableau MTM Glide Path Target View.sql',\n",
       "  'name': 'Tableau MTM Glide Path Target View',\n",
       "  'path': '/home/davidgriffiths/csaa-aws-data-capability/nbn_dde_23/tableau_views/Tableau MTM Glide Path Target View.sql',\n",
       "  'depnd_tables': [],\n",
       "  'parent': 'nbn_dde_23.\"Tableau MTM Glide Path Target View\"',\n",
       "  'ddl_type': 'DROP'}]"
      ]
     },
     "execution_count": 124,
     "metadata": {},
     "output_type": "execute_result"
    }
   ],
   "source": [
    "# example output \n",
    "[{'fileName': 'Tableau MTM Glide Path Target View.sql',\n",
    "  'name': 'Tableau MTM Glide Path Target View',\n",
    "  'path': '/home/davidgriffiths/csaa-aws-data-capability/nbn_dde_23/tableau_views/Tableau MTM Glide Path Target View.sql',\n",
    "  'depnd_tables': [],\n",
    "  'parent': 'nbn_dde_23.\"Tableau MTM Glide Path Target View\"',\n",
    "  'ddl_type': 'DROP'}]"
   ]
  },
  {
   "cell_type": "markdown",
   "metadata": {},
   "source": [
    "# setup"
   ]
  },
  {
   "cell_type": "code",
   "execution_count": 125,
   "metadata": {},
   "outputs": [
    {
     "name": "stdout",
     "output_type": "stream",
     "text": [
      "# conda environments:\n",
      "#\n",
      "base                     /home/davidgriffiths/miniconda3\n",
      "sqlparse              *  /home/davidgriffiths/miniconda3/envs/sqlparse\n",
      "\n"
     ]
    }
   ],
   "source": [
    "!conda info --envs"
   ]
  },
  {
   "cell_type": "code",
   "execution_count": 126,
   "metadata": {},
   "outputs": [],
   "source": [
    "import sql_metadata"
   ]
  },
  {
   "cell_type": "code",
   "execution_count": 127,
   "metadata": {},
   "outputs": [],
   "source": [
    "import re\n",
    "from typing import List, Tuple, Optional, Dict\n",
    "import sqlparse\n",
    "\n",
    "from sqlparse.sql import TokenList\n",
    "from sqlparse.tokens import Name, Whitespace, Wildcard, Number, Punctuation, DDL "
   ]
  },
  {
   "cell_type": "markdown",
   "metadata": {},
   "source": [
    "# re built get_query_tokens\n",
    "need to account for multiple queries in a file"
   ]
  },
  {
   "cell_type": "code",
   "execution_count": 128,
   "metadata": {},
   "outputs": [],
   "source": [
    "def get_query_tokens(query: str) -> List[sqlparse.sql.Token]:\n",
    "    \"\"\"\n",
    "    daves changes: sqlparse.parse(query) returns a tuple if multiple queries \";\" need to handle this\n",
    "    :type query str\n",
    "    :rtype: list[{queryNoWithinFile str,  tokens: list[sqlparse.sql.Token]}\n",
    "    \"\"\"\n",
    "    query = sql_metadata.preprocess_query(query)\n",
    "    parsed = sqlparse.parse(query)\n",
    "\n",
    "    # handle empty queries (#12)\n",
    "    if not parsed:\n",
    "        return []\n",
    "\n",
    "    queries_list_and_tokens =[]\n",
    "    n=0\n",
    "    for qry in parsed:\n",
    "        tokens = TokenList(qry.tokens).flatten()\n",
    "        # print([(token.value, token.ttype) for token in tokens])\n",
    "\n",
    "        dic = {\"queryNoWithinFile\":n,\"tokens\":[token for token in tokens if token.ttype is not Whitespace]}\n",
    "        queries_list_and_tokens.append(dic)\n",
    "        n = n+1\n",
    "    return queries_list_and_tokens"
   ]
  },
  {
   "cell_type": "markdown",
   "metadata": {},
   "source": [
    "# re built get_query_tables\n",
    "i remvoed the quote removal"
   ]
  },
  {
   "cell_type": "code",
   "execution_count": 129,
   "metadata": {},
   "outputs": [],
   "source": [
    "def get_query_tables(query: str, dev=False) -> List[str]:\n",
    "    \"\"\"\n",
    "    :type query str\n",
    "    :rtype: list[str]\n",
    "    \"\"\"\n",
    "    \n",
    "\n",
    "    table_syntax_keywords = [\n",
    "        # SELECT queries\n",
    "        'FROM', 'WHERE', 'JOIN', 'INNER JOIN', 'FULL JOIN', 'FULL OUTER JOIN',\n",
    "        'LEFT OUTER JOIN', 'RIGHT OUTER JOIN',\n",
    "        'LEFT JOIN', 'RIGHT JOIN', 'ON',\n",
    "        # INSERT queries\n",
    "        'INTO', 'VALUES',\n",
    "        # UPDATE queries\n",
    "        'UPDATE', 'SET',\n",
    "        # Hive queries\n",
    "        'TABLE',  # INSERT TABLE\n",
    "        \n",
    "        \n",
    "    ]\n",
    "    \n",
    "#     print(sql_metadata.get_query_tokens(query))\n",
    "#     query = query.replace('\"', '')\n",
    "    query = sqlparse.format(query, strip_comments=True).strip()\n",
    "#     print(query)\n",
    "    queries_list_and_tokens = get_query_tokens(query)\n",
    "    \n",
    "    queries_list_and_tokens_parsed =[]\n",
    "    \n",
    "    for query_and_tokens in queries_list_and_tokens:\n",
    "        parent_table_list = []\n",
    "        parent_table_counter = 0 # increments to 2 to get schema and table\n",
    "        tables = []\n",
    "        last_keyword = None\n",
    "        last_ddl =None\n",
    "        keep_last_ddl = None\n",
    "        \n",
    "        for index, token in enumerate(query_and_tokens['tokens']):\n",
    "            if dev==True: print([token, token.ttype, last_keyword,last_ddl, token.value.upper(),parent_table_counter, last_ddl,parent_table_list])\n",
    "            if token.is_keyword and token.value.upper() in table_syntax_keywords:\n",
    "                # keep the name of the last keyword, the next one can be a table name\n",
    "                last_keyword = token.value.upper()\n",
    "#                 print('keyword', last_keyword)\n",
    "            elif str(token.ttype) == 'Token.Keyword.DDL':\n",
    "                # keep the name of the last create, the next one can be annother table to create\n",
    "                last_ddl = token.value.upper()\n",
    "                keep_last_ddl= token.value.upper()\n",
    "#                 print('keyword.lld', token.value.upper())\n",
    "            elif str(token) == '(':\n",
    "                # reset the last_keyword for INSERT `foo` VALUES(id, bar) ...\n",
    "                last_keyword = None\n",
    "            elif token.is_keyword and str(token) in ['FORCE', 'ORDER', 'GROUP BY']:\n",
    "                # reset the last_keyword for queries like:\n",
    "                # \"SELECT x FORCE INDEX\"\n",
    "                # \"SELECT x ORDER BY\"\n",
    "                # \"SELECT x FROM y GROUP BY x\"\n",
    "                last_keyword = None\n",
    "            elif token.is_keyword and str(token) == 'SELECT' and last_keyword in ['INTO', 'TABLE']:\n",
    "                # reset the last_keyword for \"INSERT INTO SELECT\" and \"INSERT TABLE SELECT\" queries\n",
    "                last_keyword = None\n",
    "#             elif (token.ttype is Name or str(token.ttype) == 'Token.Literal.String.Symbol') and last_ddl in ['CREATE','DROP']:\n",
    "            elif (token.ttype is Name or str(token.ttype) == 'Token.Literal.String.Symbol') and last_ddl != None:\n",
    "#                 print(\"found a CREATE or DROP\")\n",
    "                parent_table_list.append(str(token))\n",
    "                parent_table_counter = parent_table_counter + 1\n",
    "                if parent_table_counter > 1:\n",
    "                    last_ddl = None\n",
    "                    parent_table_counter = 0\n",
    "#                 parent_table = sql_metadata._update_table_names(tables, query_and_tokens['tokens'], index, last_keyword)\n",
    "            elif token.ttype is Name or token.ttype or token.is_keyword:\n",
    "                tables = sql_metadata._update_table_names(tables, query_and_tokens['tokens'], index, last_keyword)\n",
    "        unique_tables = sql_metadata.unique(tables)\n",
    "        dic = {\n",
    "            \"queryNoWithinFile\": query_and_tokens['queryNoWithinFile'],\n",
    "            \"tables\": unique_tables,\n",
    "            \"parent_table\": '.'.join(parent_table_list),\n",
    "            \"ddl_type\": keep_last_ddl\n",
    "        }\n",
    "        queries_list_and_tokens_parsed.append(dic)\n",
    "\n",
    "    return queries_list_and_tokens_parsed"
   ]
  },
  {
   "cell_type": "markdown",
   "metadata": {},
   "source": [
    "# working with multiple files"
   ]
  },
  {
   "cell_type": "code",
   "execution_count": 130,
   "metadata": {},
   "outputs": [],
   "source": [
    "import os\n",
    "from os import path\n",
    "from pathlib import Path"
   ]
  },
  {
   "cell_type": "markdown",
   "metadata": {},
   "source": [
    "# get all sql files"
   ]
  },
  {
   "cell_type": "code",
   "execution_count": 131,
   "metadata": {},
   "outputs": [],
   "source": [
    "files = os.listdir()"
   ]
  },
  {
   "cell_type": "code",
   "execution_count": 132,
   "metadata": {},
   "outputs": [],
   "source": [
    "files_filtered = list(filter(lambda x: re.search(r\"^.*\\.(sql)$\", x), files))"
   ]
  },
  {
   "cell_type": "markdown",
   "metadata": {},
   "source": [
    "# get all sql view depedncies"
   ]
  },
  {
   "cell_type": "markdown",
   "metadata": {},
   "source": [
    "### get all files in RAPID"
   ]
  },
  {
   "cell_type": "code",
   "execution_count": 133,
   "metadata": {},
   "outputs": [],
   "source": [
    "rapid_dirs =  ['nbn_dde_23/load/batches'] # ['nbn_dde_23/tableau_views'] # ['tableau_dde/transform/views'] # ['nbn_dde_23/tableau_views','tableau_dde/transform/views']"
   ]
  },
  {
   "cell_type": "code",
   "execution_count": 134,
   "metadata": {},
   "outputs": [
    {
     "data": {
      "text/plain": [
       "[{'fileName': 'd_location-rs_full_load.sql',\n",
       "  'path': '/home/davidgriffiths/csaa-aws-data-capability/nbn_dde_23/load/batches/d_location-rs_full_load.sql'},\n",
       " {'fileName': 'ful_nhur_v-rs_delta_load.sql',\n",
       "  'path': '/home/davidgriffiths/csaa-aws-data-capability/nbn_dde_23/load/batches/ful_nhur_v-rs_delta_load.sql'},\n",
       " {'fileName': 'td_initial_aged_incident_snapshot-rs_full_load.sql',\n",
       "  'path': '/home/davidgriffiths/csaa-aws-data-capability/nbn_dde_23/load/batches/td_initial_aged_incident_snapshot-rs_full_load.sql'}]"
      ]
     },
     "execution_count": 134,
     "metadata": {},
     "output_type": "execute_result"
    }
   ],
   "source": [
    "rapid_files = []\n",
    "for rapid_dir in rapid_dirs:\n",
    "    for dirpath, dirname, filenames in os.walk(os.path.join('/home/davidgriffiths/csaa-aws-data-capability',rapid_dir)):\n",
    "    #     print('Current path:', dirpath)\n",
    "    #     print('Directories:', dirname)\n",
    "    #     print('Files:', filenames)\n",
    "        for file in filenames:\n",
    "            file_dict = {\n",
    "                \"fileName\": file,\n",
    "                \"path\": os.path.join(dirpath,file),\n",
    "            }\n",
    "            rapid_files.append(file_dict)\n",
    "rapid_files[0:3]"
   ]
  },
  {
   "cell_type": "markdown",
   "metadata": {},
   "source": [
    "### keep only .sql files"
   ]
  },
  {
   "cell_type": "code",
   "execution_count": 135,
   "metadata": {},
   "outputs": [
    {
     "data": {
      "text/plain": [
       "[{'fileName': 'd_location-rs_full_load.sql',\n",
       "  'path': '/home/davidgriffiths/csaa-aws-data-capability/nbn_dde_23/load/batches/d_location-rs_full_load.sql'},\n",
       " {'fileName': 'ful_nhur_v-rs_delta_load.sql',\n",
       "  'path': '/home/davidgriffiths/csaa-aws-data-capability/nbn_dde_23/load/batches/ful_nhur_v-rs_delta_load.sql'},\n",
       " {'fileName': 'td_initial_aged_incident_snapshot-rs_full_load.sql',\n",
       "  'path': '/home/davidgriffiths/csaa-aws-data-capability/nbn_dde_23/load/batches/td_initial_aged_incident_snapshot-rs_full_load.sql'},\n",
       " {'fileName': 'cc_hwm_max_nbnquotacapview_v-rs_delta_load.sql',\n",
       "  'path': '/home/davidgriffiths/csaa-aws-data-capability/nbn_dde_23/load/batches/cc_hwm_max_nbnquotacapview_v-rs_delta_load.sql'},\n",
       " {'fileName': 'a_ful_order_item_v-rs_delta_load.sql',\n",
       "  'path': '/home/davidgriffiths/csaa-aws-data-capability/nbn_dde_23/load/batches/a_ful_order_item_v-rs_delta_load.sql'}]"
      ]
     },
     "execution_count": 135,
     "metadata": {},
     "output_type": "execute_result"
    }
   ],
   "source": [
    "rapid_files_filtered = list(filter(lambda x: re.search(r\"^.*\\.(sql)$\", x['fileName']), rapid_files))\n",
    "rapid_files_filtered[0:5]"
   ]
  },
  {
   "cell_type": "markdown",
   "metadata": {},
   "source": [
    "## loop through files"
   ]
  },
  {
   "cell_type": "code",
   "execution_count": 136,
   "metadata": {},
   "outputs": [],
   "source": [
    "def addQuotes(item):\n",
    "    if isinstance(item, str) and len(item) > 0:\n",
    "        if item[0] ==\"\\\"\":\n",
    "            return item\n",
    "        return f\"\\\"{item}\\\"\"\n",
    "    return item"
   ]
  },
  {
   "cell_type": "code",
   "execution_count": 137,
   "metadata": {},
   "outputs": [
    {
     "data": {
      "text/plain": [
       "'\"nbn_dde_23\".\"temp_IMPT_D_LOCATION_T\"'"
      ]
     },
     "execution_count": 137,
     "metadata": {},
     "output_type": "execute_result"
    }
   ],
   "source": [
    "# example\n",
    "parent_example = '\"nbn_dde_23\".temp_IMPT_D_LOCATION_T'\n",
    "\n",
    "addQuotes(parent_example.split('.')[0])\n",
    "\n",
    "example_map = map(addQuotes, parent_example.split('.'))\n",
    "'.'.join(list(example_map))"
   ]
  },
  {
   "cell_type": "code",
   "execution_count": 148,
   "metadata": {},
   "outputs": [
    {
     "data": {
      "text/plain": [
       "[{'fileName': 'd_location-rs_full_load.sql',\n",
       "  'name': 'd_location-rs_full_load',\n",
       "  'path': '/csaa-aws-data-capability/nbn_dde_23/load/batches/d_location-rs_full_load.sql',\n",
       "  'depnd_tables': ['\"nbn_dde_23\".\"IMPT_D_LOCATION_T\"'],\n",
       "  'parent': None,\n",
       "  'ddl_type': None},\n",
       " {'fileName': 'd_location-rs_full_load.sql',\n",
       "  'name': 'd_location-rs_full_load',\n",
       "  'path': '/csaa-aws-data-capability/nbn_dde_23/load/batches/d_location-rs_full_load.sql',\n",
       "  'depnd_tables': ['\"\\'s3://csaa-redshift-ingest-pr/historical/d_location\".\"manifest\\'\"'],\n",
       "  'parent': None,\n",
       "  'ddl_type': None},\n",
       " {'fileName': 'd_location-rs_full_load.sql',\n",
       "  'name': 'd_location-rs_full_load',\n",
       "  'path': '/csaa-aws-data-capability/nbn_dde_23/load/batches/d_location-rs_full_load.sql',\n",
       "  'depnd_tables': ['\"nbn_dde_23\".\"IMPT_D_LOCATION_T\"'],\n",
       "  'parent': None,\n",
       "  'ddl_type': None},\n",
       " {'fileName': 'd_location-rs_full_load.sql',\n",
       "  'name': 'd_location-rs_full_load',\n",
       "  'path': '/csaa-aws-data-capability/nbn_dde_23/load/batches/d_location-rs_full_load.sql',\n",
       "  'depnd_tables': ['\"if\"'],\n",
       "  'parent': '\"nbn_dde_23\".\"temp_IMPT_D_LOCATION_T\"',\n",
       "  'ddl_type': 'DROP'},\n",
       " {'fileName': 'd_location-rs_full_load.sql',\n",
       "  'name': 'd_location-rs_full_load',\n",
       "  'path': '/csaa-aws-data-capability/nbn_dde_23/load/batches/d_location-rs_full_load.sql',\n",
       "  'depnd_tables': [],\n",
       "  'parent': '\"nbn_dde_23\".\"temp_IMPT_D_LOCATION_T\"',\n",
       "  'ddl_type': 'CREATE'},\n",
       " {'fileName': 'd_location-rs_full_load.sql',\n",
       "  'name': 'd_location-rs_full_load',\n",
       "  'path': '/csaa-aws-data-capability/nbn_dde_23/load/batches/d_location-rs_full_load.sql',\n",
       "  'depnd_tables': ['\"nbn_dde_23\".\"temp_IMPT_D_LOCATION_T\"',\n",
       "   '\"nbn_dde_23\".\"IMPT_D_LOCATION_V\"'],\n",
       "  'parent': None,\n",
       "  'ddl_type': None},\n",
       " {'fileName': 'd_location-rs_full_load.sql',\n",
       "  'name': 'd_location-rs_full_load',\n",
       "  'path': '/csaa-aws-data-capability/nbn_dde_23/load/batches/d_location-rs_full_load.sql',\n",
       "  'depnd_tables': [],\n",
       "  'parent': None,\n",
       "  'ddl_type': None},\n",
       " {'fileName': 'd_location-rs_full_load.sql',\n",
       "  'name': 'd_location-rs_full_load',\n",
       "  'path': '/csaa-aws-data-capability/nbn_dde_23/load/batches/d_location-rs_full_load.sql',\n",
       "  'depnd_tables': ['\"if\"'],\n",
       "  'parent': '\"nbn_dde_23\".\"temp_d_location_t\"',\n",
       "  'ddl_type': 'DROP'},\n",
       " {'fileName': 'd_location-rs_full_load.sql',\n",
       "  'name': 'd_location-rs_full_load',\n",
       "  'path': '/csaa-aws-data-capability/nbn_dde_23/load/batches/d_location-rs_full_load.sql',\n",
       "  'depnd_tables': ['\"nbn_dde_23\".\"d_location_v\"'],\n",
       "  'parent': '\"nbn_dde_23\".\"temp_d_location_t\"',\n",
       "  'ddl_type': 'CREATE'},\n",
       " {'fileName': 'd_location-rs_full_load.sql',\n",
       "  'name': 'd_location-rs_full_load',\n",
       "  'path': '/csaa-aws-data-capability/nbn_dde_23/load/batches/d_location-rs_full_load.sql',\n",
       "  'depnd_tables': ['\"if\"'],\n",
       "  'parent': '\"nbn_dde_23\".\"D_LOCATION\"',\n",
       "  'ddl_type': 'DROP'},\n",
       " {'fileName': 'd_location-rs_full_load.sql',\n",
       "  'name': 'd_location-rs_full_load',\n",
       "  'path': '/csaa-aws-data-capability/nbn_dde_23/load/batches/d_location-rs_full_load.sql',\n",
       "  'depnd_tables': [],\n",
       "  'parent': '\"nbn_dde_23\".\"temp_d_location_t\"',\n",
       "  'ddl_type': 'ALTER'},\n",
       " {'fileName': 'd_location-rs_full_load.sql',\n",
       "  'name': 'd_location-rs_full_load',\n",
       "  'path': '/csaa-aws-data-capability/nbn_dde_23/load/batches/d_location-rs_full_load.sql',\n",
       "  'depnd_tables': ['\"nbn_dde_23\".\"D_LOCATION\"'],\n",
       "  'parent': None,\n",
       "  'ddl_type': None}]"
      ]
     },
     "execution_count": 148,
     "metadata": {},
     "output_type": "execute_result"
    }
   ],
   "source": [
    "list_of_rapid_sql_views = []\n",
    "\n",
    "def map_over_shema_table(item):\n",
    "    if item == '' or item == None: return\n",
    "    return '.'.join(list(map(addQuotes, item.split('.'))))\n",
    "\n",
    "for file in rapid_files_filtered[0:1]:\n",
    "    with open(file['path'], 'r') as f:\n",
    "        query = f.read()\n",
    "        queries_and_tables = get_query_tables(query,False)\n",
    "    \n",
    "        for qry in queries_and_tables:\n",
    "            \n",
    "            dic = {\n",
    "                'fileName': file['fileName'],\n",
    "                'name': os.path.splitext(file['fileName'])[0],\n",
    "                'path': file['path'].replace(\"/home/davidgriffiths\", \"\"),\n",
    "#                 'depnd_tables': qry['tables'],\n",
    "                'depnd_tables': list(map(map_over_shema_table,qry['tables'])),\n",
    "#                 'parent': qry[\"parent_table\"],\n",
    "#                 'parent': '.'.join(list(map(addQuotes, qry[\"parent_table\"].split('.')))),\n",
    "                'parent': map_over_shema_table(qry[\"parent_table\"]),\n",
    "                'ddl_type': qry['ddl_type']\n",
    "            }\n",
    "\n",
    "            list_of_rapid_sql_views.append(dic) \n",
    "        \n",
    "\n",
    "list_of_rapid_sql_views"
   ]
  },
  {
   "cell_type": "markdown",
   "metadata": {},
   "source": [
    "# write out as JSON"
   ]
  },
  {
   "cell_type": "code",
   "execution_count": 139,
   "metadata": {},
   "outputs": [],
   "source": [
    "import json"
   ]
  },
  {
   "cell_type": "code",
   "execution_count": 140,
   "metadata": {},
   "outputs": [],
   "source": [
    "# # loads json from string\n",
    "# datajsonstr=json.loads('{\"str\":\"str\"}')\n",
    "# datajsonstr"
   ]
  },
  {
   "cell_type": "code",
   "execution_count": 141,
   "metadata": {},
   "outputs": [],
   "source": [
    "# stringify = json.dumps(list_of_rapid_sql_views, indent=2)\n",
    "# stringify"
   ]
  },
  {
   "cell_type": "code",
   "execution_count": 142,
   "metadata": {},
   "outputs": [],
   "source": [
    "# with open('jsonfile.json') as f:\n",
    "#     data = json.load(f)"
   ]
  },
  {
   "cell_type": "code",
   "execution_count": 143,
   "metadata": {},
   "outputs": [],
   "source": [
    "with open('list_of_rapid_sql_views.json','w') as f:\n",
    "    json.dump(list_of_rapid_sql_views, f)"
   ]
  },
  {
   "cell_type": "markdown",
   "metadata": {},
   "source": [
    "# test out funny files"
   ]
  },
  {
   "cell_type": "code",
   "execution_count": 144,
   "metadata": {},
   "outputs": [],
   "source": [
    "filenamedave = '/home/davidgriffiths/csaa-aws-data-capability/nbn_dde_23/tableau_views/Tableau Incident WO Links View.sql'"
   ]
  },
  {
   "cell_type": "code",
   "execution_count": 145,
   "metadata": {},
   "outputs": [
    {
     "name": "stdout",
     "output_type": "stream",
     "text": [
      "[{'queryNoWithinFile': 0, 'tables': [], 'parent_table': 'nbn_dde_23.\"Tableau Incident WO Links View\"', 'ddl_type': 'DROP'}, {'queryNoWithinFile': 1, 'tables': ['nbn_dde_23.CSA_INCIDENT_LINKS_WO_T'], 'parent_table': 'nbn_dde_23.\"Tableau Incident WO Links View\"', 'ddl_type': 'CREATE  OR REPLACE'}]\n"
     ]
    }
   ],
   "source": [
    "with open(filenamedave, 'r') as f:\n",
    "        query = f.read()\n",
    "#         print(query)\n",
    "        tables = get_query_tables(query)\n",
    "        print(tables)"
   ]
  },
  {
   "cell_type": "markdown",
   "metadata": {},
   "source": [
    "# problem sqlparse.parse doesnt do multiple queries"
   ]
  },
  {
   "cell_type": "code",
   "execution_count": 146,
   "metadata": {},
   "outputs": [
    {
     "name": "stdout",
     "output_type": "stream",
     "text": [
      "[{'queryNoWithinFile': 0, 'tokens': [<DDL 'drop' at 0x7F4A0FC00168>, <Keyword 'view' at 0x7F4A0FC006A8>, <Keyword 'if' at 0x7F4A0FC00108>, <Keyword 'exists' at 0x7F4A2C056FA8>, <Name 'nbn_dd...' at 0x7F4A247ACAC8>, <Punctuation '.' at 0x7F4A247ACB28>, <Symbol '\"Table...' at 0x7F4A2C060168>, <Punctuation ';' at 0x7F4A2C0601C8>]}, {'queryNoWithinFile': 1, 'tokens': [<DDL 'CREATE...' at 0x7F4A2C060288>, <Keyword 'VIEW' at 0x7F4A2C060B28>, <Name 'nbn_dd...' at 0x7F4A2C060A68>, <Punctuation '.' at 0x7F4A2C060A08>, <Symbol '\"Table...' at 0x7F4A2C060828>, <Keyword 'AS' at 0x7F4A2C060768>, <DML 'SELECT' at 0x7F4A2C060708>, <Name 'INC_WO...' at 0x7F4A2C0604C8>, <Punctuation ',' at 0x7F4A2C060B88>, <Name 'INCIDE...' at 0x7F4A2C060F48>, <Punctuation ',' at 0x7F4A2C0401C8>, <Name 'APPOIN...' at 0x7F4A2C0405E8>, <Punctuation ',' at 0x7F4A2C040D08>, <Name 'WORK_R...' at 0x7F4A0FB291C8>, <Punctuation ',' at 0x7F4A0FB29528>, <Name 'WORK_O...' at 0x7F4A0FB29408>, <Punctuation ',' at 0x7F4A2C08C228>, <Name 'PRI_ID...' at 0x7F4A0FC236A8>, <Punctuation ',' at 0x7F4A0FC23948>, <Name 'PRI_KE...' at 0x7F4A0FC23A08>, <Punctuation ',' at 0x7F4A0FC23D68>, <Name 'DQ_COM...' at 0x7F4A0FC23E28>, <Keyword 'as' at 0x7F4A0FC23EE8>, <Symbol '\"Data ...' at 0x7F4A0FC23FA8>, <Punctuation ',' at 0x7F4A24791348>, <Name 'LOCATI...' at 0x7F4A24791408>, <Punctuation ',' at 0x7F4A24791768>, <Name 'APPOIN...' at 0x7F4A24791828>, <Punctuation ',' at 0x7F4A24791AC8>, <Name 'EXC_1_...' at 0x7F4A24791B88>, <Keyword 'as' at 0x7F4A24791C48>, <Symbol '\"Exclu...' at 0x7F4A24791D08>, <Punctuation ',' at 0x7F4A0FC090A8>, <Name 'EXC_2_...' at 0x7F4A0FC09168>, <Keyword 'as' at 0x7F4A0FC09228>, <Symbol '\"Exclu...' at 0x7F4A0FC092E8>, <Punctuation ',' at 0x7F4A0FC09648>, <Name 'EXC_3_...' at 0x7F4A0FC09708>, <Keyword 'as' at 0x7F4A0FC097C8>, <Symbol '\"Exclu...' at 0x7F4A0FC09888>, <Punctuation ',' at 0x7F4A0FC09BE8>, <Name 'EXC_4_...' at 0x7F4A0FC09CA8>, <Keyword 'as' at 0x7F4A0FC09D68>, <Symbol '\"Exclu...' at 0x7F4A0FC09E28>, <Punctuation ',' at 0x7F4A0FC2B1C8>, <Name 'EXC_5_...' at 0x7F4A0FC2B288>, <Keyword 'as' at 0x7F4A0FC2B348>, <Symbol '\"Exclu...' at 0x7F4A0FC2B408>, <Punctuation ',' at 0x7F4A0FC2B768>, <Name 'EXC_6_...' at 0x7F4A0FC2B828>, <Keyword 'as' at 0x7F4A0FC2B8E8>, <Symbol '\"Exclu...' at 0x7F4A0FC2B9A8>, <Punctuation ',' at 0x7F4A0FC2BD08>, <Name 'EXC_7_...' at 0x7F4A0FC2BDC8>, <Keyword 'as' at 0x7F4A0FC2BE88>, <Symbol '\"Exclu...' at 0x7F4A0FC2BF48>, <Punctuation ',' at 0x7F4A0FC0F2E8>, <Name 'EXC_8_...' at 0x7F4A0FC0F3A8>, <Keyword 'as' at 0x7F4A0FC0F468>, <Symbol '\"Exclu...' at 0x7F4A0FC0F528>, <Punctuation ',' at 0x7F4A0FC0F888>, <Name 'EXC_9_...' at 0x7F4A0FC0F948>, <Keyword 'as' at 0x7F4A0FC0FA08>, <Symbol '\"Exclu...' at 0x7F4A0FC0FAC8>, <Punctuation ',' at 0x7F4A0FC0FE28>, <Name 'EXC_10...' at 0x7F4A0FC0FEE8>, <Keyword 'as' at 0x7F4A0FC0FFA8>, <Symbol '\"Exclu...' at 0x7F4A0FC390A8>, <Punctuation ',' at 0x7F4A0FC392E8>, <Name 'Exc_11...' at 0x7F4A0FC393A8>, <Keyword 'as' at 0x7F4A0FC39468>, <Symbol '\"Exclu...' at 0x7F4A0FC39528>, <Punctuation ',' at 0x7F4A0FC39768>, <Name 'EXC_12...' at 0x7F4A0FC39828>, <Keyword 'as' at 0x7F4A0FC398E8>, <Symbol '\"Exclu...' at 0x7F4A0FC399A8>, <Punctuation ',' at 0x7F4A0FC39BE8>, <Name 'Exc_13...' at 0x7F4A0FC39CA8>, <Keyword 'as' at 0x7F4A0FC39D68>, <Symbol '\"Exclu...' at 0x7F4A0FC39E28>, <Single '--Deep...' at 0x7F4A0FC05108>]}]\n"
     ]
    }
   ],
   "source": [
    "with open(filenamedave, 'r') as f:\n",
    "        query = f.read()\n",
    "#         print(query)\n",
    "#         tables = get_query_tables(query)\n",
    "#         print(tables)\n",
    "\n",
    "        # is parsing within sql_metadata.get_query_tokens working\n",
    "#         res = sqlparse.parse(query)\n",
    "#         print(res[1]) ##  this second query isnt getting picked up\n",
    "        \n",
    "        print(get_query_tokens(query))\n",
    "        \n",
    "        "
   ]
  },
  {
   "cell_type": "code",
   "execution_count": null,
   "metadata": {},
   "outputs": [],
   "source": []
  }
 ],
 "metadata": {
  "kernelspec": {
   "display_name": "Python 3",
   "language": "python",
   "name": "python3"
  },
  "language_info": {
   "codemirror_mode": {
    "name": "ipython",
    "version": 3
   },
   "file_extension": ".py",
   "mimetype": "text/x-python",
   "name": "python",
   "nbconvert_exporter": "python",
   "pygments_lexer": "ipython3",
   "version": "3.6.10"
  }
 },
 "nbformat": 4,
 "nbformat_minor": 4
}
