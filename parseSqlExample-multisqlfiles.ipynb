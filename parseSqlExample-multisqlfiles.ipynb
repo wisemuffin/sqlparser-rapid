{
 "cells": [
  {
   "cell_type": "markdown",
   "metadata": {},
   "source": [
    "# using sqlparse to create meta data\n",
    "\n",
    "### instructions\n",
    "- git pull latest\n",
    "\n",
    "### limitations\n",
    "- [solevd] when using spaces in tables names with reserved keyworkds, e.g. case in \"tableau enc case view\"\n",
    "Have solved this by changing sq_metadata\n",
    "- COPY TRUNCATE INSERTED not supported yet example (will only pick up CREATE and DROP): /csaa-aws-data-capability/nbn_dde_23/load/batches/d_location-rs_full_load.sql. When not CREATE or DROP then Parent = None\n",
    "\n",
    "### how does this work?\n",
    "- sql files is made up of one to many sql statements\n",
    "- each sql statments is made up of tokens\n",
    "- tokens seperate out keyworkds, DML, DDL, names and puncutation ect.\n",
    "\n",
    "### output\n",
    "- parent child relationships of every single sql statement in every sql file (can be multiple)\n",
    "- example:"
   ]
  },
  {
   "cell_type": "code",
   "execution_count": 787,
   "metadata": {},
   "outputs": [
    {
     "data": {
      "text/plain": [
       "[{'fileName': 'Tableau MTM Glide Path Target View.sql',\n",
       "  'name': 'Tableau MTM Glide Path Target View',\n",
       "  'path': '/home/davidgriffiths/csaa-aws-data-capability/nbn_dde_23/tableau_views/Tableau MTM Glide Path Target View.sql',\n",
       "  'depnd_tables': [],\n",
       "  'parent': 'nbn_dde_23.\"Tableau MTM Glide Path Target View\"',\n",
       "  'ddl_type': 'DROP'}]"
      ]
     },
     "execution_count": 787,
     "metadata": {},
     "output_type": "execute_result"
    }
   ],
   "source": [
    "# example output \n",
    "[{'fileName': 'Tableau MTM Glide Path Target View.sql',\n",
    "  'name': 'Tableau MTM Glide Path Target View',\n",
    "  'path': '/home/davidgriffiths/csaa-aws-data-capability/nbn_dde_23/tableau_views/Tableau MTM Glide Path Target View.sql',\n",
    "  'depnd_tables': [],\n",
    "  'parent': 'nbn_dde_23.\"Tableau MTM Glide Path Target View\"',\n",
    "  'ddl_type': 'DROP'}]"
   ]
  },
  {
   "cell_type": "markdown",
   "metadata": {},
   "source": [
    "# setup"
   ]
  },
  {
   "cell_type": "code",
   "execution_count": 788,
   "metadata": {},
   "outputs": [
    {
     "name": "stdout",
     "output_type": "stream",
     "text": [
      "# conda environments:\n",
      "#\n",
      "base                     /home/davidgriffiths/miniconda3\n",
      "sqlparse              *  /home/davidgriffiths/miniconda3/envs/sqlparse\n",
      "\n"
     ]
    }
   ],
   "source": [
    "!conda info --envs"
   ]
  },
  {
   "cell_type": "code",
   "execution_count": 789,
   "metadata": {},
   "outputs": [],
   "source": [
    "import sql_metadata"
   ]
  },
  {
   "cell_type": "code",
   "execution_count": 790,
   "metadata": {},
   "outputs": [],
   "source": [
    "import re\n",
    "from typing import List, Tuple, Optional, Dict\n",
    "import sqlparse\n",
    "\n",
    "from sqlparse.sql import TokenList\n",
    "from sqlparse.tokens import Name, Whitespace, Wildcard, Number, Punctuation, DDL "
   ]
  },
  {
   "cell_type": "markdown",
   "metadata": {},
   "source": [
    "# re built get_query_tokens\n",
    "need to account for multiple queries in a file"
   ]
  },
  {
   "cell_type": "code",
   "execution_count": 791,
   "metadata": {},
   "outputs": [],
   "source": [
    "def get_query_tokens(query: str) -> List[sqlparse.sql.Token]:\n",
    "    \"\"\"\n",
    "    daves changes: sqlparse.parse(query) returns a tuple if multiple queries \";\" need to handle this\n",
    "    :type query str\n",
    "    :rtype: list[{queryNoWithinFile str,  tokens: list[sqlparse.sql.Token]}\n",
    "    \"\"\"\n",
    "    query = sql_metadata.preprocess_query(query)\n",
    "    parsed = sqlparse.parse(query)\n",
    "\n",
    "    # handle empty queries (#12)\n",
    "    if not parsed:\n",
    "        return []\n",
    "\n",
    "    queries_list_and_tokens =[]\n",
    "    n=0\n",
    "    for qry in parsed:\n",
    "        tokens = TokenList(qry.tokens).flatten()\n",
    "        # print([(token.value, token.ttype) for token in tokens])\n",
    "\n",
    "        dic = {\"queryNoWithinFile\":n,\"tokens\":[token for token in tokens if token.ttype is not Whitespace]}\n",
    "        queries_list_and_tokens.append(dic)\n",
    "        n = n+1\n",
    "    return queries_list_and_tokens"
   ]
  },
  {
   "cell_type": "markdown",
   "metadata": {},
   "source": [
    "# re built get_query_tables\n",
    "i remvoed the quote removal"
   ]
  },
  {
   "cell_type": "code",
   "execution_count": 792,
   "metadata": {},
   "outputs": [],
   "source": [
    "def get_query_tables(query: str, dev=False) -> List[str]:\n",
    "    \"\"\"\n",
    "    :type query str\n",
    "    :rtype: list[str]\n",
    "    \"\"\"\n",
    "    \n",
    "\n",
    "    table_syntax_keywords = [\n",
    "        # SELECT queries\n",
    "        'FROM', 'WHERE', 'JOIN', 'INNER JOIN', 'FULL JOIN', 'FULL OUTER JOIN',\n",
    "        'LEFT OUTER JOIN', 'RIGHT OUTER JOIN',\n",
    "        'LEFT JOIN', 'RIGHT JOIN', 'ON',\n",
    "        # INSERT queries\n",
    "        'INTO', 'VALUES',\n",
    "        # UPDATE queries\n",
    "        'UPDATE', 'SET',\n",
    "        # Hive queries\n",
    "        'TABLE',  # INSERT TABLE\n",
    "        \n",
    "        \n",
    "    ]\n",
    "    \n",
    "#     print(sql_metadata.get_query_tokens(query))\n",
    "#     query = query.replace('\"', '')\n",
    "    query = sqlparse.format(query, strip_comments=True).strip()\n",
    "#     print(query)\n",
    "    queries_list_and_tokens = get_query_tokens(query)\n",
    "    \n",
    "    queries_list_and_tokens_parsed =[]\n",
    "    \n",
    "    for query_and_tokens in queries_list_and_tokens:\n",
    "        parent_table_list = []\n",
    "        parent_table_counter = 0 # increments to 2 to get schema and table\n",
    "        tables = []\n",
    "        last_keyword = None\n",
    "        last_ddl =None\n",
    "        keep_last_ddl = None\n",
    "        \n",
    "        for index, token in enumerate(query_and_tokens['tokens']):\n",
    "            if dev==True: print([token, token.ttype, last_keyword,last_ddl, token.value.upper(),parent_table_counter, last_ddl,parent_table_list])\n",
    "            if token.is_keyword and token.value.upper() in table_syntax_keywords:\n",
    "                # keep the name of the last keyword, the next one can be a table name\n",
    "                last_keyword = token.value.upper()\n",
    "#                 print('keyword', last_keyword)\n",
    "            elif str(token.ttype) == 'Token.Keyword.DDL':\n",
    "                # keep the name of the last create, the next one can be annother table to create\n",
    "                last_ddl = token.value.upper()\n",
    "                keep_last_ddl= token.value.upper()\n",
    "#                 print('keyword.lld', token.value.upper())\n",
    "            elif str(token) == '(':\n",
    "                # reset the last_keyword for INSERT `foo` VALUES(id, bar) ...\n",
    "                last_keyword = None\n",
    "            elif token.is_keyword and str(token) in ['FORCE', 'ORDER', 'GROUP BY']:\n",
    "                # reset the last_keyword for queries like:\n",
    "                # \"SELECT x FORCE INDEX\"\n",
    "                # \"SELECT x ORDER BY\"\n",
    "                # \"SELECT x FROM y GROUP BY x\"\n",
    "                last_keyword = None\n",
    "            elif token.is_keyword and str(token) == 'SELECT' and last_keyword in ['INTO', 'TABLE']:\n",
    "                # reset the last_keyword for \"INSERT INTO SELECT\" and \"INSERT TABLE SELECT\" queries\n",
    "                last_keyword = None\n",
    "            elif (token.ttype is Name or str(token.ttype) == 'Token.Literal.String.Symbol') and last_ddl in ['CREATE','DROP']:\n",
    "#                 print(\"found a CREATE or DROP\")\n",
    "                parent_table_list.append(str(token))\n",
    "                parent_table_counter = parent_table_counter + 1\n",
    "                if parent_table_counter > 1:\n",
    "                    last_ddl = None\n",
    "                    parent_table_counter = 0\n",
    "#                 parent_table = sql_metadata._update_table_names(tables, query_and_tokens['tokens'], index, last_keyword)\n",
    "            elif token.ttype is Name or token.ttype or token.is_keyword:\n",
    "                tables = sql_metadata._update_table_names(tables, query_and_tokens['tokens'], index, last_keyword)\n",
    "        unique_tables = sql_metadata.unique(tables)\n",
    "        dic = {\n",
    "            \"queryNoWithinFile\": query_and_tokens['queryNoWithinFile'],\n",
    "            \"tables\": unique_tables,\n",
    "            \"parent_table\": '.'.join(parent_table_list),\n",
    "            \"ddl_type\": keep_last_ddl\n",
    "        }\n",
    "        queries_list_and_tokens_parsed.append(dic)\n",
    "\n",
    "    return queries_list_and_tokens_parsed"
   ]
  },
  {
   "cell_type": "markdown",
   "metadata": {},
   "source": [
    "# working with multiple files"
   ]
  },
  {
   "cell_type": "code",
   "execution_count": 793,
   "metadata": {},
   "outputs": [],
   "source": [
    "import os\n",
    "from os import path\n",
    "from pathlib import Path"
   ]
  },
  {
   "cell_type": "markdown",
   "metadata": {},
   "source": [
    "# get all sql files"
   ]
  },
  {
   "cell_type": "code",
   "execution_count": 794,
   "metadata": {},
   "outputs": [],
   "source": [
    "files = os.listdir()"
   ]
  },
  {
   "cell_type": "code",
   "execution_count": 795,
   "metadata": {},
   "outputs": [],
   "source": [
    "files_filtered = list(filter(lambda x: re.search(r\"^.*\\.(sql)$\", x), files))"
   ]
  },
  {
   "cell_type": "markdown",
   "metadata": {},
   "source": [
    "# get all sql view depedncies"
   ]
  },
  {
   "cell_type": "markdown",
   "metadata": {},
   "source": [
    "### get all files in RAPID"
   ]
  },
  {
   "cell_type": "code",
   "execution_count": 796,
   "metadata": {},
   "outputs": [],
   "source": [
    "rapid_dirs =  ['nbn_dde_23/load/batches'] # ['nbn_dde_23/tableau_views'] # ['tableau_dde/transform/views'] # ['nbn_dde_23/tableau_views','tableau_dde/transform/views']"
   ]
  },
  {
   "cell_type": "code",
   "execution_count": 797,
   "metadata": {},
   "outputs": [
    {
     "data": {
      "text/plain": [
       "[{'fileName': 'd_location-rs_full_load.sql',\n",
       "  'path': '/home/davidgriffiths/csaa-aws-data-capability/nbn_dde_23/load/batches/d_location-rs_full_load.sql'},\n",
       " {'fileName': 'ful_nhur_v-rs_delta_load.sql',\n",
       "  'path': '/home/davidgriffiths/csaa-aws-data-capability/nbn_dde_23/load/batches/ful_nhur_v-rs_delta_load.sql'},\n",
       " {'fileName': 'td_initial_aged_incident_snapshot-rs_full_load.sql',\n",
       "  'path': '/home/davidgriffiths/csaa-aws-data-capability/nbn_dde_23/load/batches/td_initial_aged_incident_snapshot-rs_full_load.sql'}]"
      ]
     },
     "execution_count": 797,
     "metadata": {},
     "output_type": "execute_result"
    }
   ],
   "source": [
    "rapid_files = []\n",
    "for rapid_dir in rapid_dirs:\n",
    "    for dirpath, dirname, filenames in os.walk(os.path.join('/home/davidgriffiths/csaa-aws-data-capability',rapid_dir)):\n",
    "    #     print('Current path:', dirpath)\n",
    "    #     print('Directories:', dirname)\n",
    "    #     print('Files:', filenames)\n",
    "        for file in filenames:\n",
    "            file_dict = {\n",
    "                \"fileName\": file,\n",
    "                \"path\": os.path.join(dirpath,file),\n",
    "            }\n",
    "            rapid_files.append(file_dict)\n",
    "rapid_files[0:3]"
   ]
  },
  {
   "cell_type": "markdown",
   "metadata": {},
   "source": [
    "### keep only .sql files"
   ]
  },
  {
   "cell_type": "code",
   "execution_count": 798,
   "metadata": {},
   "outputs": [
    {
     "data": {
      "text/plain": [
       "[{'fileName': 'd_location-rs_full_load.sql',\n",
       "  'path': '/home/davidgriffiths/csaa-aws-data-capability/nbn_dde_23/load/batches/d_location-rs_full_load.sql'},\n",
       " {'fileName': 'ful_nhur_v-rs_delta_load.sql',\n",
       "  'path': '/home/davidgriffiths/csaa-aws-data-capability/nbn_dde_23/load/batches/ful_nhur_v-rs_delta_load.sql'},\n",
       " {'fileName': 'td_initial_aged_incident_snapshot-rs_full_load.sql',\n",
       "  'path': '/home/davidgriffiths/csaa-aws-data-capability/nbn_dde_23/load/batches/td_initial_aged_incident_snapshot-rs_full_load.sql'},\n",
       " {'fileName': 'cc_hwm_max_nbnquotacapview_v-rs_delta_load.sql',\n",
       "  'path': '/home/davidgriffiths/csaa-aws-data-capability/nbn_dde_23/load/batches/cc_hwm_max_nbnquotacapview_v-rs_delta_load.sql'},\n",
       " {'fileName': 'a_ful_order_item_v-rs_delta_load.sql',\n",
       "  'path': '/home/davidgriffiths/csaa-aws-data-capability/nbn_dde_23/load/batches/a_ful_order_item_v-rs_delta_load.sql'}]"
      ]
     },
     "execution_count": 798,
     "metadata": {},
     "output_type": "execute_result"
    }
   ],
   "source": [
    "rapid_files_filtered = list(filter(lambda x: re.search(r\"^.*\\.(sql)$\", x['fileName']), rapid_files))\n",
    "rapid_files_filtered[0:5]"
   ]
  },
  {
   "cell_type": "markdown",
   "metadata": {},
   "source": [
    "## loop through files"
   ]
  },
  {
   "cell_type": "code",
   "execution_count": 799,
   "metadata": {},
   "outputs": [],
   "source": [
    "def addQuotes(item):\n",
    "    if isinstance(item, str) and len(item) > 0:\n",
    "        if item[0] ==\"\\\"\":\n",
    "            return item\n",
    "        return f\"\\\"{item}\\\"\"\n",
    "    return item"
   ]
  },
  {
   "cell_type": "code",
   "execution_count": 800,
   "metadata": {},
   "outputs": [
    {
     "data": {
      "text/plain": [
       "'\"nbn_dde_23\".\"temp_IMPT_D_LOCATION_T\"'"
      ]
     },
     "execution_count": 800,
     "metadata": {},
     "output_type": "execute_result"
    }
   ],
   "source": [
    "# example\n",
    "parent_example = '\"nbn_dde_23\".temp_IMPT_D_LOCATION_T'\n",
    "\n",
    "addQuotes(parent_example.split('.')[0])\n",
    "\n",
    "example_map = map(addQuotes, parent_example.split('.'))\n",
    "'.'.join(list(example_map))"
   ]
  },
  {
   "cell_type": "code",
   "execution_count": 801,
   "metadata": {},
   "outputs": [
    {
     "data": {
      "text/plain": [
       "[{'fileName': 'd_location-rs_full_load.sql',\n",
       "  'name': 'd_location-rs_full_load',\n",
       "  'path': '/csaa-aws-data-capability/nbn_dde_23/load/batches/d_location-rs_full_load.sql',\n",
       "  'depnd_tables': ['\"nbn_dde_23\".\"IMPT_D_LOCATION_T\"'],\n",
       "  'parent': None,\n",
       "  'ddl_type': None},\n",
       " {'fileName': 'd_location-rs_full_load.sql',\n",
       "  'name': 'd_location-rs_full_load',\n",
       "  'path': '/csaa-aws-data-capability/nbn_dde_23/load/batches/d_location-rs_full_load.sql',\n",
       "  'depnd_tables': ['\"\\'s3://csaa-redshift-ingest-pr/historical/d_location\".\"manifest\\'\"'],\n",
       "  'parent': None,\n",
       "  'ddl_type': None},\n",
       " {'fileName': 'd_location-rs_full_load.sql',\n",
       "  'name': 'd_location-rs_full_load',\n",
       "  'path': '/csaa-aws-data-capability/nbn_dde_23/load/batches/d_location-rs_full_load.sql',\n",
       "  'depnd_tables': ['\"nbn_dde_23\".\"IMPT_D_LOCATION_T\"'],\n",
       "  'parent': None,\n",
       "  'ddl_type': None},\n",
       " {'fileName': 'd_location-rs_full_load.sql',\n",
       "  'name': 'd_location-rs_full_load',\n",
       "  'path': '/csaa-aws-data-capability/nbn_dde_23/load/batches/d_location-rs_full_load.sql',\n",
       "  'depnd_tables': ['\"if\"'],\n",
       "  'parent': '\"nbn_dde_23\".\"temp_IMPT_D_LOCATION_T\"',\n",
       "  'ddl_type': 'DROP'},\n",
       " {'fileName': 'd_location-rs_full_load.sql',\n",
       "  'name': 'd_location-rs_full_load',\n",
       "  'path': '/csaa-aws-data-capability/nbn_dde_23/load/batches/d_location-rs_full_load.sql',\n",
       "  'depnd_tables': [],\n",
       "  'parent': '\"nbn_dde_23\".\"temp_IMPT_D_LOCATION_T\"',\n",
       "  'ddl_type': 'CREATE'}]"
      ]
     },
     "execution_count": 801,
     "metadata": {},
     "output_type": "execute_result"
    }
   ],
   "source": [
    "list_of_rapid_sql_views = []\n",
    "\n",
    "def map_over_shema_table(item):\n",
    "    if item == '' or item == None: return\n",
    "    return '.'.join(list(map(addQuotes, item.split('.'))))\n",
    "\n",
    "for file in rapid_files_filtered:\n",
    "    with open(file['path'], 'r') as f:\n",
    "        query = f.read()\n",
    "        queries_and_tables = get_query_tables(query,False)\n",
    "    \n",
    "        for qry in queries_and_tables:\n",
    "            \n",
    "            dic = {\n",
    "                'fileName': file['fileName'],\n",
    "                'name': os.path.splitext(file['fileName'])[0],\n",
    "                'path': file['path'].replace(\"/home/davidgriffiths\", \"\"),\n",
    "#                 'depnd_tables': qry['tables'],\n",
    "                'depnd_tables': list(map(map_over_shema_table,qry['tables'])),\n",
    "#                 'parent': qry[\"parent_table\"],\n",
    "#                 'parent': '.'.join(list(map(addQuotes, qry[\"parent_table\"].split('.')))),\n",
    "                'parent': map_over_shema_table(qry[\"parent_table\"]),\n",
    "                'ddl_type': qry['ddl_type']\n",
    "            }\n",
    "\n",
    "            list_of_rapid_sql_views.append(dic) \n",
    "        \n",
    "\n",
    "list_of_rapid_sql_views[0:5]"
   ]
  },
  {
   "cell_type": "markdown",
   "metadata": {},
   "source": [
    "# write out as JSON"
   ]
  },
  {
   "cell_type": "code",
   "execution_count": 802,
   "metadata": {},
   "outputs": [],
   "source": [
    "import json"
   ]
  },
  {
   "cell_type": "code",
   "execution_count": 803,
   "metadata": {},
   "outputs": [],
   "source": [
    "# # loads json from string\n",
    "# datajsonstr=json.loads('{\"str\":\"str\"}')\n",
    "# datajsonstr"
   ]
  },
  {
   "cell_type": "code",
   "execution_count": 804,
   "metadata": {},
   "outputs": [],
   "source": [
    "# stringify = json.dumps(list_of_rapid_sql_views, indent=2)\n",
    "# stringify"
   ]
  },
  {
   "cell_type": "code",
   "execution_count": 805,
   "metadata": {},
   "outputs": [],
   "source": [
    "# with open('jsonfile.json') as f:\n",
    "#     data = json.load(f)"
   ]
  },
  {
   "cell_type": "code",
   "execution_count": 806,
   "metadata": {},
   "outputs": [],
   "source": [
    "with open('list_of_rapid_sql_views.json','w') as f:\n",
    "    json.dump(list_of_rapid_sql_views, f)"
   ]
  },
  {
   "cell_type": "markdown",
   "metadata": {},
   "source": [
    "# test out funny files"
   ]
  },
  {
   "cell_type": "code",
   "execution_count": 807,
   "metadata": {},
   "outputs": [],
   "source": [
    "filenamedave = '/home/davidgriffiths/csaa-aws-data-capability/nbn_dde_23/tableau_views/Tableau Incident WO Links View.sql'"
   ]
  },
  {
   "cell_type": "code",
   "execution_count": 808,
   "metadata": {},
   "outputs": [
    {
     "name": "stdout",
     "output_type": "stream",
     "text": [
      "[{'queryNoWithinFile': 0, 'tables': [], 'parent_table': 'nbn_dde_23.\"Tableau Incident WO Links View\"', 'ddl_type': 'DROP'}, {'queryNoWithinFile': 1, 'tables': ['nbn_dde_23.CSA_INCIDENT_LINKS_WO_T'], 'parent_table': '', 'ddl_type': 'CREATE  OR REPLACE'}]\n"
     ]
    }
   ],
   "source": [
    "with open(filenamedave, 'r') as f:\n",
    "        query = f.read()\n",
    "#         print(query)\n",
    "        tables = get_query_tables(query)\n",
    "        print(tables)"
   ]
  },
  {
   "cell_type": "markdown",
   "metadata": {},
   "source": [
    "# problem sqlparse.parse doesnt do multiple queries"
   ]
  },
  {
   "cell_type": "code",
   "execution_count": 809,
   "metadata": {},
   "outputs": [
    {
     "name": "stdout",
     "output_type": "stream",
     "text": [
      "[{'queryNoWithinFile': 0, 'tokens': [<DDL 'drop' at 0x7F7FDD68A9A8>, <Keyword 'view' at 0x7F7FDC2705E8>, <Keyword 'if' at 0x7F7FDC270D08>, <Keyword 'exists' at 0x7F7FDC270708>, <Name 'nbn_dd...' at 0x7F7FDC270A08>, <Punctuation '.' at 0x7F7FDC270D68>, <Symbol '\"Table...' at 0x7F7FDC270BE8>, <Punctuation ';' at 0x7F7FDC270FA8>]}, {'queryNoWithinFile': 1, 'tokens': [<DDL 'CREATE...' at 0x7F7FDC2706A8>, <Keyword 'VIEW' at 0x7F7FDC2708E8>, <Name 'nbn_dd...' at 0x7F7FDC270828>, <Punctuation '.' at 0x7F7FDC2704C8>, <Symbol '\"Table...' at 0x7F7FDC270588>, <Keyword 'AS' at 0x7F7FDC270DC8>, <DML 'SELECT' at 0x7F7FDC270E28>, <Name 'INC_WO...' at 0x7F7FDD8A5FA8>, <Punctuation ',' at 0x7F7FDD8A5A08>, <Name 'INCIDE...' at 0x7F7FDDAF7048>, <Punctuation ',' at 0x7F7FDDAF7168>, <Name 'APPOIN...' at 0x7F7FDDAF7768>, <Punctuation ',' at 0x7F7FDC49B288>, <Name 'WORK_R...' at 0x7F7FDC49BBE8>, <Punctuation ',' at 0x7F7FDC49BAC8>, <Name 'WORK_O...' at 0x7F7FDC49B9A8>, <Punctuation ',' at 0x7F7FDC49B4C8>, <Name 'PRI_ID...' at 0x7F7FDDB45E28>, <Punctuation ',' at 0x7F7FDDB45948>, <Name 'PRI_KE...' at 0x7F7FDDB45D68>, <Punctuation ',' at 0x7F7FDDB451C8>, <Name 'DQ_COM...' at 0x7F7FDDB45FA8>, <Keyword 'as' at 0x7F7FDDB45168>, <Symbol '\"Data ...' at 0x7F7FDDB45468>, <Punctuation ',' at 0x7F7FCF98BD68>, <Name 'LOCATI...' at 0x7F7FCF98B108>, <Punctuation ',' at 0x7F7FCF98BDC8>, <Name 'APPOIN...' at 0x7F7FCF98BEE8>, <Punctuation ',' at 0x7F7FCFADB0A8>, <Name 'EXC_1_...' at 0x7F7FCFADBA08>, <Keyword 'as' at 0x7F7FCFADB3A8>, <Symbol '\"Exclu...' at 0x7F7FCFADBBE8>, <Punctuation ',' at 0x7F7FCFADB648>, <Name 'EXC_2_...' at 0x7F7FCFADB168>, <Keyword 'as' at 0x7F7FCFF2DBE8>, <Symbol '\"Exclu...' at 0x7F7FCFF2D408>, <Punctuation ',' at 0x7F7FCFF2DC48>, <Name 'EXC_3_...' at 0x7F7FCFF2D648>, <Keyword 'as' at 0x7F7FCFF2DA08>, <Symbol '\"Exclu...' at 0x7F7FCFF2DB28>, <Punctuation ',' at 0x7F7FCFF2D948>, <Name 'EXC_4_...' at 0x7F7FCFF2DA68>, <Keyword 'as' at 0x7F7FCFF2D468>, <Symbol '\"Exclu...' at 0x7F7FCFF2DAC8>, <Punctuation ',' at 0x7F7FDC120CA8>, <Name 'EXC_5_...' at 0x7F7FDC120108>, <Keyword 'as' at 0x7F7FDC120BE8>, <Symbol '\"Exclu...' at 0x7F7FDC1206A8>, <Punctuation ',' at 0x7F7FDC1200A8>, <Name 'EXC_6_...' at 0x7F7FDC120B28>, <Keyword 'as' at 0x7F7FDC1201C8>, <Symbol '\"Exclu...' at 0x7F7FDC1208E8>, <Punctuation ',' at 0x7F7FCFA7B1C8>, <Name 'EXC_7_...' at 0x7F7FCFA7B768>, <Keyword 'as' at 0x7F7FCFA7B0A8>, <Symbol '\"Exclu...' at 0x7F7FCFA7BD68>, <Punctuation ',' at 0x7F7FDD8B5B88>, <Name 'EXC_8_...' at 0x7F7FDD8B5D68>, <Keyword 'as' at 0x7F7FDD8B5648>, <Symbol '\"Exclu...' at 0x7F7FDD8B51C8>, <Punctuation ',' at 0x7F7FDD8B57C8>, <Name 'EXC_9_...' at 0x7F7FDD8B5CA8>, <Keyword 'as' at 0x7F7FDD8B5C48>, <Symbol '\"Exclu...' at 0x7F7FDD8B58E8>, <Punctuation ',' at 0x7F7FDD8B5828>, <Name 'EXC_10...' at 0x7F7FDD8B5948>, <Keyword 'as' at 0x7F7FDC0E4168>, <Symbol '\"Exclu...' at 0x7F7FDC0E4CA8>, <Punctuation ',' at 0x7F7FDC0E40A8>, <Name 'Exc_11...' at 0x7F7FDC0E4648>, <Keyword 'as' at 0x7F7FDC0E4D08>, <Symbol '\"Exclu...' at 0x7F7FDC0E4D68>, <Punctuation ',' at 0x7F7FDC0E45E8>, <Name 'EXC_12...' at 0x7F7FDC0E4468>, <Keyword 'as' at 0x7F7FDC0E4BE8>, <Symbol '\"Exclu...' at 0x7F7FDC0E4E88>, <Punctuation ',' at 0x7F7FDC0E4588>, <Name 'Exc_13...' at 0x7F7FDC0E4A08>, <Keyword 'as' at 0x7F7FDC0E4048>, <Symbol '\"Exclu...' at 0x7F7FDC0E4768>, <Single '--Deep...' at 0x7F7FCFB46048>]}]\n"
     ]
    }
   ],
   "source": [
    "with open(filenamedave, 'r') as f:\n",
    "        query = f.read()\n",
    "#         print(query)\n",
    "#         tables = get_query_tables(query)\n",
    "#         print(tables)\n",
    "\n",
    "        # is parsing within sql_metadata.get_query_tokens working\n",
    "#         res = sqlparse.parse(query)\n",
    "#         print(res[1]) ##  this second query isnt getting picked up\n",
    "        \n",
    "        print(get_query_tokens(query))\n",
    "        \n",
    "        "
   ]
  },
  {
   "cell_type": "code",
   "execution_count": null,
   "metadata": {},
   "outputs": [],
   "source": []
  }
 ],
 "metadata": {
  "kernelspec": {
   "display_name": "Python 3",
   "language": "python",
   "name": "python3"
  },
  "language_info": {
   "codemirror_mode": {
    "name": "ipython",
    "version": 3
   },
   "file_extension": ".py",
   "mimetype": "text/x-python",
   "name": "python",
   "nbconvert_exporter": "python",
   "pygments_lexer": "ipython3",
   "version": "3.6.10"
  }
 },
 "nbformat": 4,
 "nbformat_minor": 4
}
