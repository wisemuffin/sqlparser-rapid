{
 "cells": [
  {
   "cell_type": "markdown",
   "metadata": {},
   "source": [
    "# using sqlparse to create meta data\n",
    "\n",
    "### instructions\n",
    "- git pull latest\n",
    "\n",
    "### limitations\n",
    "- [solevd] when using spaces in tables names with reserved keyworkds, e.g. case in \"tableau enc case view\"\n",
    "Have solved this by changing sq_metadata\n",
    "- COPY TRUNCATE INSERTED not supported yet example (will only pick up CREATE and DROP): /csaa-aws-data-capability/nbn_dde_23/load/batches/d_location-rs_full_load.sql\n",
    "\n",
    "### how does this work?\n",
    "- sql files is made up of one to many sql statements\n",
    "- each sql statments is made up of tokens\n",
    "- tokens seperate out keyworkds, DML, DDL, names and puncutation ect.\n",
    "\n",
    "### output\n",
    "- parent child relationships of every single sql statement in every sql file (can be multiple)\n",
    "- example:"
   ]
  },
  {
   "cell_type": "code",
   "execution_count": 674,
   "metadata": {},
   "outputs": [
    {
     "data": {
      "text/plain": [
       "[{'fileName': 'Tableau MTM Glide Path Target View.sql',\n",
       "  'name': 'Tableau MTM Glide Path Target View',\n",
       "  'path': '/home/davidgriffiths/csaa-aws-data-capability/nbn_dde_23/tableau_views/Tableau MTM Glide Path Target View.sql',\n",
       "  'depnd_tables': [],\n",
       "  'parent': 'nbn_dde_23.\"Tableau MTM Glide Path Target View\"',\n",
       "  'ddl_type': 'DROP'}]"
      ]
     },
     "execution_count": 674,
     "metadata": {},
     "output_type": "execute_result"
    }
   ],
   "source": [
    "# example output \n",
    "[{'fileName': 'Tableau MTM Glide Path Target View.sql',\n",
    "  'name': 'Tableau MTM Glide Path Target View',\n",
    "  'path': '/home/davidgriffiths/csaa-aws-data-capability/nbn_dde_23/tableau_views/Tableau MTM Glide Path Target View.sql',\n",
    "  'depnd_tables': [],\n",
    "  'parent': 'nbn_dde_23.\"Tableau MTM Glide Path Target View\"',\n",
    "  'ddl_type': 'DROP'}]"
   ]
  },
  {
   "cell_type": "markdown",
   "metadata": {},
   "source": [
    "# setup"
   ]
  },
  {
   "cell_type": "code",
   "execution_count": 675,
   "metadata": {},
   "outputs": [
    {
     "name": "stdout",
     "output_type": "stream",
     "text": [
      "# conda environments:\n",
      "#\n",
      "base                     /home/davidgriffiths/miniconda3\n",
      "sqlparse              *  /home/davidgriffiths/miniconda3/envs/sqlparse\n",
      "\n"
     ]
    }
   ],
   "source": [
    "!conda info --envs"
   ]
  },
  {
   "cell_type": "code",
   "execution_count": 676,
   "metadata": {},
   "outputs": [],
   "source": [
    "import sql_metadata"
   ]
  },
  {
   "cell_type": "code",
   "execution_count": 677,
   "metadata": {},
   "outputs": [],
   "source": [
    "import re\n",
    "from typing import List, Tuple, Optional, Dict\n",
    "import sqlparse\n",
    "\n",
    "from sqlparse.sql import TokenList\n",
    "from sqlparse.tokens import Name, Whitespace, Wildcard, Number, Punctuation, DDL "
   ]
  },
  {
   "cell_type": "markdown",
   "metadata": {},
   "source": [
    "# re built get_query_tokens\n",
    "need to account for multiple queries in a file"
   ]
  },
  {
   "cell_type": "code",
   "execution_count": 678,
   "metadata": {},
   "outputs": [],
   "source": [
    "def get_query_tokens(query: str) -> List[sqlparse.sql.Token]:\n",
    "    \"\"\"\n",
    "    daves changes: sqlparse.parse(query) returns a tuple if multiple queries \";\" need to handle this\n",
    "    :type query str\n",
    "    :rtype: list[{queryNoWithinFile str,  tokens: list[sqlparse.sql.Token]}\n",
    "    \"\"\"\n",
    "    query = sql_metadata.preprocess_query(query)\n",
    "    parsed = sqlparse.parse(query)\n",
    "\n",
    "    # handle empty queries (#12)\n",
    "    if not parsed:\n",
    "        return []\n",
    "\n",
    "    queries_list_and_tokens =[]\n",
    "    n=0\n",
    "    for qry in parsed:\n",
    "        tokens = TokenList(qry.tokens).flatten()\n",
    "        # print([(token.value, token.ttype) for token in tokens])\n",
    "\n",
    "        dic = {\"queryNoWithinFile\":n,\"tokens\":[token for token in tokens if token.ttype is not Whitespace]}\n",
    "        queries_list_and_tokens.append(dic)\n",
    "        n = n+1\n",
    "    return queries_list_and_tokens"
   ]
  },
  {
   "cell_type": "markdown",
   "metadata": {},
   "source": [
    "# re built get_query_tables\n",
    "i remvoed the quote removal"
   ]
  },
  {
   "cell_type": "code",
   "execution_count": 679,
   "metadata": {},
   "outputs": [],
   "source": [
    "def get_query_tables(query: str, dev=False) -> List[str]:\n",
    "    \"\"\"\n",
    "    :type query str\n",
    "    :rtype: list[str]\n",
    "    \"\"\"\n",
    "    \n",
    "\n",
    "    table_syntax_keywords = [\n",
    "        # SELECT queries\n",
    "        'FROM', 'WHERE', 'JOIN', 'INNER JOIN', 'FULL JOIN', 'FULL OUTER JOIN',\n",
    "        'LEFT OUTER JOIN', 'RIGHT OUTER JOIN',\n",
    "        'LEFT JOIN', 'RIGHT JOIN', 'ON',\n",
    "        # INSERT queries\n",
    "        'INTO', 'VALUES',\n",
    "        # UPDATE queries\n",
    "        'UPDATE', 'SET',\n",
    "        # Hive queries\n",
    "        'TABLE',  # INSERT TABLE\n",
    "        \n",
    "        \n",
    "    ]\n",
    "    \n",
    "#     print(sql_metadata.get_query_tokens(query))\n",
    "#     query = query.replace('\"', '')\n",
    "    query = sqlparse.format(query, strip_comments=True).strip()\n",
    "#     print(query)\n",
    "    queries_list_and_tokens = get_query_tokens(query)\n",
    "    \n",
    "    queries_list_and_tokens_parsed =[]\n",
    "    \n",
    "    for query_and_tokens in queries_list_and_tokens:\n",
    "        parent_table_list = []\n",
    "        parent_table_counter = 0 # increments to 2 to get schema and table\n",
    "        tables = []\n",
    "        last_keyword = None\n",
    "        last_ddl =None\n",
    "        keep_last_ddl = None\n",
    "        \n",
    "        for index, token in enumerate(query_and_tokens['tokens']):\n",
    "            if dev==True: print([token, token.ttype, last_keyword,last_ddl, token.value.upper(),parent_table_counter, last_ddl])\n",
    "            if token.is_keyword and token.value.upper() in table_syntax_keywords:\n",
    "                # keep the name of the last keyword, the next one can be a table name\n",
    "                last_keyword = token.value.upper()\n",
    "#                 print('keyword', last_keyword)\n",
    "            elif str(token.ttype) == 'Token.Keyword.DDL':\n",
    "                # keep the name of the last create, the next one can be annother table to create\n",
    "                last_ddl = token.value.upper()\n",
    "                keep_last_ddl= token.value.upper()\n",
    "#                 print('keyword.lld', token.value.upper())\n",
    "            elif str(token) == '(':\n",
    "                # reset the last_keyword for INSERT `foo` VALUES(id, bar) ...\n",
    "                last_keyword = None\n",
    "            elif token.is_keyword and str(token) in ['FORCE', 'ORDER', 'GROUP BY']:\n",
    "                # reset the last_keyword for queries like:\n",
    "                # \"SELECT x FORCE INDEX\"\n",
    "                # \"SELECT x ORDER BY\"\n",
    "                # \"SELECT x FROM y GROUP BY x\"\n",
    "                last_keyword = None\n",
    "            elif token.is_keyword and str(token) == 'SELECT' and last_keyword in ['INTO', 'TABLE']:\n",
    "                # reset the last_keyword for \"INSERT INTO SELECT\" and \"INSERT TABLE SELECT\" queries\n",
    "                last_keyword = None\n",
    "            elif (token.ttype is Name or str(token.ttype) == 'Token.Literal.String.Symbol') and last_ddl in ['CREATE','DROP']:\n",
    "#                 print(\"found a CREATE or DROP\")\n",
    "                parent_table_list.append(str(token))\n",
    "                parent_table_counter = parent_table_counter + 1\n",
    "                if parent_table_counter > 1:\n",
    "                    last_ddl = None\n",
    "                    parent_table_counter = 0\n",
    "#                 parent_table = sql_metadata._update_table_names(tables, query_and_tokens['tokens'], index, last_keyword)\n",
    "            elif token.ttype is Name or token.ttype or token.is_keyword:\n",
    "                tables = sql_metadata._update_table_names(tables, query_and_tokens['tokens'], index, last_keyword)\n",
    "        unique_tables = sql_metadata.unique(tables)\n",
    "        dic = {\n",
    "            \"queryNoWithinFile\": query_and_tokens['queryNoWithinFile'],\n",
    "            \"tables\": unique_tables,\n",
    "            \"parent_table\": '.'.join(parent_table_list),\n",
    "            \"ddl_type\": keep_last_ddl\n",
    "        }\n",
    "        queries_list_and_tokens_parsed.append(dic)\n",
    "\n",
    "    return queries_list_and_tokens_parsed"
   ]
  },
  {
   "cell_type": "markdown",
   "metadata": {},
   "source": [
    "# working with multiple files"
   ]
  },
  {
   "cell_type": "code",
   "execution_count": 680,
   "metadata": {},
   "outputs": [],
   "source": [
    "import os\n",
    "from os import path\n",
    "from pathlib import Path"
   ]
  },
  {
   "cell_type": "markdown",
   "metadata": {},
   "source": [
    "# get all sql files"
   ]
  },
  {
   "cell_type": "code",
   "execution_count": 681,
   "metadata": {},
   "outputs": [],
   "source": [
    "files = os.listdir()"
   ]
  },
  {
   "cell_type": "code",
   "execution_count": 682,
   "metadata": {},
   "outputs": [],
   "source": [
    "files_filtered = list(filter(lambda x: re.search(r\"^.*\\.(sql)$\", x), files))"
   ]
  },
  {
   "cell_type": "markdown",
   "metadata": {},
   "source": [
    "# get all sql view depedncies"
   ]
  },
  {
   "cell_type": "markdown",
   "metadata": {},
   "source": [
    "### get all files in RAPID"
   ]
  },
  {
   "cell_type": "code",
   "execution_count": 683,
   "metadata": {},
   "outputs": [],
   "source": [
    "rapid_dirs = ['tableau_dde/transform/views'] # ['nbn_dde_23/load/batches'] # ['nbn_dde_23/tableau_views'] # ['tableau_dde/transform/views'] # ['nbn_dde_23/tableau_views','tableau_dde/transform/views']"
   ]
  },
  {
   "cell_type": "code",
   "execution_count": 684,
   "metadata": {},
   "outputs": [
    {
     "data": {
      "text/plain": [
       "[{'fileName': 'tableau_fld_a11s_minified_xs_v.sql',\n",
       "  'path': '/home/davidgriffiths/csaa-aws-data-capability/tableau_dde/transform/views/tableau_fld_a11s_minified_xs_v.sql'},\n",
       " {'fileName': 'tableau_fld_a11s_minified_v.sql',\n",
       "  'path': '/home/davidgriffiths/csaa-aws-data-capability/tableau_dde/transform/views/tableau_fld_a11s_minified_v.sql'},\n",
       " {'fileName': 'tableau_csa_a26a_minified_repeat_tr_v.sql',\n",
       "  'path': '/home/davidgriffiths/csaa-aws-data-capability/tableau_dde/transform/views/tableau_csa_a26a_minified_repeat_tr_v.sql'}]"
      ]
     },
     "execution_count": 684,
     "metadata": {},
     "output_type": "execute_result"
    }
   ],
   "source": [
    "rapid_files = []\n",
    "for rapid_dir in rapid_dirs:\n",
    "    for dirpath, dirname, filenames in os.walk(os.path.join('/home/davidgriffiths/csaa-aws-data-capability',rapid_dir)):\n",
    "    #     print('Current path:', dirpath)\n",
    "    #     print('Directories:', dirname)\n",
    "    #     print('Files:', filenames)\n",
    "        for file in filenames:\n",
    "            file_dict = {\n",
    "                \"fileName\": file,\n",
    "                \"path\": os.path.join(dirpath,file),\n",
    "            }\n",
    "            rapid_files.append(file_dict)\n",
    "rapid_files[0:3]"
   ]
  },
  {
   "cell_type": "markdown",
   "metadata": {},
   "source": [
    "### keep only .sql files"
   ]
  },
  {
   "cell_type": "code",
   "execution_count": 685,
   "metadata": {},
   "outputs": [
    {
     "data": {
      "text/plain": [
       "[{'fileName': 'tableau_fld_a11s_minified_xs_v.sql',\n",
       "  'path': '/home/davidgriffiths/csaa-aws-data-capability/tableau_dde/transform/views/tableau_fld_a11s_minified_xs_v.sql'},\n",
       " {'fileName': 'tableau_fld_a11s_minified_v.sql',\n",
       "  'path': '/home/davidgriffiths/csaa-aws-data-capability/tableau_dde/transform/views/tableau_fld_a11s_minified_v.sql'},\n",
       " {'fileName': 'tableau_csa_a26a_minified_repeat_tr_v.sql',\n",
       "  'path': '/home/davidgriffiths/csaa-aws-data-capability/tableau_dde/transform/views/tableau_csa_a26a_minified_repeat_tr_v.sql'},\n",
       " {'fileName': 'tableau_neto_a11s_minified_service_rollback_v.sql',\n",
       "  'path': '/home/davidgriffiths/csaa-aws-data-capability/tableau_dde/transform/views/tableau_neto_a11s_minified_service_rollback_v.sql'},\n",
       " {'fileName': 'tableau_fld_a10_minified_otd_v.sql',\n",
       "  'path': '/home/davidgriffiths/csaa-aws-data-capability/tableau_dde/transform/views/tableau_fld_a10_minified_otd_v.sql'}]"
      ]
     },
     "execution_count": 685,
     "metadata": {},
     "output_type": "execute_result"
    }
   ],
   "source": [
    "rapid_files_filtered = list(filter(lambda x: re.search(r\"^.*\\.(sql)$\", x['fileName']), rapid_files))\n",
    "rapid_files_filtered[0:5]"
   ]
  },
  {
   "cell_type": "markdown",
   "metadata": {},
   "source": [
    "## loop through files"
   ]
  },
  {
   "cell_type": "code",
   "execution_count": 686,
   "metadata": {},
   "outputs": [],
   "source": [
    "def addQuotes(item):\n",
    "    if isinstance(item, str) and len(item) > 0:\n",
    "        if item[0] ==\"\\\"\":\n",
    "            return item\n",
    "        return f\"\\\"{item}\\\"\"\n",
    "    return item"
   ]
  },
  {
   "cell_type": "code",
   "execution_count": 687,
   "metadata": {},
   "outputs": [
    {
     "data": {
      "text/plain": [
       "'\"nbn_dde_23\".\"temp_IMPT_D_LOCATION_T\"'"
      ]
     },
     "execution_count": 687,
     "metadata": {},
     "output_type": "execute_result"
    }
   ],
   "source": [
    "# example\n",
    "parent_example = '\"nbn_dde_23\".temp_IMPT_D_LOCATION_T'\n",
    "\n",
    "addQuotes(parent_example.split('.')[0])\n",
    "\n",
    "example_map = map(addQuotes, parent_example.split('.'))\n",
    "'.'.join(list(example_map))"
   ]
  },
  {
   "cell_type": "code",
   "execution_count": 688,
   "metadata": {},
   "outputs": [
    {
     "data": {
      "text/plain": [
       "[{'fileName': 'tableau_fld_a11s_minified_xs_v.sql',\n",
       "  'name': 'tableau_fld_a11s_minified_xs_v',\n",
       "  'path': '/csaa-aws-data-capability/tableau_dde/transform/views/tableau_fld_a11s_minified_xs_v.sql',\n",
       "  'depnd_tables': ['\"tableau_dde\".\"tableau_fld_a11s_minified_t\"'],\n",
       "  'parent': None,\n",
       "  'ddl_type': 'CREATE OR REPLACE'},\n",
       " {'fileName': 'tableau_fld_a11s_minified_v.sql',\n",
       "  'name': 'tableau_fld_a11s_minified_v',\n",
       "  'path': '/csaa-aws-data-capability/tableau_dde/transform/views/tableau_fld_a11s_minified_v.sql',\n",
       "  'depnd_tables': ['\"field_dde\".\"tableau field daily snapshot view\"',\n",
       "   '\"field_dde\".\"tableau field order incidents only links view\"',\n",
       "   '\"cc_dde\".\"tableau location view\"',\n",
       "   '\"cc_dde\".\"tableau cc orders view\"',\n",
       "   '\"cc_dde\".\"tableau product instance view\"',\n",
       "   '\"cc_dde\".\"tableau cc order additional attributes view\"',\n",
       "   '\"field_dde\".\"tableau field work order view\"',\n",
       "   '\"nbn_dde_23\".\"tableau incidents view\"',\n",
       "   '\"nbn_dde_23\".\"tableau incident additional attributes view\"',\n",
       "   '\"cc_dde\".\"tableau cc wo resolver group view\"',\n",
       "   '\"tt20\"',\n",
       "   '\"FLDA11SM_PRE\"'],\n",
       "  'parent': None,\n",
       "  'ddl_type': 'CREATE OR REPLACE'},\n",
       " {'fileName': 'tableau_csa_a26a_minified_repeat_tr_v.sql',\n",
       "  'name': 'tableau_csa_a26a_minified_repeat_tr_v',\n",
       "  'path': '/csaa-aws-data-capability/tableau_dde/transform/views/tableau_csa_a26a_minified_repeat_tr_v.sql',\n",
       "  'depnd_tables': ['\"nbn_dde_23\".\"tableau repeat incidents view\"',\n",
       "   '\"nbn_dde_23\".\"tableau location view\"',\n",
       "   '\"nbn_dde_23\".\"tableau incidents view\"',\n",
       "   '\"nbn_dde_23\".\"tableau incident location links view\"',\n",
       "   '\"nbn_dde_23\".\"tableau prior product instance view\"',\n",
       "   '\"nbn_dde_23\".\"tableau prior incidents view\"',\n",
       "   '\"nbn_dde_23\".\"tableau prior incident additional attributes view\"',\n",
       "   '\"nbn_dde_23\".\"tableau product instance view\"',\n",
       "   '\"nbn_dde_23\".\"tableau incident additional attributes view\"',\n",
       "   '\"bia_sa_stg\".\"genesys_agent_team_mapping_v\"',\n",
       "   '\"tt10\"',\n",
       "   '\"tt20\"',\n",
       "   '\"tt35\"',\n",
       "   '\"tt50\"',\n",
       "   '\"tt40\"',\n",
       "   '\"tt60\"',\n",
       "   '\"tt70\"',\n",
       "   '\"tt80\"',\n",
       "   '\"tt10\".\"*\"',\n",
       "   '\"tt80\".\"repeat_sequence_number\"',\n",
       "   '\"tt80\".\"location_seq_valid\"',\n",
       "   '\"tt80\".\"last_incident_in_Set\"',\n",
       "   '\"tt80\".\"repeat_Set\"'],\n",
       "  'parent': None,\n",
       "  'ddl_type': 'CREATE OR REPLACE'}]"
      ]
     },
     "execution_count": 688,
     "metadata": {},
     "output_type": "execute_result"
    }
   ],
   "source": [
    "list_of_rapid_sql_views = []\n",
    "\n",
    "def map_over_shema_table(item):\n",
    "    if item == '' or item == None: return\n",
    "    return '.'.join(list(map(addQuotes, item.split('.'))))\n",
    "\n",
    "for file in rapid_files_filtered[0:3]:\n",
    "    with open(file['path'], 'r') as f:\n",
    "        query = f.read()\n",
    "        queries_and_tables = get_query_tables(query,False)\n",
    "    \n",
    "        for qry in queries_and_tables:\n",
    "            \n",
    "            dic = {\n",
    "                'fileName': file['fileName'],\n",
    "                'name': os.path.splitext(file['fileName'])[0],\n",
    "                'path': file['path'].replace(\"/home/davidgriffiths\", \"\"),\n",
    "#                 'depnd_tables': qry['tables'],\n",
    "                'depnd_tables': list(map(map_over_shema_table,qry['tables'])),\n",
    "#                 'parent': qry[\"parent_table\"],\n",
    "#                 'parent': '.'.join(list(map(addQuotes, qry[\"parent_table\"].split('.')))),\n",
    "                'parent': map_over_shema_table(qry[\"parent_table\"]),\n",
    "                'ddl_type': qry['ddl_type']\n",
    "            }\n",
    "\n",
    "            list_of_rapid_sql_views.append(dic) \n",
    "        \n",
    "\n",
    "list_of_rapid_sql_views[0:5]"
   ]
  },
  {
   "cell_type": "markdown",
   "metadata": {},
   "source": [
    "# write out as JSON"
   ]
  },
  {
   "cell_type": "code",
   "execution_count": 689,
   "metadata": {},
   "outputs": [],
   "source": [
    "import json"
   ]
  },
  {
   "cell_type": "code",
   "execution_count": 690,
   "metadata": {},
   "outputs": [],
   "source": [
    "# # loads json from string\n",
    "# datajsonstr=json.loads('{\"str\":\"str\"}')\n",
    "# datajsonstr"
   ]
  },
  {
   "cell_type": "code",
   "execution_count": 691,
   "metadata": {},
   "outputs": [],
   "source": [
    "# stringify = json.dumps(list_of_rapid_sql_views, indent=2)\n",
    "# stringify"
   ]
  },
  {
   "cell_type": "code",
   "execution_count": 692,
   "metadata": {},
   "outputs": [],
   "source": [
    "# with open('jsonfile.json') as f:\n",
    "#     data = json.load(f)"
   ]
  },
  {
   "cell_type": "code",
   "execution_count": 693,
   "metadata": {},
   "outputs": [],
   "source": [
    "with open('list_of_rapid_sql_views.json','w') as f:\n",
    "    json.dump(list_of_rapid_sql_views, f)"
   ]
  },
  {
   "cell_type": "markdown",
   "metadata": {},
   "source": [
    "# test out funny files"
   ]
  },
  {
   "cell_type": "code",
   "execution_count": 694,
   "metadata": {},
   "outputs": [],
   "source": [
    "filenamedave = '/home/davidgriffiths/csaa-aws-data-capability/nbn_dde_23/tableau_views/Tableau Incident WO Links View.sql'"
   ]
  },
  {
   "cell_type": "code",
   "execution_count": 695,
   "metadata": {},
   "outputs": [
    {
     "name": "stdout",
     "output_type": "stream",
     "text": [
      "[{'queryNoWithinFile': 0, 'tables': [], 'parent_table': 'nbn_dde_23.\"Tableau Incident WO Links View\"', 'ddl_type': 'DROP'}, {'queryNoWithinFile': 1, 'tables': ['nbn_dde_23.CSA_INCIDENT_LINKS_WO_T'], 'parent_table': '', 'ddl_type': 'CREATE  OR REPLACE'}]\n"
     ]
    }
   ],
   "source": [
    "with open(filenamedave, 'r') as f:\n",
    "        query = f.read()\n",
    "#         print(query)\n",
    "        tables = get_query_tables(query)\n",
    "        print(tables)"
   ]
  },
  {
   "cell_type": "markdown",
   "metadata": {},
   "source": [
    "# problem sqlparse.parse doesnt do multiple queries"
   ]
  },
  {
   "cell_type": "code",
   "execution_count": 696,
   "metadata": {},
   "outputs": [
    {
     "name": "stdout",
     "output_type": "stream",
     "text": [
      "[{'queryNoWithinFile': 0, 'tokens': [<DDL 'drop' at 0x7F7FDDA50EE8>, <Keyword 'view' at 0x7F7FCFAC0CA8>, <Keyword 'if' at 0x7F7FCFAC0C48>, <Keyword 'exists' at 0x7F7FCFAC0B88>, <Name 'nbn_dd...' at 0x7F7FDD3DF1C8>, <Punctuation '.' at 0x7F7FDC4C3708>, <Symbol '\"Table...' at 0x7F7FDC4C3588>, <Punctuation ';' at 0x7F7FCF785108>]}, {'queryNoWithinFile': 1, 'tokens': [<DDL 'CREATE...' at 0x7F7FDC131A68>, <Keyword 'VIEW' at 0x7F7FDC131BE8>, <Name 'nbn_dd...' at 0x7F7FDC131B88>, <Punctuation '.' at 0x7F7FDD7585E8>, <Symbol '\"Table...' at 0x7F7FDD7583A8>, <Keyword 'AS' at 0x7F7FDD758C48>, <DML 'SELECT' at 0x7F7FDD7586A8>, <Name 'INC_WO...' at 0x7F7FDD7582E8>, <Punctuation ',' at 0x7F7FCFEBD1C8>, <Name 'INCIDE...' at 0x7F7FCFEBD888>, <Punctuation ',' at 0x7F7FDD3BE408>, <Name 'APPOIN...' at 0x7F7FDD380048>, <Punctuation ',' at 0x7F7FDD95A888>, <Name 'WORK_R...' at 0x7F7FDD95A2E8>, <Punctuation ',' at 0x7F7FDD8CEA68>, <Name 'WORK_O...' at 0x7F7FDD8CEBE8>, <Punctuation ',' at 0x7F7FDD75C108>, <Name 'PRI_ID...' at 0x7F7FDC1AB1C8>, <Punctuation ',' at 0x7F7FDC1AB408>, <Name 'PRI_KE...' at 0x7F7FDC1AB4C8>, <Punctuation ',' at 0x7F7FDC1AB828>, <Name 'DQ_COM...' at 0x7F7FDC1AB8E8>, <Keyword 'as' at 0x7F7FDC1AB9A8>, <Symbol '\"Data ...' at 0x7F7FDC1ABA68>, <Punctuation ',' at 0x7F7FDC1ABDC8>, <Name 'LOCATI...' at 0x7F7FDC1ABE88>, <Punctuation ',' at 0x7F7FDC1BE228>, <Name 'APPOIN...' at 0x7F7FDC1BE2E8>, <Punctuation ',' at 0x7F7FDC1BE648>, <Name 'EXC_1_...' at 0x7F7FDC1BE708>, <Keyword 'as' at 0x7F7FDC1BE7C8>, <Symbol '\"Exclu...' at 0x7F7FDC1BE888>, <Punctuation ',' at 0x7F7FDC1BEBE8>, <Name 'EXC_2_...' at 0x7F7FDC1BECA8>, <Keyword 'as' at 0x7F7FDC1BED68>, <Symbol '\"Exclu...' at 0x7F7FDC1BEE28>, <Punctuation ',' at 0x7F7FDC1971C8>, <Name 'EXC_3_...' at 0x7F7FDC197288>, <Keyword 'as' at 0x7F7FDC197348>, <Symbol '\"Exclu...' at 0x7F7FDC197408>, <Punctuation ',' at 0x7F7FDC197768>, <Name 'EXC_4_...' at 0x7F7FDC197828>, <Keyword 'as' at 0x7F7FDC1978E8>, <Symbol '\"Exclu...' at 0x7F7FDC1979A8>, <Punctuation ',' at 0x7F7FDC197D08>, <Name 'EXC_5_...' at 0x7F7FDC197DC8>, <Keyword 'as' at 0x7F7FDC197E88>, <Symbol '\"Exclu...' at 0x7F7FDC197F48>, <Punctuation ',' at 0x7F7FDC1AF2E8>, <Name 'EXC_6_...' at 0x7F7FDC1AF3A8>, <Keyword 'as' at 0x7F7FDC1AF468>, <Symbol '\"Exclu...' at 0x7F7FDC1AF528>, <Punctuation ',' at 0x7F7FDC1AF888>, <Name 'EXC_7_...' at 0x7F7FDC1AF948>, <Keyword 'as' at 0x7F7FDC1AFA08>, <Symbol '\"Exclu...' at 0x7F7FDC1AFAC8>, <Punctuation ',' at 0x7F7FDC1AFE28>, <Name 'EXC_8_...' at 0x7F7FDC1AFEE8>, <Keyword 'as' at 0x7F7FDC1AFFA8>, <Symbol '\"Exclu...' at 0x7F7FDC1BC0A8>, <Punctuation ',' at 0x7F7FDC1BC408>, <Name 'EXC_9_...' at 0x7F7FDC1BC4C8>, <Keyword 'as' at 0x7F7FDC1BC588>, <Symbol '\"Exclu...' at 0x7F7FDC1BC648>, <Punctuation ',' at 0x7F7FDC1BC9A8>, <Name 'EXC_10...' at 0x7F7FDC1BCA68>, <Keyword 'as' at 0x7F7FDC1BCB28>, <Symbol '\"Exclu...' at 0x7F7FDC1BCBE8>, <Punctuation ',' at 0x7F7FDC1BCE28>, <Name 'Exc_11...' at 0x7F7FDC1BCEE8>, <Keyword 'as' at 0x7F7FDC1BCFA8>, <Symbol '\"Exclu...' at 0x7F7FDC1C40A8>, <Punctuation ',' at 0x7F7FDC1C42E8>, <Name 'EXC_12...' at 0x7F7FDC1C43A8>, <Keyword 'as' at 0x7F7FDC1C4468>, <Symbol '\"Exclu...' at 0x7F7FDC1C4528>, <Punctuation ',' at 0x7F7FDC1C4768>, <Name 'Exc_13...' at 0x7F7FDC1C4828>, <Keyword 'as' at 0x7F7FDC1C48E8>, <Symbol '\"Exclu...' at 0x7F7FDC1C49A8>, <Single '--Deep...' at 0x7F7FDC1C4C48>]}]\n"
     ]
    }
   ],
   "source": [
    "with open(filenamedave, 'r') as f:\n",
    "        query = f.read()\n",
    "#         print(query)\n",
    "#         tables = get_query_tables(query)\n",
    "#         print(tables)\n",
    "\n",
    "        # is parsing within sql_metadata.get_query_tokens working\n",
    "#         res = sqlparse.parse(query)\n",
    "#         print(res[1]) ##  this second query isnt getting picked up\n",
    "        \n",
    "        print(get_query_tokens(query))\n",
    "        \n",
    "        "
   ]
  },
  {
   "cell_type": "code",
   "execution_count": null,
   "metadata": {},
   "outputs": [],
   "source": []
  }
 ],
 "metadata": {
  "kernelspec": {
   "display_name": "Python 3",
   "language": "python",
   "name": "python3"
  },
  "language_info": {
   "codemirror_mode": {
    "name": "ipython",
    "version": 3
   },
   "file_extension": ".py",
   "mimetype": "text/x-python",
   "name": "python",
   "nbconvert_exporter": "python",
   "pygments_lexer": "ipython3",
   "version": "3.6.10"
  }
 },
 "nbformat": 4,
 "nbformat_minor": 4
}
