{
 "cells": [
  {
   "cell_type": "markdown",
   "metadata": {},
   "source": [
    "# using sqlparse to create meta data\n",
    "limitations\n",
    "- when using spaces in tables names with reserved keyworkds, e.g. case in \"tableau enc case view\"\n",
    "\n",
    "Have solved this by changing sq_metadata"
   ]
  },
  {
   "cell_type": "code",
   "execution_count": 30,
   "metadata": {},
   "outputs": [
    {
     "name": "stdout",
     "output_type": "stream",
     "text": [
      "# conda environments:\n",
      "#\n",
      "base                     /home/davidgriffiths/miniconda3\n",
      "sqlparse              *  /home/davidgriffiths/miniconda3/envs/sqlparse\n",
      "\n"
     ]
    }
   ],
   "source": [
    "!conda info --envs"
   ]
  },
  {
   "cell_type": "code",
   "execution_count": 31,
   "metadata": {},
   "outputs": [],
   "source": [
    "import sql_metadata"
   ]
  },
  {
   "cell_type": "code",
   "execution_count": 32,
   "metadata": {},
   "outputs": [],
   "source": [
    "import re\n",
    "from typing import List, Tuple, Optional, Dict\n",
    "import sqlparse\n",
    "\n",
    "from sqlparse.sql import TokenList\n",
    "from sqlparse.tokens import Name, Whitespace, Wildcard, Number, Punctuation"
   ]
  },
  {
   "cell_type": "markdown",
   "metadata": {},
   "source": [
    "# re built get_query_tables\n",
    "i remvoed the quote removal"
   ]
  },
  {
   "cell_type": "code",
   "execution_count": 33,
   "metadata": {},
   "outputs": [],
   "source": [
    "def get_query_tables(query: str) -> List[str]:\n",
    "    \"\"\"\n",
    "    :type query str\n",
    "    :rtype: list[str]\n",
    "    \"\"\"\n",
    "    tables = []\n",
    "    last_keyword = None\n",
    "\n",
    "    table_syntax_keywords = [\n",
    "        # SELECT queries\n",
    "        'FROM', 'WHERE', 'JOIN', 'INNER JOIN', 'FULL JOIN', 'FULL OUTER JOIN',\n",
    "        'LEFT OUTER JOIN', 'RIGHT OUTER JOIN',\n",
    "        'LEFT JOIN', 'RIGHT JOIN', 'ON',\n",
    "        # INSERT queries\n",
    "        'INTO', 'VALUES',\n",
    "        # UPDATE queries\n",
    "        'UPDATE', 'SET',\n",
    "        # Hive queries\n",
    "        'TABLE',  # INSERT TABLE\n",
    "    ]\n",
    "\n",
    "    # print(query, get_query_tokens(query))\n",
    "#     query = query.replace('\"', '')\n",
    "    tokens = sql_metadata.get_query_tokens(query)\n",
    "\n",
    "    for index, token in enumerate(tokens):\n",
    "#         print([token, token.ttype, last_keyword])\n",
    "        if token.is_keyword and token.value.upper() in table_syntax_keywords:\n",
    "            # keep the name of the last keyword, the next one can be a table name\n",
    "            last_keyword = token.value.upper()\n",
    "            # print('keyword', last_keyword)\n",
    "        elif str(token) == '(':\n",
    "            # reset the last_keyword for INSERT `foo` VALUES(id, bar) ...\n",
    "            last_keyword = None\n",
    "        elif token.is_keyword and str(token) in ['FORCE', 'ORDER', 'GROUP BY']:\n",
    "            # reset the last_keyword for queries like:\n",
    "            # \"SELECT x FORCE INDEX\"\n",
    "            # \"SELECT x ORDER BY\"\n",
    "            # \"SELECT x FROM y GROUP BY x\"\n",
    "            last_keyword = None\n",
    "        elif token.is_keyword and str(token) == 'SELECT' and last_keyword in ['INTO', 'TABLE']:\n",
    "            # reset the last_keyword for \"INSERT INTO SELECT\" and \"INSERT TABLE SELECT\" queries\n",
    "            last_keyword = None\n",
    "        elif token.ttype is Name or token.ttype or token.is_keyword:\n",
    "            tables = sql_metadata._update_table_names(tables, tokens, index, last_keyword)\n",
    "\n",
    "    return sql_metadata.unique(tables)"
   ]
  },
  {
   "cell_type": "markdown",
   "metadata": {},
   "source": [
    "# working with multiple files"
   ]
  },
  {
   "cell_type": "code",
   "execution_count": 34,
   "metadata": {},
   "outputs": [],
   "source": [
    "import os\n",
    "from os import path\n",
    "from pathlib import Path"
   ]
  },
  {
   "cell_type": "markdown",
   "metadata": {},
   "source": [
    "# get all sql files"
   ]
  },
  {
   "cell_type": "code",
   "execution_count": 35,
   "metadata": {},
   "outputs": [],
   "source": [
    "files = os.listdir()"
   ]
  },
  {
   "cell_type": "code",
   "execution_count": 39,
   "metadata": {},
   "outputs": [],
   "source": [
    "files_filtered = list(filter(lambda x: re.search(r\"^.*\\.(sql)$\", x), files))"
   ]
  },
  {
   "cell_type": "markdown",
   "metadata": {},
   "source": [
    "# for each file read and parse out tables"
   ]
  },
  {
   "cell_type": "code",
   "execution_count": 40,
   "metadata": {},
   "outputs": [
    {
     "name": "stdout",
     "output_type": "stream",
     "text": [
      "['\"enc_dde\".\"tableau enc case field links view\"', '\"enc_dde\".\"tableau enc case view\"', '\"enc_dde\".\"tableau enc case snapshot view\"', '\"nbn_dde_23\".\"tableau location view\"']\n"
     ]
    }
   ],
   "source": [
    "with open('untitled.sql', 'r') as f:\n",
    "    query = f.read()\n",
    "    tables = get_query_tables(query)\n",
    "    print(tables)"
   ]
  },
  {
   "cell_type": "code",
   "execution_count": 44,
   "metadata": {},
   "outputs": [
    {
     "data": {
      "text/plain": [
       "[{'name': 'untitled.sql',\n",
       "  'depnd_tables': ['\"enc_dde\".\"tableau enc case field links view\"',\n",
       "   '\"enc_dde\".\"tableau enc case view\"',\n",
       "   '\"enc_dde\".\"tableau enc case snapshot view\"',\n",
       "   '\"nbn_dde_23\".\"tableau location view\"']},\n",
       " {'name': 'untitled-Copy1.sql',\n",
       "  'depnd_tables': ['\"enc_dde\".\"tableau enc case field dave view\"',\n",
       "   '\"enc_dde\".\"tableau dave view\"',\n",
       "   '\"enc_dde\".\"tableau dave\"',\n",
       "   '\"nbn_dde_23\".\"tableau dave loc view\"']}]"
      ]
     },
     "execution_count": 44,
     "metadata": {},
     "output_type": "execute_result"
    }
   ],
   "source": [
    "list_of_sql_views = []\n",
    "\n",
    "for file in files_filtered:\n",
    "    with open(file, 'r') as f:\n",
    "        query = f.read()\n",
    "        tables = get_query_tables(query)\n",
    "        \n",
    "        # create a dict\n",
    "        dic = {}\n",
    "        dic['name'] = file\n",
    "        dic['depnd_tables'] = tables\n",
    "        list_of_sql_views.append(dic)\n",
    "\n",
    "list_of_sql_views  "
   ]
  },
  {
   "cell_type": "markdown",
   "metadata": {},
   "source": [
    "# write out as JSON"
   ]
  },
  {
   "cell_type": "markdown",
   "metadata": {},
   "source": [
    "# get airflow dependcies"
   ]
  },
  {
   "cell_type": "code",
   "execution_count": null,
   "metadata": {},
   "outputs": [],
   "source": []
  }
 ],
 "metadata": {
  "kernelspec": {
   "display_name": "Python 3",
   "language": "python",
   "name": "python3"
  },
  "language_info": {
   "codemirror_mode": {
    "name": "ipython",
    "version": 3
   },
   "file_extension": ".py",
   "mimetype": "text/x-python",
   "name": "python",
   "nbconvert_exporter": "python",
   "pygments_lexer": "ipython3",
   "version": "3.6.10"
  }
 },
 "nbformat": 4,
 "nbformat_minor": 4
}
